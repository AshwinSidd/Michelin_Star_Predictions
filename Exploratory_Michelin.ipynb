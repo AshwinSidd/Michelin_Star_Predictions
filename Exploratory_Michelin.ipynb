{
 "cells": [
  {
   "cell_type": "markdown",
   "id": "0242b81b",
   "metadata": {},
   "source": [
    "# Exploratory Michelin Star"
   ]
  },
  {
   "cell_type": "code",
   "execution_count": 1,
   "id": "9d2b5f1f",
   "metadata": {},
   "outputs": [],
   "source": [
    "#import the dependencies"
   ]
  },
  {
   "cell_type": "code",
   "execution_count": null,
   "id": "90ec7b26",
   "metadata": {},
   "outputs": [],
   "source": [
    "#import the data"
   ]
  },
  {
   "cell_type": "code",
   "execution_count": 3,
   "id": "793b1e77",
   "metadata": {},
   "outputs": [],
   "source": [
    "#create a list of file names to loop through"
   ]
  },
  {
   "cell_type": "code",
   "execution_count": 5,
   "id": "fea4c0e9",
   "metadata": {},
   "outputs": [],
   "source": [
    "#create an empty DF that will eventually hold the 3 files (perm-DF)"
   ]
  },
  {
   "cell_type": "code",
   "execution_count": 6,
   "id": "58177110",
   "metadata": {},
   "outputs": [],
   "source": [
    "#create a function to :\n",
    "    #loop through the different files (based on the list)\n",
    "    #clear the temp DF\n",
    "    #import the information to temp datafram\n",
    "    #write a lambda function to indicate the # of stars based on the file name (index on list +1?)\n",
    "    #create a location-key \n",
    "    #append to the perm-DF"
   ]
  },
  {
   "cell_type": "code",
   "execution_count": null,
   "id": "fab58c24",
   "metadata": {},
   "outputs": [],
   "source": [
    "# Clean the data"
   ]
  },
  {
   "cell_type": "code",
   "execution_count": 8,
   "id": "ce06c19d",
   "metadata": {},
   "outputs": [],
   "source": [
    "#join with the zomato based on location key"
   ]
  }
 ],
 "metadata": {
  "kernelspec": {
   "display_name": "PythonData",
   "language": "python",
   "name": "pythondata"
  },
  "language_info": {
   "codemirror_mode": {
    "name": "ipython",
    "version": 3
   },
   "file_extension": ".py",
   "mimetype": "text/x-python",
   "name": "python",
   "nbconvert_exporter": "python",
   "pygments_lexer": "ipython3",
   "version": "3.7.10"
  }
 },
 "nbformat": 4,
 "nbformat_minor": 5
}
