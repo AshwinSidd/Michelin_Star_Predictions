{
 "cells": [
  {
   "cell_type": "markdown",
   "id": "1aa567c9",
   "metadata": {},
   "source": [
    "# Preliminary Analysis\n",
    "\n",
    "#### To test different models using a preliminary dataset of the mock restaurant data"
   ]
  },
  {
   "cell_type": "code",
   "execution_count": 1,
   "id": "05adba1a",
   "metadata": {},
   "outputs": [],
   "source": [
    "import numpy as np\n",
    "import pandas as pd\n",
    "from path import Path\n",
    "import matplotlib.pyplot as plt\n",
    "%matplotlib inline\n",
    "\n",
    "import sklearn\n",
    "from sklearn.model_selection import train_test_split\n",
    "from sklearn.preprocessing import StandardScaler\n",
    "from sklearn.metrics import accuracy_score"
   ]
  },
  {
   "cell_type": "code",
   "execution_count": 2,
   "id": "e52e4766",
   "metadata": {},
   "outputs": [
    {
     "data": {
      "text/html": [
       "<div>\n",
       "<style scoped>\n",
       "    .dataframe tbody tr th:only-of-type {\n",
       "        vertical-align: middle;\n",
       "    }\n",
       "\n",
       "    .dataframe tbody tr th {\n",
       "        vertical-align: top;\n",
       "    }\n",
       "\n",
       "    .dataframe thead th {\n",
       "        text-align: right;\n",
       "    }\n",
       "</style>\n",
       "<table border=\"1\" class=\"dataframe\">\n",
       "  <thead>\n",
       "    <tr style=\"text-align: right;\">\n",
       "      <th></th>\n",
       "      <th>Unnamed: 0</th>\n",
       "      <th>awards</th>\n",
       "      <th>price_level</th>\n",
       "      <th>vegetarian_friendly</th>\n",
       "      <th>avg_rating</th>\n",
       "      <th>total_reviews_count</th>\n",
       "      <th>service</th>\n",
       "    </tr>\n",
       "  </thead>\n",
       "  <tbody>\n",
       "    <tr>\n",
       "      <th>0</th>\n",
       "      <td>478379</td>\n",
       "      <td>1</td>\n",
       "      <td>2.0</td>\n",
       "      <td>Y</td>\n",
       "      <td>4.5</td>\n",
       "      <td>347.0</td>\n",
       "      <td>4.5</td>\n",
       "    </tr>\n",
       "    <tr>\n",
       "      <th>1</th>\n",
       "      <td>478384</td>\n",
       "      <td>0</td>\n",
       "      <td>2.0</td>\n",
       "      <td>N</td>\n",
       "      <td>3.5</td>\n",
       "      <td>32.0</td>\n",
       "      <td>3.5</td>\n",
       "    </tr>\n",
       "    <tr>\n",
       "      <th>2</th>\n",
       "      <td>478386</td>\n",
       "      <td>0</td>\n",
       "      <td>2.0</td>\n",
       "      <td>Y</td>\n",
       "      <td>4.0</td>\n",
       "      <td>101.0</td>\n",
       "      <td>4.5</td>\n",
       "    </tr>\n",
       "    <tr>\n",
       "      <th>3</th>\n",
       "      <td>478389</td>\n",
       "      <td>1</td>\n",
       "      <td>2.0</td>\n",
       "      <td>Y</td>\n",
       "      <td>4.5</td>\n",
       "      <td>104.0</td>\n",
       "      <td>4.5</td>\n",
       "    </tr>\n",
       "    <tr>\n",
       "      <th>4</th>\n",
       "      <td>478392</td>\n",
       "      <td>0</td>\n",
       "      <td>2.0</td>\n",
       "      <td>Y</td>\n",
       "      <td>3.5</td>\n",
       "      <td>34.0</td>\n",
       "      <td>3.0</td>\n",
       "    </tr>\n",
       "  </tbody>\n",
       "</table>\n",
       "</div>"
      ],
      "text/plain": [
       "   Unnamed: 0  awards  price_level vegetarian_friendly  avg_rating  \\\n",
       "0      478379       1          2.0                   Y         4.5   \n",
       "1      478384       0          2.0                   N         3.5   \n",
       "2      478386       0          2.0                   Y         4.0   \n",
       "3      478389       1          2.0                   Y         4.5   \n",
       "4      478392       0          2.0                   Y         3.5   \n",
       "\n",
       "   total_reviews_count  service  \n",
       "0                347.0      4.5  \n",
       "1                 32.0      3.5  \n",
       "2                101.0      4.5  \n",
       "3                104.0      4.5  \n",
       "4                 34.0      3.0  "
      ]
     },
     "execution_count": 2,
     "metadata": {},
     "output_type": "execute_result"
    }
   ],
   "source": [
    "data = Path('Resources/clean_britian_restaurants.csv')\n",
    "df = pd.read_csv(data)\n",
    "df.head()"
   ]
  },
  {
   "cell_type": "code",
   "execution_count": 3,
   "id": "943459e6",
   "metadata": {},
   "outputs": [],
   "source": [
    "df = df.drop(columns=['Unnamed: 0'])"
   ]
  },
  {
   "cell_type": "code",
   "execution_count": 4,
   "id": "609bef30",
   "metadata": {},
   "outputs": [
    {
     "data": {
      "text/html": [
       "<div>\n",
       "<style scoped>\n",
       "    .dataframe tbody tr th:only-of-type {\n",
       "        vertical-align: middle;\n",
       "    }\n",
       "\n",
       "    .dataframe tbody tr th {\n",
       "        vertical-align: top;\n",
       "    }\n",
       "\n",
       "    .dataframe thead th {\n",
       "        text-align: right;\n",
       "    }\n",
       "</style>\n",
       "<table border=\"1\" class=\"dataframe\">\n",
       "  <thead>\n",
       "    <tr style=\"text-align: right;\">\n",
       "      <th></th>\n",
       "      <th>awards</th>\n",
       "      <th>price_level</th>\n",
       "      <th>vegetarian_friendly</th>\n",
       "      <th>avg_rating</th>\n",
       "      <th>total_reviews_count</th>\n",
       "      <th>service</th>\n",
       "    </tr>\n",
       "  </thead>\n",
       "  <tbody>\n",
       "    <tr>\n",
       "      <th>0</th>\n",
       "      <td>1</td>\n",
       "      <td>2.0</td>\n",
       "      <td>1</td>\n",
       "      <td>4.5</td>\n",
       "      <td>347.0</td>\n",
       "      <td>4.5</td>\n",
       "    </tr>\n",
       "    <tr>\n",
       "      <th>1</th>\n",
       "      <td>0</td>\n",
       "      <td>2.0</td>\n",
       "      <td>0</td>\n",
       "      <td>3.5</td>\n",
       "      <td>32.0</td>\n",
       "      <td>3.5</td>\n",
       "    </tr>\n",
       "    <tr>\n",
       "      <th>2</th>\n",
       "      <td>0</td>\n",
       "      <td>2.0</td>\n",
       "      <td>1</td>\n",
       "      <td>4.0</td>\n",
       "      <td>101.0</td>\n",
       "      <td>4.5</td>\n",
       "    </tr>\n",
       "    <tr>\n",
       "      <th>3</th>\n",
       "      <td>1</td>\n",
       "      <td>2.0</td>\n",
       "      <td>1</td>\n",
       "      <td>4.5</td>\n",
       "      <td>104.0</td>\n",
       "      <td>4.5</td>\n",
       "    </tr>\n",
       "    <tr>\n",
       "      <th>4</th>\n",
       "      <td>0</td>\n",
       "      <td>2.0</td>\n",
       "      <td>1</td>\n",
       "      <td>3.5</td>\n",
       "      <td>34.0</td>\n",
       "      <td>3.0</td>\n",
       "    </tr>\n",
       "  </tbody>\n",
       "</table>\n",
       "</div>"
      ],
      "text/plain": [
       "   awards  price_level  vegetarian_friendly  avg_rating  total_reviews_count  \\\n",
       "0       1          2.0                    1         4.5                347.0   \n",
       "1       0          2.0                    0         3.5                 32.0   \n",
       "2       0          2.0                    1         4.0                101.0   \n",
       "3       1          2.0                    1         4.5                104.0   \n",
       "4       0          2.0                    1         3.5                 34.0   \n",
       "\n",
       "   service  \n",
       "0      4.5  \n",
       "1      3.5  \n",
       "2      4.5  \n",
       "3      4.5  \n",
       "4      3.0  "
      ]
     },
     "execution_count": 4,
     "metadata": {},
     "output_type": "execute_result"
    }
   ],
   "source": [
    "from sklearn.preprocessing import LabelEncoder\n",
    "le = LabelEncoder()\n",
    "df2 = df.copy()\n",
    "df2['vegetarian_friendly'] = le.fit_transform(df2['vegetarian_friendly'])\n",
    "df2.head()"
   ]
  },
  {
   "cell_type": "code",
   "execution_count": 5,
   "id": "3b3049f6",
   "metadata": {
    "scrolled": false
   },
   "outputs": [
    {
     "data": {
      "text/plain": [
       "awards                   int64\n",
       "price_level            float64\n",
       "vegetarian_friendly      int32\n",
       "avg_rating             float64\n",
       "total_reviews_count    float64\n",
       "service                float64\n",
       "dtype: object"
      ]
     },
     "execution_count": 5,
     "metadata": {},
     "output_type": "execute_result"
    }
   ],
   "source": [
    "df2.dtypes"
   ]
  },
  {
   "cell_type": "code",
   "execution_count": 6,
   "id": "9b0bfd3b",
   "metadata": {
    "scrolled": true
   },
   "outputs": [
    {
     "data": {
      "text/plain": [
       "awards                   0\n",
       "price_level              0\n",
       "vegetarian_friendly      0\n",
       "avg_rating             181\n",
       "total_reviews_count    181\n",
       "service                  0\n",
       "dtype: int64"
      ]
     },
     "execution_count": 6,
     "metadata": {},
     "output_type": "execute_result"
    }
   ],
   "source": [
    "df2.isnull().sum()"
   ]
  },
  {
   "cell_type": "code",
   "execution_count": 7,
   "id": "48726646",
   "metadata": {},
   "outputs": [],
   "source": [
    "df2 = df2.dropna(how='any', subset=['avg_rating', 'total_reviews_count'])"
   ]
  },
  {
   "cell_type": "code",
   "execution_count": 8,
   "id": "a56cca36",
   "metadata": {},
   "outputs": [
    {
     "data": {
      "text/plain": [
       "(110123, 6)"
      ]
     },
     "execution_count": 8,
     "metadata": {},
     "output_type": "execute_result"
    }
   ],
   "source": [
    "df2.shape"
   ]
  },
  {
   "cell_type": "markdown",
   "id": "571abd77",
   "metadata": {},
   "source": [
    "## Logistic Regression\n",
    "\n",
    "Logistic Regression is used when the dependent variable (target) is categorical.\n",
    "Solves classification problems\n"
   ]
  },
  {
   "cell_type": "code",
   "execution_count": 9,
   "id": "0929ae42",
   "metadata": {},
   "outputs": [],
   "source": [
    "# Separate the Features (X) from the Target (y)\n",
    "y = df2[\"awards\"]\n",
    "X = df2.drop(columns=\"awards\")"
   ]
  },
  {
   "cell_type": "code",
   "execution_count": 10,
   "id": "0f2aaa75",
   "metadata": {},
   "outputs": [
    {
     "data": {
      "text/plain": [
       "(77086, 5)"
      ]
     },
     "execution_count": 10,
     "metadata": {},
     "output_type": "execute_result"
    }
   ],
   "source": [
    "# Split our data into training and testing\n",
    "X_train, X_test, y_train, y_test = train_test_split(X, y, test_size=0.3, random_state=1)\n",
    "X_train.shape"
   ]
  },
  {
   "cell_type": "code",
   "execution_count": 11,
   "id": "bf62d9be",
   "metadata": {},
   "outputs": [],
   "source": [
    "# Create a Logistic Regression Model\n",
    "from sklearn.linear_model import LogisticRegression\n",
    "logmodel = LogisticRegression(solver='lbfgs',\n",
    "                                max_iter=500,\n",
    "                                random_state=1)"
   ]
  },
  {
   "cell_type": "code",
   "execution_count": 12,
   "id": "324229b0",
   "metadata": {},
   "outputs": [
    {
     "data": {
      "text/html": [
       "<div>\n",
       "<style scoped>\n",
       "    .dataframe tbody tr th:only-of-type {\n",
       "        vertical-align: middle;\n",
       "    }\n",
       "\n",
       "    .dataframe tbody tr th {\n",
       "        vertical-align: top;\n",
       "    }\n",
       "\n",
       "    .dataframe thead th {\n",
       "        text-align: right;\n",
       "    }\n",
       "</style>\n",
       "<table border=\"1\" class=\"dataframe\">\n",
       "  <thead>\n",
       "    <tr style=\"text-align: right;\">\n",
       "      <th></th>\n",
       "      <th>Prediction</th>\n",
       "      <th>Actual</th>\n",
       "    </tr>\n",
       "  </thead>\n",
       "  <tbody>\n",
       "    <tr>\n",
       "      <th>0</th>\n",
       "      <td>1</td>\n",
       "      <td>1</td>\n",
       "    </tr>\n",
       "    <tr>\n",
       "      <th>1</th>\n",
       "      <td>0</td>\n",
       "      <td>0</td>\n",
       "    </tr>\n",
       "    <tr>\n",
       "      <th>2</th>\n",
       "      <td>0</td>\n",
       "      <td>0</td>\n",
       "    </tr>\n",
       "    <tr>\n",
       "      <th>3</th>\n",
       "      <td>1</td>\n",
       "      <td>0</td>\n",
       "    </tr>\n",
       "    <tr>\n",
       "      <th>4</th>\n",
       "      <td>0</td>\n",
       "      <td>1</td>\n",
       "    </tr>\n",
       "    <tr>\n",
       "      <th>5</th>\n",
       "      <td>1</td>\n",
       "      <td>1</td>\n",
       "    </tr>\n",
       "    <tr>\n",
       "      <th>6</th>\n",
       "      <td>1</td>\n",
       "      <td>1</td>\n",
       "    </tr>\n",
       "    <tr>\n",
       "      <th>7</th>\n",
       "      <td>1</td>\n",
       "      <td>1</td>\n",
       "    </tr>\n",
       "    <tr>\n",
       "      <th>8</th>\n",
       "      <td>1</td>\n",
       "      <td>0</td>\n",
       "    </tr>\n",
       "    <tr>\n",
       "      <th>9</th>\n",
       "      <td>1</td>\n",
       "      <td>0</td>\n",
       "    </tr>\n",
       "  </tbody>\n",
       "</table>\n",
       "</div>"
      ],
      "text/plain": [
       "   Prediction  Actual\n",
       "0           1       1\n",
       "1           0       0\n",
       "2           0       0\n",
       "3           1       0\n",
       "4           0       1\n",
       "5           1       1\n",
       "6           1       1\n",
       "7           1       1\n",
       "8           1       0\n",
       "9           1       0"
      ]
     },
     "execution_count": 12,
     "metadata": {},
     "output_type": "execute_result"
    }
   ],
   "source": [
    "# Train the model using the training data and make predictions\n",
    "logmodel.fit(X_train, y_train)\n",
    "ypredictions_log = logmodel.predict(X_test)\n",
    "log_results = pd.DataFrame({\"Prediction\": ypredictions_log, \"Actual\": y_test}).reset_index(drop=True)\n",
    "log_results.head(10)"
   ]
  },
  {
   "cell_type": "code",
   "execution_count": 13,
   "id": "00b095cc",
   "metadata": {},
   "outputs": [],
   "source": [
    "from sklearn.metrics import accuracy_score\n",
    "from sklearn.metrics import confusion_matrix\n",
    "from sklearn.metrics import classification_report"
   ]
  },
  {
   "cell_type": "code",
   "execution_count": 14,
   "id": "6d32c48c",
   "metadata": {},
   "outputs": [
    {
     "name": "stdout",
     "output_type": "stream",
     "text": [
      "0.7888730816962799\n"
     ]
    }
   ],
   "source": [
    "print(accuracy_score(y_test, ypredictions_log))"
   ]
  },
  {
   "cell_type": "code",
   "execution_count": 15,
   "id": "256af0b9",
   "metadata": {
    "scrolled": true
   },
   "outputs": [
    {
     "name": "stdout",
     "output_type": "stream",
     "text": [
      "              precision    recall  f1-score   support\n",
      "\n",
      "           0       0.80      0.79      0.79     16798\n",
      "           1       0.78      0.79      0.79     16239\n",
      "\n",
      "    accuracy                           0.79     33037\n",
      "   macro avg       0.79      0.79      0.79     33037\n",
      "weighted avg       0.79      0.79      0.79     33037\n",
      "\n"
     ]
    }
   ],
   "source": [
    "print(classification_report(y_test, ypredictions_log))"
   ]
  },
  {
   "cell_type": "code",
   "execution_count": 16,
   "id": "7dcdae64",
   "metadata": {
    "scrolled": false
   },
   "outputs": [
    {
     "name": "stdout",
     "output_type": "stream",
     "text": [
      "[[13189  3609]\n",
      " [ 3366 12873]]\n"
     ]
    }
   ],
   "source": [
    "print(confusion_matrix(y_test, ypredictions_log))"
   ]
  },
  {
   "cell_type": "code",
   "execution_count": 17,
   "id": "9698fe46",
   "metadata": {},
   "outputs": [
    {
     "name": "stdout",
     "output_type": "stream",
     "text": [
      "MSE: 0.21112691830372007\n",
      "RMSE: 0.4594854930285831\n",
      "MAE: 0.21112691830372007\n"
     ]
    }
   ],
   "source": [
    "from sklearn.metrics import mean_squared_error\n",
    "from sklearn.metrics import mean_absolute_error\n",
    "print(f\"MSE: {mean_squared_error(y_test, ypredictions_log)}\")\n",
    "print(f\"RMSE: {np.sqrt(mean_squared_error(y_test, ypredictions_log))}\")\n",
    "print(f\"MAE: {mean_absolute_error(y_test, ypredictions_log)}\")"
   ]
  },
  {
   "cell_type": "markdown",
   "id": "0620b988",
   "metadata": {},
   "source": [
    " ## Gradient Boosted Tree"
   ]
  }
 ],
 "metadata": {
  "kernelspec": {
   "display_name": "mlenv2",
   "language": "python",
   "name": "mlenv2"
  },
  "language_info": {
   "codemirror_mode": {
    "name": "ipython",
    "version": 3
   },
   "file_extension": ".py",
   "mimetype": "text/x-python",
   "name": "python",
   "nbconvert_exporter": "python",
   "pygments_lexer": "ipython3",
   "version": "3.10.4"
  }
 },
 "nbformat": 4,
 "nbformat_minor": 5
}
