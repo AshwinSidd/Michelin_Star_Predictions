{
 "cells": [
  {
   "cell_type": "markdown",
   "id": "1aa567c9",
   "metadata": {},
   "source": [
    "# Preliminary Analysis\n",
    "\n",
    "#### To test different models using a preliminary dataset of the mock restaurant data"
   ]
  },
  {
   "cell_type": "code",
   "execution_count": 1,
   "id": "05adba1a",
   "metadata": {},
   "outputs": [],
   "source": [
    "import numpy as np\n",
    "import pandas as pd\n",
    "from path import Path\n",
    "import matplotlib.pyplot as plt\n",
    "%matplotlib inline\n",
    "\n",
    "import sklearn\n",
    "from sklearn.model_selection import train_test_split\n",
    "from sklearn.preprocessing import StandardScaler\n",
    "from sklearn.metrics import accuracy_score"
   ]
  },
  {
   "cell_type": "code",
   "execution_count": 2,
   "id": "e52e4766",
   "metadata": {},
   "outputs": [
    {
     "data": {
      "text/html": [
       "<div>\n",
       "<style scoped>\n",
       "    .dataframe tbody tr th:only-of-type {\n",
       "        vertical-align: middle;\n",
       "    }\n",
       "\n",
       "    .dataframe tbody tr th {\n",
       "        vertical-align: top;\n",
       "    }\n",
       "\n",
       "    .dataframe thead th {\n",
       "        text-align: right;\n",
       "    }\n",
       "</style>\n",
       "<table border=\"1\" class=\"dataframe\">\n",
       "  <thead>\n",
       "    <tr style=\"text-align: right;\">\n",
       "      <th></th>\n",
       "      <th>Unnamed: 0</th>\n",
       "      <th>awards</th>\n",
       "      <th>price_level</th>\n",
       "      <th>vegetarian_friendly</th>\n",
       "      <th>avg_rating</th>\n",
       "      <th>total_reviews_count</th>\n",
       "      <th>service</th>\n",
       "    </tr>\n",
       "  </thead>\n",
       "  <tbody>\n",
       "    <tr>\n",
       "      <th>0</th>\n",
       "      <td>478379</td>\n",
       "      <td>1</td>\n",
       "      <td>2.0</td>\n",
       "      <td>Y</td>\n",
       "      <td>4.5</td>\n",
       "      <td>347.0</td>\n",
       "      <td>4.5</td>\n",
       "    </tr>\n",
       "    <tr>\n",
       "      <th>1</th>\n",
       "      <td>478384</td>\n",
       "      <td>0</td>\n",
       "      <td>2.0</td>\n",
       "      <td>N</td>\n",
       "      <td>3.5</td>\n",
       "      <td>32.0</td>\n",
       "      <td>3.5</td>\n",
       "    </tr>\n",
       "    <tr>\n",
       "      <th>2</th>\n",
       "      <td>478386</td>\n",
       "      <td>0</td>\n",
       "      <td>2.0</td>\n",
       "      <td>Y</td>\n",
       "      <td>4.0</td>\n",
       "      <td>101.0</td>\n",
       "      <td>4.5</td>\n",
       "    </tr>\n",
       "    <tr>\n",
       "      <th>3</th>\n",
       "      <td>478389</td>\n",
       "      <td>1</td>\n",
       "      <td>2.0</td>\n",
       "      <td>Y</td>\n",
       "      <td>4.5</td>\n",
       "      <td>104.0</td>\n",
       "      <td>4.5</td>\n",
       "    </tr>\n",
       "    <tr>\n",
       "      <th>4</th>\n",
       "      <td>478392</td>\n",
       "      <td>0</td>\n",
       "      <td>2.0</td>\n",
       "      <td>Y</td>\n",
       "      <td>3.5</td>\n",
       "      <td>34.0</td>\n",
       "      <td>3.0</td>\n",
       "    </tr>\n",
       "  </tbody>\n",
       "</table>\n",
       "</div>"
      ],
      "text/plain": [
       "   Unnamed: 0  awards  price_level vegetarian_friendly  avg_rating  \\\n",
       "0      478379       1          2.0                   Y         4.5   \n",
       "1      478384       0          2.0                   N         3.5   \n",
       "2      478386       0          2.0                   Y         4.0   \n",
       "3      478389       1          2.0                   Y         4.5   \n",
       "4      478392       0          2.0                   Y         3.5   \n",
       "\n",
       "   total_reviews_count  service  \n",
       "0                347.0      4.5  \n",
       "1                 32.0      3.5  \n",
       "2                101.0      4.5  \n",
       "3                104.0      4.5  \n",
       "4                 34.0      3.0  "
      ]
     },
     "execution_count": 2,
     "metadata": {},
     "output_type": "execute_result"
    }
   ],
   "source": [
    "data = Path('Resources/clean_britian_restaurants.csv')\n",
    "df = pd.read_csv(data)\n",
    "df.head()"
   ]
  },
  {
   "cell_type": "code",
   "execution_count": 3,
   "id": "943459e6",
   "metadata": {},
   "outputs": [],
   "source": [
    "df = df.drop(columns=['Unnamed: 0'])"
   ]
  },
  {
   "cell_type": "code",
   "execution_count": 4,
   "id": "609bef30",
   "metadata": {},
   "outputs": [
    {
     "data": {
      "text/html": [
       "<div>\n",
       "<style scoped>\n",
       "    .dataframe tbody tr th:only-of-type {\n",
       "        vertical-align: middle;\n",
       "    }\n",
       "\n",
       "    .dataframe tbody tr th {\n",
       "        vertical-align: top;\n",
       "    }\n",
       "\n",
       "    .dataframe thead th {\n",
       "        text-align: right;\n",
       "    }\n",
       "</style>\n",
       "<table border=\"1\" class=\"dataframe\">\n",
       "  <thead>\n",
       "    <tr style=\"text-align: right;\">\n",
       "      <th></th>\n",
       "      <th>awards</th>\n",
       "      <th>price_level</th>\n",
       "      <th>vegetarian_friendly</th>\n",
       "      <th>avg_rating</th>\n",
       "      <th>total_reviews_count</th>\n",
       "      <th>service</th>\n",
       "    </tr>\n",
       "  </thead>\n",
       "  <tbody>\n",
       "    <tr>\n",
       "      <th>0</th>\n",
       "      <td>1</td>\n",
       "      <td>2.0</td>\n",
       "      <td>1</td>\n",
       "      <td>4.5</td>\n",
       "      <td>347.0</td>\n",
       "      <td>4.5</td>\n",
       "    </tr>\n",
       "    <tr>\n",
       "      <th>1</th>\n",
       "      <td>0</td>\n",
       "      <td>2.0</td>\n",
       "      <td>0</td>\n",
       "      <td>3.5</td>\n",
       "      <td>32.0</td>\n",
       "      <td>3.5</td>\n",
       "    </tr>\n",
       "    <tr>\n",
       "      <th>2</th>\n",
       "      <td>0</td>\n",
       "      <td>2.0</td>\n",
       "      <td>1</td>\n",
       "      <td>4.0</td>\n",
       "      <td>101.0</td>\n",
       "      <td>4.5</td>\n",
       "    </tr>\n",
       "    <tr>\n",
       "      <th>3</th>\n",
       "      <td>1</td>\n",
       "      <td>2.0</td>\n",
       "      <td>1</td>\n",
       "      <td>4.5</td>\n",
       "      <td>104.0</td>\n",
       "      <td>4.5</td>\n",
       "    </tr>\n",
       "    <tr>\n",
       "      <th>4</th>\n",
       "      <td>0</td>\n",
       "      <td>2.0</td>\n",
       "      <td>1</td>\n",
       "      <td>3.5</td>\n",
       "      <td>34.0</td>\n",
       "      <td>3.0</td>\n",
       "    </tr>\n",
       "  </tbody>\n",
       "</table>\n",
       "</div>"
      ],
      "text/plain": [
       "   awards  price_level  vegetarian_friendly  avg_rating  total_reviews_count  \\\n",
       "0       1          2.0                    1         4.5                347.0   \n",
       "1       0          2.0                    0         3.5                 32.0   \n",
       "2       0          2.0                    1         4.0                101.0   \n",
       "3       1          2.0                    1         4.5                104.0   \n",
       "4       0          2.0                    1         3.5                 34.0   \n",
       "\n",
       "   service  \n",
       "0      4.5  \n",
       "1      3.5  \n",
       "2      4.5  \n",
       "3      4.5  \n",
       "4      3.0  "
      ]
     },
     "execution_count": 4,
     "metadata": {},
     "output_type": "execute_result"
    }
   ],
   "source": [
    "from sklearn.preprocessing import LabelEncoder\n",
    "le = LabelEncoder()\n",
    "df2 = df.copy()\n",
    "df2['vegetarian_friendly'] = le.fit_transform(df2['vegetarian_friendly'])\n",
    "df2.head()"
   ]
  },
  {
   "cell_type": "code",
   "execution_count": 5,
   "id": "3b3049f6",
   "metadata": {
    "scrolled": false
   },
   "outputs": [
    {
     "data": {
      "text/plain": [
       "awards                   int64\n",
       "price_level            float64\n",
       "vegetarian_friendly      int32\n",
       "avg_rating             float64\n",
       "total_reviews_count    float64\n",
       "service                float64\n",
       "dtype: object"
      ]
     },
     "execution_count": 5,
     "metadata": {},
     "output_type": "execute_result"
    }
   ],
   "source": [
    "df2.dtypes"
   ]
  },
  {
   "cell_type": "code",
   "execution_count": 6,
   "id": "9b0bfd3b",
   "metadata": {
    "scrolled": true
   },
   "outputs": [
    {
     "data": {
      "text/plain": [
       "awards                   0\n",
       "price_level              0\n",
       "vegetarian_friendly      0\n",
       "avg_rating             181\n",
       "total_reviews_count    181\n",
       "service                  0\n",
       "dtype: int64"
      ]
     },
     "execution_count": 6,
     "metadata": {},
     "output_type": "execute_result"
    }
   ],
   "source": [
    "df2.isnull().sum()"
   ]
  },
  {
   "cell_type": "code",
   "execution_count": 7,
   "id": "48726646",
   "metadata": {},
   "outputs": [],
   "source": [
    "df2 = df2.dropna(how='any', subset=['avg_rating', 'total_reviews_count'])"
   ]
  },
  {
   "cell_type": "code",
   "execution_count": 8,
   "id": "a56cca36",
   "metadata": {},
   "outputs": [
    {
     "data": {
      "text/plain": [
       "(110123, 6)"
      ]
     },
     "execution_count": 8,
     "metadata": {},
     "output_type": "execute_result"
    }
   ],
   "source": [
    "df2.shape"
   ]
  },
  {
   "cell_type": "markdown",
   "id": "571abd77",
   "metadata": {},
   "source": [
    "## Logistic Regression\n",
    "\n",
    "Logistic Regression is used when the dependent variable (target) is categorical.\n",
    "Solves classification problems\n"
   ]
  },
  {
   "cell_type": "code",
   "execution_count": 9,
   "id": "0929ae42",
   "metadata": {},
   "outputs": [],
   "source": [
    "# Separate the Features (X) from the Target (y)\n",
    "y = df2[\"awards\"]\n",
    "X = df2.drop(columns=\"awards\")"
   ]
  },
  {
   "cell_type": "code",
   "execution_count": 10,
   "id": "0f2aaa75",
   "metadata": {},
   "outputs": [
    {
     "data": {
      "text/plain": [
       "(77086, 5)"
      ]
     },
     "execution_count": 10,
     "metadata": {},
     "output_type": "execute_result"
    }
   ],
   "source": [
    "# Split our data into training and testing\n",
    "X_train, X_test, y_train, y_test = train_test_split(X, y, test_size=0.3, random_state=1)\n",
    "X_train.shape"
   ]
  },
  {
   "cell_type": "code",
   "execution_count": 11,
   "id": "bf62d9be",
   "metadata": {},
   "outputs": [],
   "source": [
    "# Create a Logistic Regression Model\n",
    "from sklearn.linear_model import LogisticRegression\n",
    "logmodel = LogisticRegression(solver='lbfgs',\n",
    "                                max_iter=500,\n",
    "                                random_state=1)"
   ]
  },
  {
   "cell_type": "code",
   "execution_count": 12,
   "id": "324229b0",
   "metadata": {},
   "outputs": [
    {
     "data": {
      "text/html": [
       "<div>\n",
       "<style scoped>\n",
       "    .dataframe tbody tr th:only-of-type {\n",
       "        vertical-align: middle;\n",
       "    }\n",
       "\n",
       "    .dataframe tbody tr th {\n",
       "        vertical-align: top;\n",
       "    }\n",
       "\n",
       "    .dataframe thead th {\n",
       "        text-align: right;\n",
       "    }\n",
       "</style>\n",
       "<table border=\"1\" class=\"dataframe\">\n",
       "  <thead>\n",
       "    <tr style=\"text-align: right;\">\n",
       "      <th></th>\n",
       "      <th>Prediction</th>\n",
       "      <th>Actual</th>\n",
       "    </tr>\n",
       "  </thead>\n",
       "  <tbody>\n",
       "    <tr>\n",
       "      <th>0</th>\n",
       "      <td>1</td>\n",
       "      <td>1</td>\n",
       "    </tr>\n",
       "    <tr>\n",
       "      <th>1</th>\n",
       "      <td>0</td>\n",
       "      <td>0</td>\n",
       "    </tr>\n",
       "    <tr>\n",
       "      <th>2</th>\n",
       "      <td>0</td>\n",
       "      <td>0</td>\n",
       "    </tr>\n",
       "    <tr>\n",
       "      <th>3</th>\n",
       "      <td>1</td>\n",
       "      <td>0</td>\n",
       "    </tr>\n",
       "    <tr>\n",
       "      <th>4</th>\n",
       "      <td>0</td>\n",
       "      <td>1</td>\n",
       "    </tr>\n",
       "    <tr>\n",
       "      <th>5</th>\n",
       "      <td>1</td>\n",
       "      <td>1</td>\n",
       "    </tr>\n",
       "    <tr>\n",
       "      <th>6</th>\n",
       "      <td>1</td>\n",
       "      <td>1</td>\n",
       "    </tr>\n",
       "    <tr>\n",
       "      <th>7</th>\n",
       "      <td>1</td>\n",
       "      <td>1</td>\n",
       "    </tr>\n",
       "    <tr>\n",
       "      <th>8</th>\n",
       "      <td>1</td>\n",
       "      <td>0</td>\n",
       "    </tr>\n",
       "    <tr>\n",
       "      <th>9</th>\n",
       "      <td>1</td>\n",
       "      <td>0</td>\n",
       "    </tr>\n",
       "  </tbody>\n",
       "</table>\n",
       "</div>"
      ],
      "text/plain": [
       "   Prediction  Actual\n",
       "0           1       1\n",
       "1           0       0\n",
       "2           0       0\n",
       "3           1       0\n",
       "4           0       1\n",
       "5           1       1\n",
       "6           1       1\n",
       "7           1       1\n",
       "8           1       0\n",
       "9           1       0"
      ]
     },
     "execution_count": 12,
     "metadata": {},
     "output_type": "execute_result"
    }
   ],
   "source": [
    "# Train the model using the training data and make predictions\n",
    "logmodel.fit(X_train, y_train)\n",
    "ypredictions_log = logmodel.predict(X_test)\n",
    "log_results = pd.DataFrame({\"Prediction\": ypredictions_log, \"Actual\": y_test}).reset_index(drop=True)\n",
    "log_results.head(10)"
   ]
  },
  {
   "cell_type": "code",
   "execution_count": 13,
   "id": "00b095cc",
   "metadata": {},
   "outputs": [],
   "source": [
    "from sklearn.metrics import accuracy_score\n",
    "from sklearn.metrics import confusion_matrix\n",
    "from sklearn.metrics import classification_report"
   ]
  },
  {
   "cell_type": "code",
   "execution_count": 14,
   "id": "6d32c48c",
   "metadata": {},
   "outputs": [
    {
     "name": "stdout",
     "output_type": "stream",
     "text": [
      "0.7888730816962799\n"
     ]
    }
   ],
   "source": [
    "print(accuracy_score(y_test, ypredictions_log))"
   ]
  },
  {
   "cell_type": "code",
   "execution_count": 15,
   "id": "256af0b9",
   "metadata": {
    "scrolled": true
   },
   "outputs": [
    {
     "name": "stdout",
     "output_type": "stream",
     "text": [
      "              precision    recall  f1-score   support\n",
      "\n",
      "           0       0.80      0.79      0.79     16798\n",
      "           1       0.78      0.79      0.79     16239\n",
      "\n",
      "    accuracy                           0.79     33037\n",
      "   macro avg       0.79      0.79      0.79     33037\n",
      "weighted avg       0.79      0.79      0.79     33037\n",
      "\n"
     ]
    }
   ],
   "source": [
    "print(classification_report(y_test, ypredictions_log))"
   ]
  },
  {
   "cell_type": "code",
   "execution_count": 16,
   "id": "7dcdae64",
   "metadata": {
    "scrolled": false
   },
   "outputs": [
    {
     "name": "stdout",
     "output_type": "stream",
     "text": [
      "[[13189  3609]\n",
      " [ 3366 12873]]\n"
     ]
    }
   ],
   "source": [
    "print(confusion_matrix(y_test, ypredictions_log))"
   ]
  },
  {
   "cell_type": "code",
   "execution_count": 17,
   "id": "9698fe46",
   "metadata": {},
   "outputs": [
    {
     "name": "stdout",
     "output_type": "stream",
     "text": [
      "MSE: 0.21112691830372007\n",
      "RMSE: 0.4594854930285831\n",
      "MAE: 0.21112691830372007\n"
     ]
    }
   ],
   "source": [
    "from sklearn.metrics import mean_squared_error\n",
    "from sklearn.metrics import mean_absolute_error\n",
    "print(f\"MSE: {mean_squared_error(y_test, ypredictions_log)}\")\n",
    "print(f\"RMSE: {np.sqrt(mean_squared_error(y_test, ypredictions_log))}\")\n",
    "print(f\"MAE: {mean_absolute_error(y_test, ypredictions_log)}\")"
   ]
  },
  {
   "cell_type": "markdown",
   "id": "0620b988",
   "metadata": {},
   "source": [
    " ## Gradient Boosted Tree"
   ]
  },
  {
   "cell_type": "code",
   "execution_count": 18,
   "id": "b1d00323",
   "metadata": {},
   "outputs": [],
   "source": [
    "# Creating StandardScaler instance\n",
    "scaler = StandardScaler()\n",
    "\n",
    "# Fitting Standard Scaler\n",
    "X_scaler = scaler.fit(X_train)\n",
    "\n",
    "# Scaling data\n",
    "X_train_scaled = X_scaler.transform(X_train)\n",
    "X_test_scaled = X_scaler.transform(X_test)"
   ]
  },
  {
   "cell_type": "code",
   "execution_count": 19,
   "id": "c49b85a2",
   "metadata": {},
   "outputs": [
    {
     "name": "stdout",
     "output_type": "stream",
     "text": [
      "Learning rate:  0.05\n",
      "Accuracy score (training): 0.903\n",
      "Accuracy score (validation): 0.901\n",
      "\n",
      "Learning rate:  0.1\n",
      "Accuracy score (training): 0.903\n",
      "Accuracy score (validation): 0.901\n",
      "\n",
      "Learning rate:  0.25\n",
      "Accuracy score (training): 0.904\n",
      "Accuracy score (validation): 0.901\n",
      "\n",
      "Learning rate:  0.5\n",
      "Accuracy score (training): 0.905\n",
      "Accuracy score (validation): 0.900\n",
      "\n",
      "Learning rate:  0.75\n",
      "Accuracy score (training): 0.905\n",
      "Accuracy score (validation): 0.901\n",
      "\n",
      "Learning rate:  1\n",
      "Accuracy score (training): 0.904\n",
      "Accuracy score (validation): 0.900\n",
      "\n"
     ]
    }
   ],
   "source": [
    "# Choose best learning rate\n",
    "from sklearn.ensemble import GradientBoostingClassifier\n",
    "\n",
    "# Create a classifier object\n",
    "learning_rates = [0.05, 0.1, 0.25, 0.5, 0.75, 1]\n",
    "for learning_rate in learning_rates:\n",
    "    GBT_model = GradientBoostingClassifier(n_estimators=100,\n",
    "                                            learning_rate=learning_rate,\n",
    "                                            max_features=5,\n",
    "                                            max_depth=3,\n",
    "                                            random_state=1)\n",
    "\n",
    "    # Fit the model\n",
    "    GBT_model.fit(X_train_scaled, y_train)\n",
    "    print(\"Learning rate: \", learning_rate)\n",
    "\n",
    "    # Score the model\n",
    "    print(\"Accuracy score (training): {0:.3f}\".format(\n",
    "        GBT_model.score(\n",
    "            X_train_scaled,\n",
    "            y_train)))\n",
    "    print(\"Accuracy score (validation): {0:.3f}\".format(\n",
    "        GBT_model.score(\n",
    "            X_test_scaled,\n",
    "            y_test)))\n",
    "    print()"
   ]
  },
  {
   "cell_type": "code",
   "execution_count": 20,
   "id": "af20e532",
   "metadata": {},
   "outputs": [
    {
     "data": {
      "text/html": [
       "<div>\n",
       "<style scoped>\n",
       "    .dataframe tbody tr th:only-of-type {\n",
       "        vertical-align: middle;\n",
       "    }\n",
       "\n",
       "    .dataframe tbody tr th {\n",
       "        vertical-align: top;\n",
       "    }\n",
       "\n",
       "    .dataframe thead th {\n",
       "        text-align: right;\n",
       "    }\n",
       "</style>\n",
       "<table border=\"1\" class=\"dataframe\">\n",
       "  <thead>\n",
       "    <tr style=\"text-align: right;\">\n",
       "      <th></th>\n",
       "      <th>Prediction</th>\n",
       "      <th>Actual</th>\n",
       "    </tr>\n",
       "  </thead>\n",
       "  <tbody>\n",
       "    <tr>\n",
       "      <th>6553</th>\n",
       "      <td>1</td>\n",
       "      <td>1</td>\n",
       "    </tr>\n",
       "    <tr>\n",
       "      <th>31983</th>\n",
       "      <td>0</td>\n",
       "      <td>0</td>\n",
       "    </tr>\n",
       "    <tr>\n",
       "      <th>72248</th>\n",
       "      <td>0</td>\n",
       "      <td>0</td>\n",
       "    </tr>\n",
       "    <tr>\n",
       "      <th>17141</th>\n",
       "      <td>1</td>\n",
       "      <td>0</td>\n",
       "    </tr>\n",
       "    <tr>\n",
       "      <th>16561</th>\n",
       "      <td>1</td>\n",
       "      <td>1</td>\n",
       "    </tr>\n",
       "  </tbody>\n",
       "</table>\n",
       "</div>"
      ],
      "text/plain": [
       "       Prediction  Actual\n",
       "6553            1       1\n",
       "31983           0       0\n",
       "72248           0       0\n",
       "17141           1       0\n",
       "16561           1       1"
      ]
     },
     "execution_count": 20,
     "metadata": {},
     "output_type": "execute_result"
    }
   ],
   "source": [
    "# Choose a learning rate and create classifier\n",
    "GBT_model = GradientBoostingClassifier(n_estimators=100,\n",
    "                                        learning_rate=0.75,\n",
    "                                        max_features=5,\n",
    "                                        max_depth=3,\n",
    "                                        random_state=1)\n",
    "\n",
    "# Fit the model\n",
    "GBT_model.fit(X_train_scaled, y_train)\n",
    "\n",
    "# Make Prediction\n",
    "ypredictions_GBT = GBT_model.predict(X_test_scaled)\n",
    "GBT_results = pd.DataFrame({\"Prediction\": ypredictions_GBT, \"Actual\": y_test})\n",
    "GBT_results.head()"
   ]
  },
  {
   "cell_type": "code",
   "execution_count": 21,
   "id": "358452a4",
   "metadata": {},
   "outputs": [
    {
     "name": "stdout",
     "output_type": "stream",
     "text": [
      "Accuracy Score : 0.9006568393013894\n"
     ]
    }
   ],
   "source": [
    "# Calculating the accuracy score\n",
    "acc_score = accuracy_score(y_test, ypredictions_GBT)\n",
    "print(f\"Accuracy Score : {acc_score}\")"
   ]
  },
  {
   "cell_type": "code",
   "execution_count": 22,
   "id": "d010cebf",
   "metadata": {},
   "outputs": [
    {
     "data": {
      "text/html": [
       "<div>\n",
       "<style scoped>\n",
       "    .dataframe tbody tr th:only-of-type {\n",
       "        vertical-align: middle;\n",
       "    }\n",
       "\n",
       "    .dataframe tbody tr th {\n",
       "        vertical-align: top;\n",
       "    }\n",
       "\n",
       "    .dataframe thead th {\n",
       "        text-align: right;\n",
       "    }\n",
       "</style>\n",
       "<table border=\"1\" class=\"dataframe\">\n",
       "  <thead>\n",
       "    <tr style=\"text-align: right;\">\n",
       "      <th></th>\n",
       "      <th>Predicted 0</th>\n",
       "      <th>Predicted 1</th>\n",
       "    </tr>\n",
       "  </thead>\n",
       "  <tbody>\n",
       "    <tr>\n",
       "      <th>Actual 0</th>\n",
       "      <td>15120</td>\n",
       "      <td>1678</td>\n",
       "    </tr>\n",
       "    <tr>\n",
       "      <th>Actual 1</th>\n",
       "      <td>1604</td>\n",
       "      <td>14635</td>\n",
       "    </tr>\n",
       "  </tbody>\n",
       "</table>\n",
       "</div>"
      ],
      "text/plain": [
       "          Predicted 0  Predicted 1\n",
       "Actual 0        15120         1678\n",
       "Actual 1         1604        14635"
      ]
     },
     "metadata": {},
     "output_type": "display_data"
    }
   ],
   "source": [
    "# Generate the confusion matrix\n",
    "cm = confusion_matrix(y_test, ypredictions_GBT)\n",
    "cm_df = pd.DataFrame(\n",
    "    cm, index=[\"Actual 0\", \"Actual 1\"],\n",
    "    columns=[\"Predicted 0\", \"Predicted 1\"]\n",
    ")\n",
    "\n",
    "# Displaying results\n",
    "display(cm_df)"
   ]
  },
  {
   "cell_type": "code",
   "execution_count": 23,
   "id": "1133df2e",
   "metadata": {},
   "outputs": [
    {
     "name": "stdout",
     "output_type": "stream",
     "text": [
      "Classification Report\n",
      "              precision    recall  f1-score   support\n",
      "\n",
      "           0       0.90      0.90      0.90     16798\n",
      "           1       0.90      0.90      0.90     16239\n",
      "\n",
      "    accuracy                           0.90     33037\n",
      "   macro avg       0.90      0.90      0.90     33037\n",
      "weighted avg       0.90      0.90      0.90     33037\n",
      "\n"
     ]
    }
   ],
   "source": [
    "# Generate classification report\n",
    "print(\"Classification Report\")\n",
    "print(classification_report(y_test, ypredictions_GBT))"
   ]
  },
  {
   "cell_type": "code",
   "execution_count": 24,
   "id": "787e4b46",
   "metadata": {},
   "outputs": [
    {
     "name": "stdout",
     "output_type": "stream",
     "text": [
      "MSE: 0.09934316069861066\n",
      "RMSE: 0.3151875008603778\n",
      "MAE: 0.09934316069861066\n"
     ]
    }
   ],
   "source": [
    "print(f\"MSE: {mean_squared_error(y_test, ypredictions_GBT)}\")\n",
    "print(f\"RMSE: {np.sqrt(mean_squared_error(y_test, ypredictions_GBT))}\")\n",
    "print(f\"MAE: {mean_absolute_error(y_test, ypredictions_GBT)}\")"
   ]
  },
  {
   "cell_type": "markdown",
   "id": "cc32f9a1",
   "metadata": {},
   "source": [
    "## Easy Ensemble AdaBoost Classifier"
   ]
  },
  {
   "cell_type": "code",
   "execution_count": 25,
   "id": "c8617c07",
   "metadata": {},
   "outputs": [
    {
     "data": {
      "text/plain": [
       "EasyEnsembleClassifier(n_estimators=100, random_state=1)"
      ]
     },
     "execution_count": 25,
     "metadata": {},
     "output_type": "execute_result"
    }
   ],
   "source": [
    "# Train the EasyEnsembleClassifier\n",
    "from imblearn.ensemble import EasyEnsembleClassifier \n",
    "eec_model = EasyEnsembleClassifier(n_estimators =100, random_state=1)\n",
    "eec_model.fit(X_train, y_train)"
   ]
  },
  {
   "cell_type": "code",
   "execution_count": 26,
   "id": "647e043f",
   "metadata": {},
   "outputs": [
    {
     "data": {
      "text/plain": [
       "0.9010806065926082"
      ]
     },
     "execution_count": 26,
     "metadata": {},
     "output_type": "execute_result"
    }
   ],
   "source": [
    "# Make predictions and determine accuracy score\n",
    "ypredictions_EEC = eec_model.predict(X_test)\n",
    "accuracy_score(y_test, ypredictions_EEC)"
   ]
  },
  {
   "cell_type": "code",
   "execution_count": 27,
   "id": "4e9e4e43",
   "metadata": {},
   "outputs": [
    {
     "data": {
      "text/html": [
       "<div>\n",
       "<style scoped>\n",
       "    .dataframe tbody tr th:only-of-type {\n",
       "        vertical-align: middle;\n",
       "    }\n",
       "\n",
       "    .dataframe tbody tr th {\n",
       "        vertical-align: top;\n",
       "    }\n",
       "\n",
       "    .dataframe thead th {\n",
       "        text-align: right;\n",
       "    }\n",
       "</style>\n",
       "<table border=\"1\" class=\"dataframe\">\n",
       "  <thead>\n",
       "    <tr style=\"text-align: right;\">\n",
       "      <th></th>\n",
       "      <th>Predicted 0</th>\n",
       "      <th>Predicted 1</th>\n",
       "    </tr>\n",
       "  </thead>\n",
       "  <tbody>\n",
       "    <tr>\n",
       "      <th>Actual 0</th>\n",
       "      <td>15079</td>\n",
       "      <td>1719</td>\n",
       "    </tr>\n",
       "    <tr>\n",
       "      <th>Actual 1</th>\n",
       "      <td>1549</td>\n",
       "      <td>14690</td>\n",
       "    </tr>\n",
       "  </tbody>\n",
       "</table>\n",
       "</div>"
      ],
      "text/plain": [
       "          Predicted 0  Predicted 1\n",
       "Actual 0        15079         1719\n",
       "Actual 1         1549        14690"
      ]
     },
     "execution_count": 27,
     "metadata": {},
     "output_type": "execute_result"
    }
   ],
   "source": [
    "# Display the confusion matrix\n",
    "\n",
    "cm2 = confusion_matrix(y_test, ypredictions_EEC)\n",
    "\n",
    "# Create a DataFrame from the confusion matrix.\n",
    "eec_cm_df = pd.DataFrame(\n",
    "    cm2, index=[\"Actual 0\", \"Actual 1\"],\n",
    "    columns=[\"Predicted 0\", \"Predicted 1\"]\n",
    ")\n",
    "eec_cm_df.head()"
   ]
  },
  {
   "cell_type": "code",
   "execution_count": 28,
   "id": "3aa0ee70",
   "metadata": {},
   "outputs": [
    {
     "name": "stdout",
     "output_type": "stream",
     "text": [
      "              precision    recall  f1-score   support\n",
      "\n",
      "           0       0.91      0.90      0.90     16798\n",
      "           1       0.90      0.90      0.90     16239\n",
      "\n",
      "    accuracy                           0.90     33037\n",
      "   macro avg       0.90      0.90      0.90     33037\n",
      "weighted avg       0.90      0.90      0.90     33037\n",
      "\n"
     ]
    }
   ],
   "source": [
    "# Print the  classification report\n",
    "print(classification_report(y_test, ypredictions_EEC))"
   ]
  },
  {
   "cell_type": "code",
   "execution_count": 29,
   "id": "5bbd4dbe",
   "metadata": {},
   "outputs": [
    {
     "name": "stdout",
     "output_type": "stream",
     "text": [
      "MSE: 0.09891939340739171\n",
      "RMSE: 0.3145145360828204\n",
      "MAE: 0.09891939340739171\n"
     ]
    }
   ],
   "source": [
    "print(f\"MSE: {mean_squared_error(y_test, ypredictions_EEC)}\")\n",
    "print(f\"RMSE: {np.sqrt(mean_squared_error(y_test, ypredictions_EEC))}\")\n",
    "print(f\"MAE: {mean_absolute_error(y_test, ypredictions_EEC)}\")"
   ]
  },
  {
   "cell_type": "code",
   "execution_count": null,
   "id": "9e3da9ce",
   "metadata": {},
   "outputs": [],
   "source": []
  }
 ],
 "metadata": {
  "kernelspec": {
   "display_name": "mlenv2",
   "language": "python",
   "name": "mlenv2"
  },
  "language_info": {
   "codemirror_mode": {
    "name": "ipython",
    "version": 3
   },
   "file_extension": ".py",
   "mimetype": "text/x-python",
   "name": "python",
   "nbconvert_exporter": "python",
   "pygments_lexer": "ipython3",
   "version": "3.10.4"
  }
 },
 "nbformat": 4,
 "nbformat_minor": 5
}
