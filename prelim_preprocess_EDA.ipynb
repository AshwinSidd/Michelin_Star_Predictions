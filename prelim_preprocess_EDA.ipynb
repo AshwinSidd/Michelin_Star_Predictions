{
 "cells": [
  {
   "cell_type": "markdown",
   "id": "3b0812f8",
   "metadata": {},
   "source": [
    "# Preliminary Exploratory Data Analysis\n",
    "Using a mockup of the restaurant data set "
   ]
  },
  {
   "cell_type": "code",
   "execution_count": 1,
   "id": "baac5961",
   "metadata": {},
   "outputs": [],
   "source": [
    "from path import Path\n",
    "import pandas as pd\n",
    "import numpy as np\n",
    "\n",
    "import matplotlib.pyplot as plt\n",
    "# Add Matplotlib inline magic command\n",
    "%matplotlib inline\n",
    "\n",
    "import plotly.express as px\n"
   ]
  },
  {
   "cell_type": "code",
   "execution_count": 2,
   "id": "351c278c",
   "metadata": {
    "scrolled": true
   },
   "outputs": [
    {
     "name": "stderr",
     "output_type": "stream",
     "text": [
      "C:\\Users\\genei\\AppData\\Local\\Temp\\ipykernel_21576\\1565404655.py:2: DtypeWarning: Columns (4) have mixed types. Specify dtype option on import or set low_memory=False.\n",
      "  restaurant_df = pd.read_csv(data)\n"
     ]
    },
    {
     "data": {
      "text/html": [
       "<div>\n",
       "<style scoped>\n",
       "    .dataframe tbody tr th:only-of-type {\n",
       "        vertical-align: middle;\n",
       "    }\n",
       "\n",
       "    .dataframe tbody tr th {\n",
       "        vertical-align: top;\n",
       "    }\n",
       "\n",
       "    .dataframe thead th {\n",
       "        text-align: right;\n",
       "    }\n",
       "</style>\n",
       "<table border=\"1\" class=\"dataframe\">\n",
       "  <thead>\n",
       "    <tr style=\"text-align: right;\">\n",
       "      <th></th>\n",
       "      <th>restaurant_link</th>\n",
       "      <th>restaurant_name</th>\n",
       "      <th>original_location</th>\n",
       "      <th>country</th>\n",
       "      <th>region</th>\n",
       "      <th>province</th>\n",
       "      <th>city</th>\n",
       "      <th>address</th>\n",
       "      <th>latitude</th>\n",
       "      <th>longitude</th>\n",
       "      <th>...</th>\n",
       "      <th>excellent</th>\n",
       "      <th>very_good</th>\n",
       "      <th>average</th>\n",
       "      <th>poor</th>\n",
       "      <th>terrible</th>\n",
       "      <th>food</th>\n",
       "      <th>service</th>\n",
       "      <th>value</th>\n",
       "      <th>atmosphere</th>\n",
       "      <th>keywords</th>\n",
       "    </tr>\n",
       "  </thead>\n",
       "  <tbody>\n",
       "    <tr>\n",
       "      <th>0</th>\n",
       "      <td>g10001637-d10002227</td>\n",
       "      <td>Le 147</td>\n",
       "      <td>[\"Europe\", \"France\", \"Nouvelle-Aquitaine\", \"Ha...</td>\n",
       "      <td>France</td>\n",
       "      <td>Nouvelle-Aquitaine</td>\n",
       "      <td>Haute-Vienne</td>\n",
       "      <td>Saint-Jouvent</td>\n",
       "      <td>10 Maison Neuve, 87510 Saint-Jouvent France</td>\n",
       "      <td>45.961674</td>\n",
       "      <td>1.169131</td>\n",
       "      <td>...</td>\n",
       "      <td>2.0</td>\n",
       "      <td>0.0</td>\n",
       "      <td>0.0</td>\n",
       "      <td>0.0</td>\n",
       "      <td>0.0</td>\n",
       "      <td>4.0</td>\n",
       "      <td>4.5</td>\n",
       "      <td>4.0</td>\n",
       "      <td>NaN</td>\n",
       "      <td>NaN</td>\n",
       "    </tr>\n",
       "    <tr>\n",
       "      <th>1</th>\n",
       "      <td>g10001637-d14975787</td>\n",
       "      <td>Le Saint Jouvent</td>\n",
       "      <td>[\"Europe\", \"France\", \"Nouvelle-Aquitaine\", \"Ha...</td>\n",
       "      <td>France</td>\n",
       "      <td>Nouvelle-Aquitaine</td>\n",
       "      <td>Haute-Vienne</td>\n",
       "      <td>Saint-Jouvent</td>\n",
       "      <td>16 Place de l Eglise, 87510 Saint-Jouvent France</td>\n",
       "      <td>45.957040</td>\n",
       "      <td>1.205480</td>\n",
       "      <td>...</td>\n",
       "      <td>2.0</td>\n",
       "      <td>2.0</td>\n",
       "      <td>1.0</td>\n",
       "      <td>0.0</td>\n",
       "      <td>0.0</td>\n",
       "      <td>NaN</td>\n",
       "      <td>NaN</td>\n",
       "      <td>NaN</td>\n",
       "      <td>NaN</td>\n",
       "      <td>NaN</td>\n",
       "    </tr>\n",
       "    <tr>\n",
       "      <th>2</th>\n",
       "      <td>g10002858-d4586832</td>\n",
       "      <td>Au Bout du Pont</td>\n",
       "      <td>[\"Europe\", \"France\", \"Centre-Val de Loire\", \"B...</td>\n",
       "      <td>France</td>\n",
       "      <td>Centre-Val de Loire</td>\n",
       "      <td>Berry</td>\n",
       "      <td>Rivarennes</td>\n",
       "      <td>2 rue des Dames, 36800 Rivarennes France</td>\n",
       "      <td>46.635895</td>\n",
       "      <td>1.386133</td>\n",
       "      <td>...</td>\n",
       "      <td>3.0</td>\n",
       "      <td>1.0</td>\n",
       "      <td>0.0</td>\n",
       "      <td>0.0</td>\n",
       "      <td>0.0</td>\n",
       "      <td>NaN</td>\n",
       "      <td>NaN</td>\n",
       "      <td>NaN</td>\n",
       "      <td>NaN</td>\n",
       "      <td>NaN</td>\n",
       "    </tr>\n",
       "    <tr>\n",
       "      <th>3</th>\n",
       "      <td>g10002986-d3510044</td>\n",
       "      <td>Le Relais de Naiade</td>\n",
       "      <td>[\"Europe\", \"France\", \"Nouvelle-Aquitaine\", \"Co...</td>\n",
       "      <td>France</td>\n",
       "      <td>Nouvelle-Aquitaine</td>\n",
       "      <td>Correze</td>\n",
       "      <td>Lacelle</td>\n",
       "      <td>9 avenue Porte de la Correze 19170, 19170 Lace...</td>\n",
       "      <td>45.642610</td>\n",
       "      <td>1.824460</td>\n",
       "      <td>...</td>\n",
       "      <td>1.0</td>\n",
       "      <td>0.0</td>\n",
       "      <td>0.0</td>\n",
       "      <td>0.0</td>\n",
       "      <td>0.0</td>\n",
       "      <td>4.5</td>\n",
       "      <td>4.5</td>\n",
       "      <td>4.5</td>\n",
       "      <td>NaN</td>\n",
       "      <td>NaN</td>\n",
       "    </tr>\n",
       "    <tr>\n",
       "      <th>4</th>\n",
       "      <td>g10022428-d9767191</td>\n",
       "      <td>Relais Du MontSeigne</td>\n",
       "      <td>[\"Europe\", \"France\", \"Occitanie\", \"Aveyron\", \"...</td>\n",
       "      <td>France</td>\n",
       "      <td>Occitanie</td>\n",
       "      <td>Aveyron</td>\n",
       "      <td>Saint-Laurent-de-Levezou</td>\n",
       "      <td>route du Montseigne, 12620 Saint-Laurent-de-Le...</td>\n",
       "      <td>44.208860</td>\n",
       "      <td>2.960470</td>\n",
       "      <td>...</td>\n",
       "      <td>4.0</td>\n",
       "      <td>7.0</td>\n",
       "      <td>0.0</td>\n",
       "      <td>0.0</td>\n",
       "      <td>0.0</td>\n",
       "      <td>4.5</td>\n",
       "      <td>4.5</td>\n",
       "      <td>4.5</td>\n",
       "      <td>NaN</td>\n",
       "      <td>NaN</td>\n",
       "    </tr>\n",
       "  </tbody>\n",
       "</table>\n",
       "<p>5 rows × 42 columns</p>\n",
       "</div>"
      ],
      "text/plain": [
       "       restaurant_link       restaurant_name  \\\n",
       "0  g10001637-d10002227                Le 147   \n",
       "1  g10001637-d14975787      Le Saint Jouvent   \n",
       "2   g10002858-d4586832       Au Bout du Pont   \n",
       "3   g10002986-d3510044   Le Relais de Naiade   \n",
       "4   g10022428-d9767191  Relais Du MontSeigne   \n",
       "\n",
       "                                   original_location country  \\\n",
       "0  [\"Europe\", \"France\", \"Nouvelle-Aquitaine\", \"Ha...  France   \n",
       "1  [\"Europe\", \"France\", \"Nouvelle-Aquitaine\", \"Ha...  France   \n",
       "2  [\"Europe\", \"France\", \"Centre-Val de Loire\", \"B...  France   \n",
       "3  [\"Europe\", \"France\", \"Nouvelle-Aquitaine\", \"Co...  France   \n",
       "4  [\"Europe\", \"France\", \"Occitanie\", \"Aveyron\", \"...  France   \n",
       "\n",
       "                region      province                      city  \\\n",
       "0   Nouvelle-Aquitaine  Haute-Vienne             Saint-Jouvent   \n",
       "1   Nouvelle-Aquitaine  Haute-Vienne             Saint-Jouvent   \n",
       "2  Centre-Val de Loire         Berry                Rivarennes   \n",
       "3   Nouvelle-Aquitaine       Correze                   Lacelle   \n",
       "4            Occitanie       Aveyron  Saint-Laurent-de-Levezou   \n",
       "\n",
       "                                             address   latitude  longitude  \\\n",
       "0        10 Maison Neuve, 87510 Saint-Jouvent France  45.961674   1.169131   \n",
       "1   16 Place de l Eglise, 87510 Saint-Jouvent France  45.957040   1.205480   \n",
       "2           2 rue des Dames, 36800 Rivarennes France  46.635895   1.386133   \n",
       "3  9 avenue Porte de la Correze 19170, 19170 Lace...  45.642610   1.824460   \n",
       "4  route du Montseigne, 12620 Saint-Laurent-de-Le...  44.208860   2.960470   \n",
       "\n",
       "   ... excellent very_good average poor terrible food service value  \\\n",
       "0  ...       2.0       0.0     0.0  0.0      0.0  4.0     4.5   4.0   \n",
       "1  ...       2.0       2.0     1.0  0.0      0.0  NaN     NaN   NaN   \n",
       "2  ...       3.0       1.0     0.0  0.0      0.0  NaN     NaN   NaN   \n",
       "3  ...       1.0       0.0     0.0  0.0      0.0  4.5     4.5   4.5   \n",
       "4  ...       4.0       7.0     0.0  0.0      0.0  4.5     4.5   4.5   \n",
       "\n",
       "  atmosphere keywords  \n",
       "0        NaN      NaN  \n",
       "1        NaN      NaN  \n",
       "2        NaN      NaN  \n",
       "3        NaN      NaN  \n",
       "4        NaN      NaN  \n",
       "\n",
       "[5 rows x 42 columns]"
      ]
     },
     "execution_count": 2,
     "metadata": {},
     "output_type": "execute_result"
    }
   ],
   "source": [
    "data = Path('Resources/tripadvisor_european_restaurants.csv')\n",
    "restaurant_df = pd.read_csv(data)\n",
    "restaurant_df.head()"
   ]
  },
  {
   "cell_type": "code",
   "execution_count": 3,
   "id": "b457570b",
   "metadata": {
    "scrolled": true
   },
   "outputs": [
    {
     "name": "stdout",
     "output_type": "stream",
     "text": [
      "(1083397, 42)\n"
     ]
    }
   ],
   "source": [
    "print(restaurant_df.shape)"
   ]
  },
  {
   "cell_type": "code",
   "execution_count": 4,
   "id": "26c356b6",
   "metadata": {},
   "outputs": [
    {
     "data": {
      "text/plain": [
       "Index(['restaurant_link', 'restaurant_name', 'original_location', 'country',\n",
       "       'region', 'province', 'city', 'address', 'latitude', 'longitude',\n",
       "       'claimed', 'awards', 'popularity_detailed', 'popularity_generic',\n",
       "       'top_tags', 'price_level', 'price_range', 'meals', 'cuisines',\n",
       "       'special_diets', 'features', 'vegetarian_friendly', 'vegan_options',\n",
       "       'gluten_free', 'original_open_hours', 'open_days_per_week',\n",
       "       'open_hours_per_week', 'working_shifts_per_week', 'avg_rating',\n",
       "       'total_reviews_count', 'default_language',\n",
       "       'reviews_count_in_default_language', 'excellent', 'very_good',\n",
       "       'average', 'poor', 'terrible', 'food', 'service', 'value', 'atmosphere',\n",
       "       'keywords'],\n",
       "      dtype='object')"
      ]
     },
     "execution_count": 4,
     "metadata": {},
     "output_type": "execute_result"
    }
   ],
   "source": [
    "restaurant_df.columns"
   ]
  },
  {
   "cell_type": "code",
   "execution_count": 5,
   "id": "3d2618be",
   "metadata": {
    "scrolled": true
   },
   "outputs": [
    {
     "data": {
      "text/plain": [
       "restaurant_link                       object\n",
       "restaurant_name                       object\n",
       "original_location                     object\n",
       "country                               object\n",
       "region                                object\n",
       "province                              object\n",
       "city                                  object\n",
       "address                               object\n",
       "latitude                             float64\n",
       "longitude                            float64\n",
       "claimed                               object\n",
       "awards                                object\n",
       "popularity_detailed                   object\n",
       "popularity_generic                    object\n",
       "top_tags                              object\n",
       "price_level                           object\n",
       "price_range                           object\n",
       "meals                                 object\n",
       "cuisines                              object\n",
       "special_diets                         object\n",
       "features                              object\n",
       "vegetarian_friendly                   object\n",
       "vegan_options                         object\n",
       "gluten_free                           object\n",
       "original_open_hours                   object\n",
       "open_days_per_week                   float64\n",
       "open_hours_per_week                  float64\n",
       "working_shifts_per_week              float64\n",
       "avg_rating                           float64\n",
       "total_reviews_count                  float64\n",
       "default_language                      object\n",
       "reviews_count_in_default_language    float64\n",
       "excellent                            float64\n",
       "very_good                            float64\n",
       "average                              float64\n",
       "poor                                 float64\n",
       "terrible                             float64\n",
       "food                                 float64\n",
       "service                              float64\n",
       "value                                float64\n",
       "atmosphere                           float64\n",
       "keywords                              object\n",
       "dtype: object"
      ]
     },
     "execution_count": 5,
     "metadata": {},
     "output_type": "execute_result"
    }
   ],
   "source": [
    "# Determine data types\n",
    "restaurant_df.dtypes"
   ]
  },
  {
   "cell_type": "code",
   "execution_count": 6,
   "id": "f14a26cf",
   "metadata": {
    "scrolled": true
   },
   "outputs": [
    {
     "data": {
      "text/plain": [
       "restaurant_link                           0\n",
       "restaurant_name                           0\n",
       "original_location                         0\n",
       "country                                   0\n",
       "region                                50323\n",
       "province                             340632\n",
       "city                                 400685\n",
       "address                                   0\n",
       "latitude                              15790\n",
       "longitude                             15790\n",
       "claimed                                1842\n",
       "awards                               820264\n",
       "popularity_detailed                   94988\n",
       "popularity_generic                    97792\n",
       "top_tags                             110634\n",
       "price_level                          277205\n",
       "price_range                          779070\n",
       "meals                                448050\n",
       "cuisines                             169103\n",
       "special_diets                        743141\n",
       "features                             765990\n",
       "vegetarian_friendly                       0\n",
       "vegan_options                             0\n",
       "gluten_free                               0\n",
       "original_open_hours                  489565\n",
       "open_days_per_week                   489565\n",
       "open_hours_per_week                  489565\n",
       "working_shifts_per_week              489565\n",
       "avg_rating                            96636\n",
       "total_reviews_count                   52235\n",
       "default_language                      95193\n",
       "reviews_count_in_default_language     95193\n",
       "excellent                             95193\n",
       "very_good                             95193\n",
       "average                               95193\n",
       "poor                                  95193\n",
       "terrible                              95193\n",
       "food                                 484072\n",
       "service                              479110\n",
       "value                                480705\n",
       "atmosphere                           821612\n",
       "keywords                             984199\n",
       "dtype: int64"
      ]
     },
     "execution_count": 6,
     "metadata": {},
     "output_type": "execute_result"
    }
   ],
   "source": [
    "# Count the NaN under each column\n",
    "restaurant_df.isnull().sum()"
   ]
  },
  {
   "cell_type": "code",
   "execution_count": 7,
   "id": "ba53aad2",
   "metadata": {},
   "outputs": [
    {
     "data": {
      "text/plain": [
       "<AxesSubplot:>"
      ]
     },
     "execution_count": 7,
     "metadata": {},
     "output_type": "execute_result"
    },
    {
     "data": {
      "image/png": "[encoded data removed]",
      "text/plain": [
       "<Figure size 1008x432 with 2 Axes>"
      ]
     },
     "metadata": {
      "needs_background": "light"
     },
     "output_type": "display_data"
    }
   ],
   "source": [
    "# Use heatmap to visulize the distribution of null data\n",
    "import seaborn as sns\n",
    "plt.figure(figsize = (14,6))\n",
    "sns.heatmap(restaurant_df.isnull(), yticklabels=False, cmap='viridis')"
   ]
  },
  {
   "cell_type": "code",
   "execution_count": 8,
   "id": "a7d951aa",
   "metadata": {
    "scrolled": false
   },
   "outputs": [
    {
     "data": {
      "text/plain": [
       "<AxesSubplot:xlabel='vegetarian_friendly', ylabel='count'>"
      ]
     },
     "execution_count": 8,
     "metadata": {},
     "output_type": "execute_result"
    },
    {
     "data": {
      "image/png": "[encoded data removed]",
      "text/plain": [
       "<Figure size 432x288 with 1 Axes>"
      ]
     },
     "metadata": {
      "needs_background": "light"
     },
     "output_type": "display_data"
    }
   ],
   "source": [
    "sns.countplot(x='vegetarian_friendly',data=restaurant_df)"
   ]
  },
  {
   "cell_type": "code",
   "execution_count": 9,
   "id": "f57fda21",
   "metadata": {
    "scrolled": true
   },
   "outputs": [
    {
     "data": {
      "text/plain": [
       "<AxesSubplot:xlabel='service', ylabel='count'>"
      ]
     },
     "execution_count": 9,
     "metadata": {},
     "output_type": "execute_result"
    },
    {
     "data": {
      "image/png": "[encoded data removed]",
      "text/plain": [
       "<Figure size 432x288 with 1 Axes>"
      ]
     },
     "metadata": {
      "needs_background": "light"
     },
     "output_type": "display_data"
    }
   ],
   "source": [
    "sns.countplot(x='service', data=restaurant_df)"
   ]
  },
  {
   "cell_type": "code",
   "execution_count": 10,
   "id": "e156c601",
   "metadata": {},
   "outputs": [
    {
     "data": {
      "text/plain": [
       "<AxesSubplot:xlabel='gluten_free', ylabel='count'>"
      ]
     },
     "execution_count": 10,
     "metadata": {},
     "output_type": "execute_result"
    },
    {
     "data": {
      "image/png": "[encoded data removed]",
      "text/plain": [
       "<Figure size 432x288 with 1 Axes>"
      ]
     },
     "metadata": {
      "needs_background": "light"
     },
     "output_type": "display_data"
    }
   ],
   "source": [
    "sns.countplot(x='gluten_free',data=restaurant_df)"
   ]
  },
  {
   "cell_type": "code",
   "execution_count": 11,
   "id": "17d68a3b",
   "metadata": {},
   "outputs": [],
   "source": [
    "# Drop unnecessary columns\n",
    "modify_resta = restaurant_df.drop(columns=['restaurant_link','original_location', 'claimed', 'keywords', 'province', \n",
    "                              'atmosphere', 'price_range', 'popularity_detailed', \n",
    "                              'popularity_generic', 'top_tags', 'meals','special_diets', 'features', \n",
    "                              'vegan_options','gluten_free', 'original_open_hours', 'open_days_per_week',\n",
    "                              'open_hours_per_week', 'working_shifts_per_week', \n",
    "                              'reviews_count_in_default_language', 'excellent', 'very_good',\n",
    "                             'average', 'poor', 'terrible', 'food', 'value', 'atmosphere',\n",
    "                             'keywords', 'default_language', ])"
   ]
  },
  {
   "cell_type": "code",
   "execution_count": 12,
   "id": "43ca5137",
   "metadata": {},
   "outputs": [
    {
     "name": "stdout",
     "output_type": "stream",
     "text": [
      "(1083397, 14)\n"
     ]
    }
   ],
   "source": [
    "print(modify_resta.shape)"
   ]
  },
  {
   "cell_type": "code",
   "execution_count": 13,
   "id": "0f559201",
   "metadata": {},
   "outputs": [
    {
     "data": {
      "text/html": [
       "<div>\n",
       "<style scoped>\n",
       "    .dataframe tbody tr th:only-of-type {\n",
       "        vertical-align: middle;\n",
       "    }\n",
       "\n",
       "    .dataframe tbody tr th {\n",
       "        vertical-align: top;\n",
       "    }\n",
       "\n",
       "    .dataframe thead th {\n",
       "        text-align: right;\n",
       "    }\n",
       "</style>\n",
       "<table border=\"1\" class=\"dataframe\">\n",
       "  <thead>\n",
       "    <tr style=\"text-align: right;\">\n",
       "      <th></th>\n",
       "      <th>restaurant_name</th>\n",
       "      <th>country</th>\n",
       "      <th>region</th>\n",
       "      <th>city</th>\n",
       "      <th>address</th>\n",
       "      <th>latitude</th>\n",
       "      <th>longitude</th>\n",
       "      <th>awards</th>\n",
       "      <th>price_level</th>\n",
       "      <th>cuisines</th>\n",
       "      <th>vegetarian_friendly</th>\n",
       "      <th>avg_rating</th>\n",
       "      <th>total_reviews_count</th>\n",
       "      <th>service</th>\n",
       "    </tr>\n",
       "  </thead>\n",
       "  <tbody>\n",
       "    <tr>\n",
       "      <th>0</th>\n",
       "      <td>Le 147</td>\n",
       "      <td>France</td>\n",
       "      <td>Nouvelle-Aquitaine</td>\n",
       "      <td>Saint-Jouvent</td>\n",
       "      <td>10 Maison Neuve, 87510 Saint-Jouvent France</td>\n",
       "      <td>45.961674</td>\n",
       "      <td>1.169131</td>\n",
       "      <td>NaN</td>\n",
       "      <td>€</td>\n",
       "      <td>French</td>\n",
       "      <td>N</td>\n",
       "      <td>4.0</td>\n",
       "      <td>36.0</td>\n",
       "      <td>4.5</td>\n",
       "    </tr>\n",
       "    <tr>\n",
       "      <th>1</th>\n",
       "      <td>Le Saint Jouvent</td>\n",
       "      <td>France</td>\n",
       "      <td>Nouvelle-Aquitaine</td>\n",
       "      <td>Saint-Jouvent</td>\n",
       "      <td>16 Place de l Eglise, 87510 Saint-Jouvent France</td>\n",
       "      <td>45.957040</td>\n",
       "      <td>1.205480</td>\n",
       "      <td>NaN</td>\n",
       "      <td>€</td>\n",
       "      <td>NaN</td>\n",
       "      <td>N</td>\n",
       "      <td>4.0</td>\n",
       "      <td>5.0</td>\n",
       "      <td>NaN</td>\n",
       "    </tr>\n",
       "    <tr>\n",
       "      <th>2</th>\n",
       "      <td>Au Bout du Pont</td>\n",
       "      <td>France</td>\n",
       "      <td>Centre-Val de Loire</td>\n",
       "      <td>Rivarennes</td>\n",
       "      <td>2 rue des Dames, 36800 Rivarennes France</td>\n",
       "      <td>46.635895</td>\n",
       "      <td>1.386133</td>\n",
       "      <td>NaN</td>\n",
       "      <td>€</td>\n",
       "      <td>French, European</td>\n",
       "      <td>N</td>\n",
       "      <td>5.0</td>\n",
       "      <td>13.0</td>\n",
       "      <td>NaN</td>\n",
       "    </tr>\n",
       "    <tr>\n",
       "      <th>3</th>\n",
       "      <td>Le Relais de Naiade</td>\n",
       "      <td>France</td>\n",
       "      <td>Nouvelle-Aquitaine</td>\n",
       "      <td>Lacelle</td>\n",
       "      <td>9 avenue Porte de la Correze 19170, 19170 Lace...</td>\n",
       "      <td>45.642610</td>\n",
       "      <td>1.824460</td>\n",
       "      <td>NaN</td>\n",
       "      <td>€</td>\n",
       "      <td>French</td>\n",
       "      <td>N</td>\n",
       "      <td>4.0</td>\n",
       "      <td>34.0</td>\n",
       "      <td>4.5</td>\n",
       "    </tr>\n",
       "    <tr>\n",
       "      <th>4</th>\n",
       "      <td>Relais Du MontSeigne</td>\n",
       "      <td>France</td>\n",
       "      <td>Occitanie</td>\n",
       "      <td>Saint-Laurent-de-Levezou</td>\n",
       "      <td>route du Montseigne, 12620 Saint-Laurent-de-Le...</td>\n",
       "      <td>44.208860</td>\n",
       "      <td>2.960470</td>\n",
       "      <td>NaN</td>\n",
       "      <td>€€-€€€</td>\n",
       "      <td>French</td>\n",
       "      <td>N</td>\n",
       "      <td>4.5</td>\n",
       "      <td>11.0</td>\n",
       "      <td>4.5</td>\n",
       "    </tr>\n",
       "  </tbody>\n",
       "</table>\n",
       "</div>"
      ],
      "text/plain": [
       "        restaurant_name country               region  \\\n",
       "0                Le 147  France   Nouvelle-Aquitaine   \n",
       "1      Le Saint Jouvent  France   Nouvelle-Aquitaine   \n",
       "2       Au Bout du Pont  France  Centre-Val de Loire   \n",
       "3   Le Relais de Naiade  France   Nouvelle-Aquitaine   \n",
       "4  Relais Du MontSeigne  France            Occitanie   \n",
       "\n",
       "                       city  \\\n",
       "0             Saint-Jouvent   \n",
       "1             Saint-Jouvent   \n",
       "2                Rivarennes   \n",
       "3                   Lacelle   \n",
       "4  Saint-Laurent-de-Levezou   \n",
       "\n",
       "                                             address   latitude  longitude  \\\n",
       "0        10 Maison Neuve, 87510 Saint-Jouvent France  45.961674   1.169131   \n",
       "1   16 Place de l Eglise, 87510 Saint-Jouvent France  45.957040   1.205480   \n",
       "2           2 rue des Dames, 36800 Rivarennes France  46.635895   1.386133   \n",
       "3  9 avenue Porte de la Correze 19170, 19170 Lace...  45.642610   1.824460   \n",
       "4  route du Montseigne, 12620 Saint-Laurent-de-Le...  44.208860   2.960470   \n",
       "\n",
       "  awards price_level          cuisines vegetarian_friendly  avg_rating  \\\n",
       "0    NaN           €            French                   N         4.0   \n",
       "1    NaN           €               NaN                   N         4.0   \n",
       "2    NaN           €  French, European                   N         5.0   \n",
       "3    NaN           €            French                   N         4.0   \n",
       "4    NaN      €€-€€€            French                   N         4.5   \n",
       "\n",
       "   total_reviews_count  service  \n",
       "0                 36.0      4.5  \n",
       "1                  5.0      NaN  \n",
       "2                 13.0      NaN  \n",
       "3                 34.0      4.5  \n",
       "4                 11.0      4.5  "
      ]
     },
     "execution_count": 13,
     "metadata": {},
     "output_type": "execute_result"
    }
   ],
   "source": [
    "modify_resta.head()"
   ]
  },
  {
   "cell_type": "code",
   "execution_count": 14,
   "id": "cd013e0d",
   "metadata": {
    "scrolled": false
   },
   "outputs": [
    {
     "data": {
      "text/plain": [
       "Italy               224763\n",
       "Spain               157479\n",
       "France              155288\n",
       "England             144681\n",
       "Germany             115333\n",
       "Greece               33763\n",
       "Portugal             32592\n",
       "The Netherlands      29792\n",
       "Poland               24698\n",
       "Belgium              23711\n",
       "Austria              20487\n",
       "Sweden               18555\n",
       "Czech Republic       14844\n",
       "Scotland             14215\n",
       "Ireland              11203\n",
       "Denmark               9485\n",
       "Wales                 9134\n",
       "Croatia               8375\n",
       "Romania               7842\n",
       "Hungary               7431\n",
       "Finland               7372\n",
       "Bulgaria              4469\n",
       "Slovakia              4251\n",
       "Northern Ireland      3634\n",
       "Name: country, dtype: int64"
      ]
     },
     "execution_count": 14,
     "metadata": {},
     "output_type": "execute_result"
    }
   ],
   "source": [
    "# Look at country value counts to select countries based on one location\n",
    "country_counts = modify_resta.country.value_counts()\n",
    "country_counts"
   ]
  },
  {
   "cell_type": "code",
   "execution_count": 15,
   "id": "cd92e2a0",
   "metadata": {},
   "outputs": [
    {
     "name": "stdout",
     "output_type": "stream",
     "text": [
      "(179233, 14)\n"
     ]
    }
   ],
   "source": [
    "# Filter the dataset to only include The british Island countries\n",
    "britain_df = modify_resta.loc[(modify_resta['country'] == \"England\")| \n",
    "                                    (modify_resta['country'] == \"Ireland\")|\n",
    "                                   (modify_resta['country'] == \"Scotland\")|\n",
    "                                    (modify_resta['country'] == \"Wales\")]\n",
    "print(britain_df.shape)"
   ]
  },
  {
   "cell_type": "code",
   "execution_count": 16,
   "id": "ec0db516",
   "metadata": {},
   "outputs": [
    {
     "data": {
      "text/html": [
       "<div>\n",
       "<style scoped>\n",
       "    .dataframe tbody tr th:only-of-type {\n",
       "        vertical-align: middle;\n",
       "    }\n",
       "\n",
       "    .dataframe tbody tr th {\n",
       "        vertical-align: top;\n",
       "    }\n",
       "\n",
       "    .dataframe thead th {\n",
       "        text-align: right;\n",
       "    }\n",
       "</style>\n",
       "<table border=\"1\" class=\"dataframe\">\n",
       "  <thead>\n",
       "    <tr style=\"text-align: right;\">\n",
       "      <th></th>\n",
       "      <th>restaurant_name</th>\n",
       "      <th>country</th>\n",
       "      <th>region</th>\n",
       "      <th>city</th>\n",
       "      <th>address</th>\n",
       "      <th>latitude</th>\n",
       "      <th>longitude</th>\n",
       "      <th>awards</th>\n",
       "      <th>price_level</th>\n",
       "      <th>cuisines</th>\n",
       "      <th>vegetarian_friendly</th>\n",
       "      <th>avg_rating</th>\n",
       "      <th>total_reviews_count</th>\n",
       "      <th>service</th>\n",
       "    </tr>\n",
       "  </thead>\n",
       "  <tbody>\n",
       "    <tr>\n",
       "      <th>478379</th>\n",
       "      <td>Cafe Mylor</td>\n",
       "      <td>England</td>\n",
       "      <td>Cornwall</td>\n",
       "      <td>Mylor Churchtown</td>\n",
       "      <td>Penarrow Road Mylor Yacht Harbour, Mylor Churc...</td>\n",
       "      <td>50.177025</td>\n",
       "      <td>-5.053397</td>\n",
       "      <td>Travellers' Choice, Certificate of Excellence ...</td>\n",
       "      <td>€€-€€€</td>\n",
       "      <td>Cafe, British</td>\n",
       "      <td>Y</td>\n",
       "      <td>4.5</td>\n",
       "      <td>347.0</td>\n",
       "      <td>4.5</td>\n",
       "    </tr>\n",
       "    <tr>\n",
       "      <th>478380</th>\n",
       "      <td>Subway</td>\n",
       "      <td>England</td>\n",
       "      <td>Surrey</td>\n",
       "      <td>Byfleet</td>\n",
       "      <td>39 Old Woking Road, Byfleet KT14 6LG England</td>\n",
       "      <td>51.337010</td>\n",
       "      <td>-0.504781</td>\n",
       "      <td>NaN</td>\n",
       "      <td>€</td>\n",
       "      <td>Deli</td>\n",
       "      <td>N</td>\n",
       "      <td>3.5</td>\n",
       "      <td>4.0</td>\n",
       "      <td>NaN</td>\n",
       "    </tr>\n",
       "    <tr>\n",
       "      <th>478381</th>\n",
       "      <td>The Bakery</td>\n",
       "      <td>England</td>\n",
       "      <td>Surrey</td>\n",
       "      <td>Byfleet</td>\n",
       "      <td>Coldharbour Road, Byfleet GU22 8SW England</td>\n",
       "      <td>51.327370</td>\n",
       "      <td>-0.510920</td>\n",
       "      <td>NaN</td>\n",
       "      <td>NaN</td>\n",
       "      <td>International</td>\n",
       "      <td>N</td>\n",
       "      <td>5.0</td>\n",
       "      <td>6.0</td>\n",
       "      <td>NaN</td>\n",
       "    </tr>\n",
       "    <tr>\n",
       "      <th>478382</th>\n",
       "      <td>Basmati tandoori</td>\n",
       "      <td>England</td>\n",
       "      <td>Surrey</td>\n",
       "      <td>Byfleet</td>\n",
       "      <td>23 High Road, Byfleet KT14 7QH England</td>\n",
       "      <td>51.339140</td>\n",
       "      <td>-0.478110</td>\n",
       "      <td>NaN</td>\n",
       "      <td>€€-€€€</td>\n",
       "      <td>Indian, Asian, Bangladeshi</td>\n",
       "      <td>N</td>\n",
       "      <td>3.0</td>\n",
       "      <td>4.0</td>\n",
       "      <td>NaN</td>\n",
       "    </tr>\n",
       "    <tr>\n",
       "      <th>478383</th>\n",
       "      <td>China Chef</td>\n",
       "      <td>England</td>\n",
       "      <td>Surrey</td>\n",
       "      <td>Byfleet</td>\n",
       "      <td>72 High Road Byfleet, Byfleet KT14 7QL England</td>\n",
       "      <td>51.338920</td>\n",
       "      <td>-0.476430</td>\n",
       "      <td>NaN</td>\n",
       "      <td>€€-€€€</td>\n",
       "      <td>Chinese</td>\n",
       "      <td>N</td>\n",
       "      <td>2.5</td>\n",
       "      <td>10.0</td>\n",
       "      <td>NaN</td>\n",
       "    </tr>\n",
       "  </tbody>\n",
       "</table>\n",
       "</div>"
      ],
      "text/plain": [
       "         restaurant_name  country    region              city  \\\n",
       "478379        Cafe Mylor  England  Cornwall  Mylor Churchtown   \n",
       "478380            Subway  England    Surrey           Byfleet   \n",
       "478381        The Bakery  England    Surrey           Byfleet   \n",
       "478382  Basmati tandoori  England    Surrey           Byfleet   \n",
       "478383        China Chef  England    Surrey           Byfleet   \n",
       "\n",
       "                                                  address   latitude  \\\n",
       "478379  Penarrow Road Mylor Yacht Harbour, Mylor Churc...  50.177025   \n",
       "478380       39 Old Woking Road, Byfleet KT14 6LG England  51.337010   \n",
       "478381         Coldharbour Road, Byfleet GU22 8SW England  51.327370   \n",
       "478382             23 High Road, Byfleet KT14 7QH England  51.339140   \n",
       "478383     72 High Road Byfleet, Byfleet KT14 7QL England  51.338920   \n",
       "\n",
       "        longitude                                             awards  \\\n",
       "478379  -5.053397  Travellers' Choice, Certificate of Excellence ...   \n",
       "478380  -0.504781                                                NaN   \n",
       "478381  -0.510920                                                NaN   \n",
       "478382  -0.478110                                                NaN   \n",
       "478383  -0.476430                                                NaN   \n",
       "\n",
       "       price_level                    cuisines vegetarian_friendly  \\\n",
       "478379      €€-€€€               Cafe, British                   Y   \n",
       "478380           €                        Deli                   N   \n",
       "478381         NaN               International                   N   \n",
       "478382      €€-€€€  Indian, Asian, Bangladeshi                   N   \n",
       "478383      €€-€€€                     Chinese                   N   \n",
       "\n",
       "        avg_rating  total_reviews_count  service  \n",
       "478379         4.5                347.0      4.5  \n",
       "478380         3.5                  4.0      NaN  \n",
       "478381         5.0                  6.0      NaN  \n",
       "478382         3.0                  4.0      NaN  \n",
       "478383         2.5                 10.0      NaN  "
      ]
     },
     "execution_count": 16,
     "metadata": {},
     "output_type": "execute_result"
    }
   ],
   "source": [
    "britain_df.head(5)"
   ]
  },
  {
   "cell_type": "code",
   "execution_count": 17,
   "id": "84cf2a49",
   "metadata": {
    "scrolled": true
   },
   "outputs": [
    {
     "data": {
      "text/plain": [
       "Bar, British, Pub                       13370\n",
       "Cafe                                    12038\n",
       "Cafe, British                           11093\n",
       "British                                  8015\n",
       "Fast food                                5182\n",
       "                                        ...  \n",
       "Cafe, Asian, Vietnamese, Soups              1\n",
       "Balti, Pakistani, Indian                    1\n",
       "Cafe, British, Italian, Pizza, Asian        1\n",
       "Mediterranean, Pizza, Cafe, British         1\n",
       "Irish, European, Soups, Cafe                1\n",
       "Name: cuisines, Length: 15491, dtype: int64"
      ]
     },
     "execution_count": 17,
     "metadata": {},
     "output_type": "execute_result"
    }
   ],
   "source": [
    "# Look at country cuisines to determine if cuisines could be filitered or needs to be dropped\n",
    "cuisine_counts = britain_df.cuisines.value_counts()\n",
    "cuisine_counts"
   ]
  },
  {
   "cell_type": "code",
   "execution_count": 18,
   "id": "a2ae40c3",
   "metadata": {
    "scrolled": true
   },
   "outputs": [
    {
     "data": {
      "text/plain": [
       "restaurant_name             0\n",
       "country                     0\n",
       "region                    708\n",
       "city                    30040\n",
       "address                     0\n",
       "latitude                 1618\n",
       "longitude                1618\n",
       "awards                 124083\n",
       "price_level             41185\n",
       "cuisines                25393\n",
       "vegetarian_friendly         0\n",
       "avg_rating              14003\n",
       "total_reviews_count      8338\n",
       "service                 67364\n",
       "dtype: int64"
      ]
     },
     "execution_count": 18,
     "metadata": {},
     "output_type": "execute_result"
    }
   ],
   "source": [
    "britain_df.isna().sum()"
   ]
  },
  {
   "cell_type": "code",
   "execution_count": 19,
   "id": "dadc7a15",
   "metadata": {
    "scrolled": false
   },
   "outputs": [
    {
     "data": {
      "text/plain": [
       "<AxesSubplot:>"
      ]
     },
     "execution_count": 19,
     "metadata": {},
     "output_type": "execute_result"
    },
    {
     "data": {
      "image/png": "[encoded data removed]",
      "text/plain": [
       "<Figure size 1008x432 with 2 Axes>"
      ]
     },
     "metadata": {
      "needs_background": "light"
     },
     "output_type": "display_data"
    }
   ],
   "source": [
    "# Use heatmap to visulize the distribution of null data\n",
    "plt.figure(figsize = (14,6))\n",
    "sns.heatmap(britain_df.isnull(), yticklabels=False, cmap='viridis')"
   ]
  },
  {
   "cell_type": "code",
   "execution_count": 20,
   "id": "447b139f",
   "metadata": {},
   "outputs": [
    {
     "data": {
      "text/plain": [
       "array(['€€-€€€', '€', nan, '€€€€'], dtype=object)"
      ]
     },
     "execution_count": 20,
     "metadata": {},
     "output_type": "execute_result"
    }
   ],
   "source": [
    "# Check how many characters need to be corrected\n",
    "unique_price_level = britain_df['price_level'].unique()\n",
    "unique_price_level"
   ]
  },
  {
   "cell_type": "code",
   "execution_count": 21,
   "id": "f46a5c9a",
   "metadata": {},
   "outputs": [
    {
     "data": {
      "text/plain": [
       "€€-€€€    89791\n",
       "€         45605\n",
       "€€€€       2652\n",
       "Name: price_level, dtype: int64"
      ]
     },
     "execution_count": 21,
     "metadata": {},
     "output_type": "execute_result"
    }
   ],
   "source": [
    "# Look at country cuisines to determine if cuisines could be filitered or needs to be dropped\n",
    "price_counts = britain_df.price_level.value_counts()\n",
    "price_counts"
   ]
  },
  {
   "cell_type": "code",
   "execution_count": 22,
   "id": "82945058",
   "metadata": {},
   "outputs": [
    {
     "name": "stderr",
     "output_type": "stream",
     "text": [
      "C:\\Users\\genei\\AppData\\Local\\Temp\\ipykernel_21576\\107256644.py:2: SettingWithCopyWarning: \n",
      "A value is trying to be set on a copy of a slice from a DataFrame.\n",
      "Try using .loc[row_indexer,col_indexer] = value instead\n",
      "\n",
      "See the caveats in the documentation: https://pandas.pydata.org/pandas-docs/stable/user_guide/indexing.html#returning-a-view-versus-a-copy\n",
      "  britain_df['price_level'] = britain_df['price_level'].map({'€':1,'€€-€€€':2, '€€€€':3 })\n"
     ]
    }
   ],
   "source": [
    "# Apply the map function to turn euro symbol to number\n",
    "britain_df['price_level'] = britain_df['price_level'].map({'€':1,'€€-€€€':2, '€€€€':3 })"
   ]
  },
  {
   "cell_type": "code",
   "execution_count": 23,
   "id": "b27d0cc2",
   "metadata": {},
   "outputs": [
    {
     "data": {
      "text/html": [
       "<div>\n",
       "<style scoped>\n",
       "    .dataframe tbody tr th:only-of-type {\n",
       "        vertical-align: middle;\n",
       "    }\n",
       "\n",
       "    .dataframe tbody tr th {\n",
       "        vertical-align: top;\n",
       "    }\n",
       "\n",
       "    .dataframe thead th {\n",
       "        text-align: right;\n",
       "    }\n",
       "</style>\n",
       "<table border=\"1\" class=\"dataframe\">\n",
       "  <thead>\n",
       "    <tr style=\"text-align: right;\">\n",
       "      <th></th>\n",
       "      <th>restaurant_name</th>\n",
       "      <th>country</th>\n",
       "      <th>region</th>\n",
       "      <th>city</th>\n",
       "      <th>address</th>\n",
       "      <th>latitude</th>\n",
       "      <th>longitude</th>\n",
       "      <th>awards</th>\n",
       "      <th>price_level</th>\n",
       "      <th>cuisines</th>\n",
       "      <th>vegetarian_friendly</th>\n",
       "      <th>avg_rating</th>\n",
       "      <th>total_reviews_count</th>\n",
       "      <th>service</th>\n",
       "    </tr>\n",
       "  </thead>\n",
       "  <tbody>\n",
       "    <tr>\n",
       "      <th>478379</th>\n",
       "      <td>Cafe Mylor</td>\n",
       "      <td>England</td>\n",
       "      <td>Cornwall</td>\n",
       "      <td>Mylor Churchtown</td>\n",
       "      <td>Penarrow Road Mylor Yacht Harbour, Mylor Churc...</td>\n",
       "      <td>50.177025</td>\n",
       "      <td>-5.053397</td>\n",
       "      <td>Travellers' Choice, Certificate of Excellence ...</td>\n",
       "      <td>2.0</td>\n",
       "      <td>Cafe, British</td>\n",
       "      <td>Y</td>\n",
       "      <td>4.5</td>\n",
       "      <td>347.0</td>\n",
       "      <td>4.5</td>\n",
       "    </tr>\n",
       "    <tr>\n",
       "      <th>478380</th>\n",
       "      <td>Subway</td>\n",
       "      <td>England</td>\n",
       "      <td>Surrey</td>\n",
       "      <td>Byfleet</td>\n",
       "      <td>39 Old Woking Road, Byfleet KT14 6LG England</td>\n",
       "      <td>51.337010</td>\n",
       "      <td>-0.504781</td>\n",
       "      <td>NaN</td>\n",
       "      <td>1.0</td>\n",
       "      <td>Deli</td>\n",
       "      <td>N</td>\n",
       "      <td>3.5</td>\n",
       "      <td>4.0</td>\n",
       "      <td>NaN</td>\n",
       "    </tr>\n",
       "    <tr>\n",
       "      <th>478381</th>\n",
       "      <td>The Bakery</td>\n",
       "      <td>England</td>\n",
       "      <td>Surrey</td>\n",
       "      <td>Byfleet</td>\n",
       "      <td>Coldharbour Road, Byfleet GU22 8SW England</td>\n",
       "      <td>51.327370</td>\n",
       "      <td>-0.510920</td>\n",
       "      <td>NaN</td>\n",
       "      <td>NaN</td>\n",
       "      <td>International</td>\n",
       "      <td>N</td>\n",
       "      <td>5.0</td>\n",
       "      <td>6.0</td>\n",
       "      <td>NaN</td>\n",
       "    </tr>\n",
       "    <tr>\n",
       "      <th>478382</th>\n",
       "      <td>Basmati tandoori</td>\n",
       "      <td>England</td>\n",
       "      <td>Surrey</td>\n",
       "      <td>Byfleet</td>\n",
       "      <td>23 High Road, Byfleet KT14 7QH England</td>\n",
       "      <td>51.339140</td>\n",
       "      <td>-0.478110</td>\n",
       "      <td>NaN</td>\n",
       "      <td>2.0</td>\n",
       "      <td>Indian, Asian, Bangladeshi</td>\n",
       "      <td>N</td>\n",
       "      <td>3.0</td>\n",
       "      <td>4.0</td>\n",
       "      <td>NaN</td>\n",
       "    </tr>\n",
       "    <tr>\n",
       "      <th>478383</th>\n",
       "      <td>China Chef</td>\n",
       "      <td>England</td>\n",
       "      <td>Surrey</td>\n",
       "      <td>Byfleet</td>\n",
       "      <td>72 High Road Byfleet, Byfleet KT14 7QL England</td>\n",
       "      <td>51.338920</td>\n",
       "      <td>-0.476430</td>\n",
       "      <td>NaN</td>\n",
       "      <td>2.0</td>\n",
       "      <td>Chinese</td>\n",
       "      <td>N</td>\n",
       "      <td>2.5</td>\n",
       "      <td>10.0</td>\n",
       "      <td>NaN</td>\n",
       "    </tr>\n",
       "  </tbody>\n",
       "</table>\n",
       "</div>"
      ],
      "text/plain": [
       "         restaurant_name  country    region              city  \\\n",
       "478379        Cafe Mylor  England  Cornwall  Mylor Churchtown   \n",
       "478380            Subway  England    Surrey           Byfleet   \n",
       "478381        The Bakery  England    Surrey           Byfleet   \n",
       "478382  Basmati tandoori  England    Surrey           Byfleet   \n",
       "478383        China Chef  England    Surrey           Byfleet   \n",
       "\n",
       "                                                  address   latitude  \\\n",
       "478379  Penarrow Road Mylor Yacht Harbour, Mylor Churc...  50.177025   \n",
       "478380       39 Old Woking Road, Byfleet KT14 6LG England  51.337010   \n",
       "478381         Coldharbour Road, Byfleet GU22 8SW England  51.327370   \n",
       "478382             23 High Road, Byfleet KT14 7QH England  51.339140   \n",
       "478383     72 High Road Byfleet, Byfleet KT14 7QL England  51.338920   \n",
       "\n",
       "        longitude                                             awards  \\\n",
       "478379  -5.053397  Travellers' Choice, Certificate of Excellence ...   \n",
       "478380  -0.504781                                                NaN   \n",
       "478381  -0.510920                                                NaN   \n",
       "478382  -0.478110                                                NaN   \n",
       "478383  -0.476430                                                NaN   \n",
       "\n",
       "        price_level                    cuisines vegetarian_friendly  \\\n",
       "478379          2.0               Cafe, British                   Y   \n",
       "478380          1.0                        Deli                   N   \n",
       "478381          NaN               International                   N   \n",
       "478382          2.0  Indian, Asian, Bangladeshi                   N   \n",
       "478383          2.0                     Chinese                   N   \n",
       "\n",
       "        avg_rating  total_reviews_count  service  \n",
       "478379         4.5                347.0      4.5  \n",
       "478380         3.5                  4.0      NaN  \n",
       "478381         5.0                  6.0      NaN  \n",
       "478382         3.0                  4.0      NaN  \n",
       "478383         2.5                 10.0      NaN  "
      ]
     },
     "execution_count": 23,
     "metadata": {},
     "output_type": "execute_result"
    }
   ],
   "source": [
    "britain_df.head()"
   ]
  },
  {
   "cell_type": "code",
   "execution_count": 24,
   "id": "9b5c5d01",
   "metadata": {},
   "outputs": [
    {
     "data": {
      "text/plain": [
       "2.0    89791\n",
       "1.0    45605\n",
       "3.0     2652\n",
       "Name: price_level, dtype: int64"
      ]
     },
     "execution_count": 24,
     "metadata": {},
     "output_type": "execute_result"
    }
   ],
   "source": [
    "price_counts2 = britain_df.price_level.value_counts()\n",
    "price_counts2"
   ]
  },
  {
   "cell_type": "code",
   "execution_count": 26,
   "id": "ea425b1e",
   "metadata": {},
   "outputs": [
    {
     "data": {
      "text/plain": [
       "(110304, 14)"
      ]
     },
     "execution_count": 26,
     "metadata": {},
     "output_type": "execute_result"
    }
   ],
   "source": [
    "clean_britian_df = britain_df.dropna( how='any', subset=['price_level', 'service'])\n",
    "clean_britian_df.shape"
   ]
  },
  {
   "cell_type": "code",
   "execution_count": 27,
   "id": "00cc7c0d",
   "metadata": {},
   "outputs": [
    {
     "data": {
      "text/html": [
       "<div>\n",
       "<style scoped>\n",
       "    .dataframe tbody tr th:only-of-type {\n",
       "        vertical-align: middle;\n",
       "    }\n",
       "\n",
       "    .dataframe tbody tr th {\n",
       "        vertical-align: top;\n",
       "    }\n",
       "\n",
       "    .dataframe thead th {\n",
       "        text-align: right;\n",
       "    }\n",
       "</style>\n",
       "<table border=\"1\" class=\"dataframe\">\n",
       "  <thead>\n",
       "    <tr style=\"text-align: right;\">\n",
       "      <th></th>\n",
       "      <th>awards</th>\n",
       "      <th>price_level</th>\n",
       "      <th>vegetarian_friendly</th>\n",
       "      <th>avg_rating</th>\n",
       "      <th>total_reviews_count</th>\n",
       "      <th>service</th>\n",
       "    </tr>\n",
       "  </thead>\n",
       "  <tbody>\n",
       "    <tr>\n",
       "      <th>478379</th>\n",
       "      <td>Travellers' Choice, Certificate of Excellence ...</td>\n",
       "      <td>2.0</td>\n",
       "      <td>Y</td>\n",
       "      <td>4.5</td>\n",
       "      <td>347.0</td>\n",
       "      <td>4.5</td>\n",
       "    </tr>\n",
       "    <tr>\n",
       "      <th>478384</th>\n",
       "      <td>NaN</td>\n",
       "      <td>2.0</td>\n",
       "      <td>N</td>\n",
       "      <td>3.5</td>\n",
       "      <td>32.0</td>\n",
       "      <td>3.5</td>\n",
       "    </tr>\n",
       "    <tr>\n",
       "      <th>478386</th>\n",
       "      <td>NaN</td>\n",
       "      <td>2.0</td>\n",
       "      <td>Y</td>\n",
       "      <td>4.0</td>\n",
       "      <td>101.0</td>\n",
       "      <td>4.5</td>\n",
       "    </tr>\n",
       "    <tr>\n",
       "      <th>478389</th>\n",
       "      <td>Travellers' Choice, Certificate of Excellence ...</td>\n",
       "      <td>2.0</td>\n",
       "      <td>Y</td>\n",
       "      <td>4.5</td>\n",
       "      <td>104.0</td>\n",
       "      <td>4.5</td>\n",
       "    </tr>\n",
       "    <tr>\n",
       "      <th>478392</th>\n",
       "      <td>NaN</td>\n",
       "      <td>2.0</td>\n",
       "      <td>Y</td>\n",
       "      <td>3.5</td>\n",
       "      <td>34.0</td>\n",
       "      <td>3.0</td>\n",
       "    </tr>\n",
       "  </tbody>\n",
       "</table>\n",
       "</div>"
      ],
      "text/plain": [
       "                                                   awards  price_level  \\\n",
       "478379  Travellers' Choice, Certificate of Excellence ...          2.0   \n",
       "478384                                                NaN          2.0   \n",
       "478386                                                NaN          2.0   \n",
       "478389  Travellers' Choice, Certificate of Excellence ...          2.0   \n",
       "478392                                                NaN          2.0   \n",
       "\n",
       "       vegetarian_friendly  avg_rating  total_reviews_count  service  \n",
       "478379                   Y         4.5                347.0      4.5  \n",
       "478384                   N         3.5                 32.0      3.5  \n",
       "478386                   Y         4.0                101.0      4.5  \n",
       "478389                   Y         4.5                104.0      4.5  \n",
       "478392                   Y         3.5                 34.0      3.0  "
      ]
     },
     "execution_count": 27,
     "metadata": {},
     "output_type": "execute_result"
    }
   ],
   "source": [
    "clean_britian_df = clean_britian_df.drop(columns=['restaurant_name', \n",
    "                                                  'country', \n",
    "                                                  'region', \n",
    "                                                  'city', \n",
    "                                                  'address', \n",
    "                                                  'latitude', 'longitude', \n",
    "                                                  'cuisines'])\n",
    "clean_britian_df.head()"
   ]
  },
  {
   "cell_type": "code",
   "execution_count": 28,
   "id": "efcf9772",
   "metadata": {},
   "outputs": [
    {
     "data": {
      "text/html": [
       "<div>\n",
       "<style scoped>\n",
       "    .dataframe tbody tr th:only-of-type {\n",
       "        vertical-align: middle;\n",
       "    }\n",
       "\n",
       "    .dataframe tbody tr th {\n",
       "        vertical-align: top;\n",
       "    }\n",
       "\n",
       "    .dataframe thead th {\n",
       "        text-align: right;\n",
       "    }\n",
       "</style>\n",
       "<table border=\"1\" class=\"dataframe\">\n",
       "  <thead>\n",
       "    <tr style=\"text-align: right;\">\n",
       "      <th></th>\n",
       "      <th>awards</th>\n",
       "      <th>price_level</th>\n",
       "      <th>vegetarian_friendly</th>\n",
       "      <th>avg_rating</th>\n",
       "      <th>total_reviews_count</th>\n",
       "      <th>service</th>\n",
       "    </tr>\n",
       "  </thead>\n",
       "  <tbody>\n",
       "    <tr>\n",
       "      <th>478379</th>\n",
       "      <td>1</td>\n",
       "      <td>2.0</td>\n",
       "      <td>Y</td>\n",
       "      <td>4.5</td>\n",
       "      <td>347.0</td>\n",
       "      <td>4.5</td>\n",
       "    </tr>\n",
       "    <tr>\n",
       "      <th>478384</th>\n",
       "      <td>0</td>\n",
       "      <td>2.0</td>\n",
       "      <td>N</td>\n",
       "      <td>3.5</td>\n",
       "      <td>32.0</td>\n",
       "      <td>3.5</td>\n",
       "    </tr>\n",
       "    <tr>\n",
       "      <th>478386</th>\n",
       "      <td>0</td>\n",
       "      <td>2.0</td>\n",
       "      <td>Y</td>\n",
       "      <td>4.0</td>\n",
       "      <td>101.0</td>\n",
       "      <td>4.5</td>\n",
       "    </tr>\n",
       "    <tr>\n",
       "      <th>478389</th>\n",
       "      <td>1</td>\n",
       "      <td>2.0</td>\n",
       "      <td>Y</td>\n",
       "      <td>4.5</td>\n",
       "      <td>104.0</td>\n",
       "      <td>4.5</td>\n",
       "    </tr>\n",
       "    <tr>\n",
       "      <th>478392</th>\n",
       "      <td>0</td>\n",
       "      <td>2.0</td>\n",
       "      <td>Y</td>\n",
       "      <td>3.5</td>\n",
       "      <td>34.0</td>\n",
       "      <td>3.0</td>\n",
       "    </tr>\n",
       "    <tr>\n",
       "      <th>...</th>\n",
       "      <td>...</td>\n",
       "      <td>...</td>\n",
       "      <td>...</td>\n",
       "      <td>...</td>\n",
       "      <td>...</td>\n",
       "      <td>...</td>\n",
       "    </tr>\n",
       "    <tr>\n",
       "      <th>886002</th>\n",
       "      <td>1</td>\n",
       "      <td>2.0</td>\n",
       "      <td>Y</td>\n",
       "      <td>5.0</td>\n",
       "      <td>158.0</td>\n",
       "      <td>5.0</td>\n",
       "    </tr>\n",
       "    <tr>\n",
       "      <th>886003</th>\n",
       "      <td>0</td>\n",
       "      <td>2.0</td>\n",
       "      <td>N</td>\n",
       "      <td>4.5</td>\n",
       "      <td>24.0</td>\n",
       "      <td>4.5</td>\n",
       "    </tr>\n",
       "    <tr>\n",
       "      <th>886004</th>\n",
       "      <td>1</td>\n",
       "      <td>2.0</td>\n",
       "      <td>Y</td>\n",
       "      <td>4.5</td>\n",
       "      <td>104.0</td>\n",
       "      <td>4.5</td>\n",
       "    </tr>\n",
       "    <tr>\n",
       "      <th>886007</th>\n",
       "      <td>1</td>\n",
       "      <td>2.0</td>\n",
       "      <td>Y</td>\n",
       "      <td>4.5</td>\n",
       "      <td>106.0</td>\n",
       "      <td>4.5</td>\n",
       "    </tr>\n",
       "    <tr>\n",
       "      <th>886008</th>\n",
       "      <td>0</td>\n",
       "      <td>1.0</td>\n",
       "      <td>N</td>\n",
       "      <td>5.0</td>\n",
       "      <td>23.0</td>\n",
       "      <td>5.0</td>\n",
       "    </tr>\n",
       "  </tbody>\n",
       "</table>\n",
       "<p>110304 rows × 6 columns</p>\n",
       "</div>"
      ],
      "text/plain": [
       "        awards  price_level vegetarian_friendly  avg_rating  \\\n",
       "478379       1          2.0                   Y         4.5   \n",
       "478384       0          2.0                   N         3.5   \n",
       "478386       0          2.0                   Y         4.0   \n",
       "478389       1          2.0                   Y         4.5   \n",
       "478392       0          2.0                   Y         3.5   \n",
       "...        ...          ...                 ...         ...   \n",
       "886002       1          2.0                   Y         5.0   \n",
       "886003       0          2.0                   N         4.5   \n",
       "886004       1          2.0                   Y         4.5   \n",
       "886007       1          2.0                   Y         4.5   \n",
       "886008       0          1.0                   N         5.0   \n",
       "\n",
       "        total_reviews_count  service  \n",
       "478379                347.0      4.5  \n",
       "478384                 32.0      3.5  \n",
       "478386                101.0      4.5  \n",
       "478389                104.0      4.5  \n",
       "478392                 34.0      3.0  \n",
       "...                     ...      ...  \n",
       "886002                158.0      5.0  \n",
       "886003                 24.0      4.5  \n",
       "886004                104.0      4.5  \n",
       "886007                106.0      4.5  \n",
       "886008                 23.0      5.0  \n",
       "\n",
       "[110304 rows x 6 columns]"
      ]
     },
     "execution_count": 28,
     "metadata": {},
     "output_type": "execute_result"
    }
   ],
   "source": [
    "clean_award_df = clean_britian_df.copy()\n",
    "clean_award_df[['awards']] = clean_award_df[['awards']].notnull().astype(int)\n",
    "clean_award_df"
   ]
  },
  {
   "cell_type": "code",
   "execution_count": 29,
   "id": "c422893c",
   "metadata": {},
   "outputs": [],
   "source": [
    "# Export the clean data \n",
    "# clean_award_df.to_csv(\"Resources/clean_britian_restaurants.csv\")"
   ]
  },
  {
   "cell_type": "code",
   "execution_count": null,
   "id": "03a8236c",
   "metadata": {},
   "outputs": [],
   "source": []
  }
 ],
 "metadata": {
  "kernelspec": {
   "display_name": "mlenv2",
   "language": "python",
   "name": "mlenv2"
  },
  "language_info": {
   "codemirror_mode": {
    "name": "ipython",
    "version": 3
   },
   "file_extension": ".py",
   "mimetype": "text/x-python",
   "name": "python",
   "nbconvert_exporter": "python",
   "pygments_lexer": "ipython3",
   "version": "3.10.4"
  }
 },
 "nbformat": 4,
 "nbformat_minor": 5
}
