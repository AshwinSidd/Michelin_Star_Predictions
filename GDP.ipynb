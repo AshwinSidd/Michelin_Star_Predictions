{
 "cells": [
  {
   "cell_type": "code",
   "execution_count": 261,
   "id": "bcb7922b",
   "metadata": {},
   "outputs": [],
   "source": [
    "import json\n",
    "import pandas as pd\n",
    "import numpy as np\n",
    "import warnings\n",
    "warnings.filterwarnings('ignore')"
   ]
  },
  {
   "cell_type": "code",
   "execution_count": 90,
   "id": "c6513965",
   "metadata": {},
   "outputs": [],
   "source": [
    "#import the european restaurant data\n",
    "file_name = \"countries of the world.csv\"\n",
    "import_csv = pd.read_csv(file_name)"
   ]
  },
  {
   "cell_type": "code",
   "execution_count": 91,
   "id": "06cf2359",
   "metadata": {},
   "outputs": [],
   "source": [
    "#import Data into DF\n",
    "countries_data = pd.DataFrame(import_csv)"
   ]
  },
  {
   "cell_type": "code",
   "execution_count": 262,
   "id": "699dfcf4",
   "metadata": {},
   "outputs": [],
   "source": [
    "#drop columns not used\n",
    "countries_data_clean = countries_data.drop(['Region','Coastline (coast/area ratio)', 'Net migration', 'Infant mortality (per 1000 births)', \n",
    "                              'Literacy (%)', 'Phones (per 1000)', 'Crops (%)', \n",
    "                              'Other (%)', 'Climate', 'Birthrate','Deathrate', 'Agriculture', \n",
    "                              'Industry','Arable (%)'], axis=1)"
   ]
  },
  {
   "cell_type": "code",
   "execution_count": 263,
   "id": "c62937f8",
   "metadata": {},
   "outputs": [],
   "source": [
    "# Change coloumn name from United Area (sq. mi.) to Area \n",
    "\n",
    "countries_data_clean.rename(columns={'Area (sq. mi.)': 'Area'}, inplace=True)\n",
    "\n"
   ]
  },
  {
   "cell_type": "code",
   "execution_count": 264,
   "id": "bfb1ba64",
   "metadata": {},
   "outputs": [],
   "source": [
    "# Change coloumn name from United Pop. Density (per sq. mi.) to Pop_Density \n",
    "\n",
    "countries_data_clean.rename(columns={'Pop. Density (per sq. mi.)': 'Pop_Density'}, inplace=True)\n"
   ]
  },
  {
   "cell_type": "code",
   "execution_count": 265,
   "id": "fa8d98a7",
   "metadata": {},
   "outputs": [],
   "source": [
    "# Change coloumn name from United GDP ($ per capita) to GDP \n",
    "\n",
    "countries_data_clean.rename(columns={'GDP ($ per capita)': 'GDP'}, inplace=True)\n"
   ]
  },
  {
   "cell_type": "code",
   "execution_count": 266,
   "id": "9995f71b",
   "metadata": {},
   "outputs": [],
   "source": [
    "# To remove space at the end of Country name\n",
    "j=0\n",
    "for i in countries_data_clean.Country:\n",
    "    if i[-1:]== ' ':\n",
    "        countries_data_clean[\"Country\"][j]=i[:-1]\n",
    "    j=j+1"
   ]
  },
  {
   "cell_type": "code",
   "execution_count": 267,
   "id": "52fea8e2",
   "metadata": {},
   "outputs": [
    {
     "data": {
      "text/plain": [
       "'Afghanistan'"
      ]
     },
     "execution_count": 267,
     "metadata": {},
     "output_type": "execute_result"
    }
   ],
   "source": [
    "# Checking to see if space is removed\n",
    "countries_data_clean[\"Country\"][0]"
   ]
  },
  {
   "cell_type": "code",
   "execution_count": 268,
   "id": "0af4feed",
   "metadata": {},
   "outputs": [],
   "source": [
    "# Change coloumn name from United Kingdom to England \n",
    "countries_data_clean[\"Country\"].replace('United Kingdom', 'England',  inplace=True)"
   ]
  },
  {
   "cell_type": "code",
   "execution_count": 269,
   "id": "ae39d923",
   "metadata": {},
   "outputs": [
    {
     "data": {
      "text/html": [
       "<div>\n",
       "<style scoped>\n",
       "    .dataframe tbody tr th:only-of-type {\n",
       "        vertical-align: middle;\n",
       "    }\n",
       "\n",
       "    .dataframe tbody tr th {\n",
       "        vertical-align: top;\n",
       "    }\n",
       "\n",
       "    .dataframe thead th {\n",
       "        text-align: right;\n",
       "    }\n",
       "</style>\n",
       "<table border=\"1\" class=\"dataframe\">\n",
       "  <thead>\n",
       "    <tr style=\"text-align: right;\">\n",
       "      <th></th>\n",
       "      <th>Country</th>\n",
       "      <th>Population</th>\n",
       "      <th>Area</th>\n",
       "      <th>Pop_Density</th>\n",
       "      <th>GDP</th>\n",
       "      <th>Service</th>\n",
       "    </tr>\n",
       "  </thead>\n",
       "  <tbody>\n",
       "    <tr>\n",
       "      <th>213</th>\n",
       "      <td>England</td>\n",
       "      <td>60609153</td>\n",
       "      <td>244820</td>\n",
       "      <td>247,6</td>\n",
       "      <td>27700.0</td>\n",
       "      <td>0,758</td>\n",
       "    </tr>\n",
       "  </tbody>\n",
       "</table>\n",
       "</div>"
      ],
      "text/plain": [
       "     Country  Population    Area Pop_Density      GDP Service\n",
       "213  England    60609153  244820       247,6  27700.0   0,758"
      ]
     },
     "execution_count": 269,
     "metadata": {},
     "output_type": "execute_result"
    }
   ],
   "source": [
    "#Checking to see if Rpw name was succesfully Changed\n",
    "countries_data_clean[countries_data_clean['Country'] == \"England\"]"
   ]
  },
  {
   "cell_type": "code",
   "execution_count": 271,
   "id": "2b54fb14",
   "metadata": {},
   "outputs": [],
   "source": [
    "#filter the dataset to only include The most visited countries \n",
    "countries_df = countries_data_clean.loc[(countries_data_clean['Country'] == \"England\")| \n",
    "                                    (countries_data_clean['Country'] == \"Ireland\")|\n",
    "                                   (countries_data_clean['Country'] == \"France\")|\n",
    "                                    (countries_data_clean['Country'] == \"Italy\")]"
   ]
  },
  {
   "cell_type": "code",
   "execution_count": 272,
   "id": "a583b2ad",
   "metadata": {},
   "outputs": [],
   "source": [
    "# Remove commas and change it to decimals\n",
    "for j in range(0,len(countries_df.Pop_Density)):\n",
    "    countries_df.iloc[j,3]=countries_df.iloc[j,3].replace(',','.')"
   ]
  },
  {
   "cell_type": "code",
   "execution_count": 273,
   "id": "cd51fd7e",
   "metadata": {},
   "outputs": [],
   "source": [
    "countries_df['Service'] = countries_df.Service.str.replace(',','.')"
   ]
  },
  {
   "cell_type": "code",
   "execution_count": 274,
   "id": "b54de092",
   "metadata": {},
   "outputs": [
    {
     "name": "stdout",
     "output_type": "stream",
     "text": [
      "<class 'pandas.core.frame.DataFrame'>\n",
      "Int64Index: 4 entries, 69 to 213\n",
      "Data columns (total 6 columns):\n",
      " #   Column       Non-Null Count  Dtype  \n",
      "---  ------       --------------  -----  \n",
      " 0   Country      4 non-null      object \n",
      " 1   Population   4 non-null      int64  \n",
      " 2   Area         4 non-null      int64  \n",
      " 3   Pop_Density  4 non-null      object \n",
      " 4   GDP          4 non-null      float64\n",
      " 5   Service      4 non-null      object \n",
      "dtypes: float64(1), int64(2), object(3)\n",
      "memory usage: 224.0+ bytes\n"
     ]
    }
   ],
   "source": [
    "countries_df.info()"
   ]
  },
  {
   "cell_type": "code",
   "execution_count": 280,
   "id": "e2861edd",
   "metadata": {},
   "outputs": [],
   "source": [
    "countries_df.Pop_Density=countries_df.Pop_Density.astype(float)\n",
    "countries_df.Service=countries_df.Service.astype(float)"
   ]
  },
  {
   "cell_type": "code",
   "execution_count": 281,
   "id": "a486dd6e",
   "metadata": {},
   "outputs": [
    {
     "name": "stdout",
     "output_type": "stream",
     "text": [
      "<class 'pandas.core.frame.DataFrame'>\n",
      "Int64Index: 4 entries, 69 to 213\n",
      "Data columns (total 6 columns):\n",
      " #   Column       Non-Null Count  Dtype  \n",
      "---  ------       --------------  -----  \n",
      " 0   Country      4 non-null      object \n",
      " 1   Population   4 non-null      int64  \n",
      " 2   Area         4 non-null      int64  \n",
      " 3   Pop_Density  4 non-null      float64\n",
      " 4   GDP          4 non-null      float64\n",
      " 5   Service      4 non-null      float64\n",
      "dtypes: float64(3), int64(2), object(1)\n",
      "memory usage: 224.0+ bytes\n"
     ]
    }
   ],
   "source": [
    "countries_df.info()"
   ]
  },
  {
   "cell_type": "code",
   "execution_count": 282,
   "id": "b1cc9eb7",
   "metadata": {},
   "outputs": [],
   "source": [
    "countries_df.to_csv(\"../project/countires.csv\")"
   ]
  },
  {
   "cell_type": "code",
   "execution_count": null,
   "id": "fe5a8424",
   "metadata": {},
   "outputs": [],
   "source": []
  },
  {
   "cell_type": "code",
   "execution_count": null,
   "id": "6b89a6d3",
   "metadata": {},
   "outputs": [],
   "source": []
  }
 ],
 "metadata": {
  "kernelspec": {
   "display_name": "Python 3",
   "language": "python",
   "name": "python3"
  },
  "language_info": {
   "codemirror_mode": {
    "name": "ipython",
    "version": 3
   },
   "file_extension": ".py",
   "mimetype": "text/x-python",
   "name": "python",
   "nbconvert_exporter": "python",
   "pygments_lexer": "ipython3",
   "version": "3.8.8"
  }
 },
 "nbformat": 4,
 "nbformat_minor": 5
}
