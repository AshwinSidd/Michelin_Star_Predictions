{
 "cells": [
  {
   "cell_type": "code",
   "execution_count": 1,
   "id": "e3164269",
   "metadata": {},
   "outputs": [],
   "source": [
    "import json\n",
    "import pandas as pd\n",
    "import numpy as np"
   ]
  },
  {
   "cell_type": "code",
   "execution_count": 2,
   "id": "cb44cfff",
   "metadata": {},
   "outputs": [
    {
     "name": "stderr",
     "output_type": "stream",
     "text": [
      "C:\\Users\\julia\\anaconda3\\envs\\PythonData\\lib\\site-packages\\IPython\\core\\interactiveshell.py:3166: DtypeWarning: Columns (4) have mixed types.Specify dtype option on import or set low_memory=False.\n",
      "  interactivity=interactivity, compiler=compiler, result=result)\n"
     ]
    }
   ],
   "source": [
    "#import the european restaurant data\n",
    "file_name = \"../trip_advisor/tripadvisor_european_restaurants.csv\"\n",
    "import_csv = pd.read_csv(file_name)"
   ]
  },
  {
   "cell_type": "code",
   "execution_count": 3,
   "id": "ab2640e5",
   "metadata": {},
   "outputs": [],
   "source": [
    "#import Data into DF\n",
    "euro_resto = pd.DataFrame(import_csv)"
   ]
  },
  {
   "cell_type": "code",
   "execution_count": 4,
   "id": "ab8d6d4c",
   "metadata": {},
   "outputs": [],
   "source": [
    "#drop columns not used\n",
    "euro_resto_clean = euro_resto.drop(['restaurant_link','original_location', 'claimed', 'keywords', \n",
    "                              'atmosphere', 'price_range', 'popularity_detailed', \n",
    "                              'popularity_generic', 'top_tags', 'meals','special_diets', 'features', \n",
    "                              'vegetarian_friendly', \n",
    "                              'vegan_options','gluten_free', 'original_open_hours', 'open_days_per_week',\n",
    "                              'open_hours_per_week', 'working_shifts_per_week',\n",
    "                              'reviews_count_in_default_language', 'excellent', 'very_good',\n",
    "                             'average', 'poor', 'terrible', 'food', 'service', 'value', 'atmosphere',\n",
    "                             'keywords', 'default_language', 'province', 'address'], axis=1)\n"
   ]
  },
  {
   "cell_type": "code",
   "execution_count": 5,
   "id": "db9da235",
   "metadata": {},
   "outputs": [],
   "source": [
    "#filter the dataset to only include The british Island countries\n",
    "britain_df = euro_resto_clean.loc[(euro_resto_clean['country'] == \"England\")| \n",
    "                                    (euro_resto_clean['country'] == \"Ireland\")|\n",
    "                                   (euro_resto_clean['country'] == \"Scotland\")|\n",
    "                                    (euro_resto_clean['country'] == \"Wales\")]\n"
   ]
  },
  {
   "cell_type": "code",
   "execution_count": 6,
   "id": "8578cc66",
   "metadata": {},
   "outputs": [],
   "source": [
    "#remove any rows that have blank latitude, longitude or price_level\n",
    "britain_df = britain_df.dropna(subset=['latitude', 'longitude', 'price_level'])"
   ]
  },
  {
   "cell_type": "markdown",
   "id": "3ca62798",
   "metadata": {
    "scrolled": true
   },
   "source": [
    "### Awards"
   ]
  },
  {
   "cell_type": "code",
   "execution_count": 7,
   "id": "4db9c055",
   "metadata": {},
   "outputs": [],
   "source": [
    "#find awards that have michelin\n",
    "michelin_word = ['Michelin', 'michelin']\n",
    "word = 'Michelin'\n",
    "\n",
    "\n",
    "britain_df['michelin'] = britain_df['awards'].str.contains('Michelin')"
   ]
  },
  {
   "cell_type": "code",
   "execution_count": 38,
   "id": "a2e57e9e",
   "metadata": {},
   "outputs": [],
   "source": [
    "#clean michelin table\n",
    "britain_df['michelin'] = britain_df['michelin'].replace({False: 0, 'True': 1})\n",
    "britain_df['michelin'] = britain_df['michelin'].fillna(0)"
   ]
  },
  {
   "cell_type": "code",
   "execution_count": 39,
   "id": "7ccf34ab",
   "metadata": {
    "scrolled": false
   },
   "outputs": [
    {
     "data": {
      "text/html": [
       "<div>\n",
       "<style scoped>\n",
       "    .dataframe tbody tr th:only-of-type {\n",
       "        vertical-align: middle;\n",
       "    }\n",
       "\n",
       "    .dataframe tbody tr th {\n",
       "        vertical-align: top;\n",
       "    }\n",
       "\n",
       "    .dataframe thead th {\n",
       "        text-align: right;\n",
       "    }\n",
       "</style>\n",
       "<table border=\"1\" class=\"dataframe\">\n",
       "  <thead>\n",
       "    <tr style=\"text-align: right;\">\n",
       "      <th></th>\n",
       "      <th>restaurant_name</th>\n",
       "      <th>country</th>\n",
       "      <th>region</th>\n",
       "      <th>province</th>\n",
       "      <th>city</th>\n",
       "      <th>address</th>\n",
       "      <th>latitude</th>\n",
       "      <th>longitude</th>\n",
       "      <th>awards</th>\n",
       "      <th>price_level</th>\n",
       "      <th>cuisines</th>\n",
       "      <th>avg_rating</th>\n",
       "      <th>total_reviews_count</th>\n",
       "      <th>michelin</th>\n",
       "      <th>restaurant_name_clean</th>\n",
       "    </tr>\n",
       "  </thead>\n",
       "  <tbody>\n",
       "    <tr>\n",
       "      <th>886007</th>\n",
       "      <td>Tuar Ard Coffee Shop &amp; Restaurant</td>\n",
       "      <td>Ireland</td>\n",
       "      <td>Province of Leinster</td>\n",
       "      <td>County Westmeath</td>\n",
       "      <td>Moate</td>\n",
       "      <td>Church Street, Moate Ireland</td>\n",
       "      <td>53.395832</td>\n",
       "      <td>-7.72500</td>\n",
       "      <td>Travellers' Choice, Certificate of Excellence ...</td>\n",
       "      <td>2</td>\n",
       "      <td>Irish, European, Soups, Cafe</td>\n",
       "      <td>4.5</td>\n",
       "      <td>106.0</td>\n",
       "      <td>0</td>\n",
       "      <td>Tuar Ard Coffee Shop &amp; Restaurant</td>\n",
       "    </tr>\n",
       "    <tr>\n",
       "      <th>886008</th>\n",
       "      <td>P. Egan's Bar</td>\n",
       "      <td>Ireland</td>\n",
       "      <td>Province of Leinster</td>\n",
       "      <td>County Westmeath</td>\n",
       "      <td>Moate</td>\n",
       "      <td>Main Street, Moate Ireland</td>\n",
       "      <td>53.395930</td>\n",
       "      <td>-7.72172</td>\n",
       "      <td>NaN</td>\n",
       "      <td>1</td>\n",
       "      <td>Pub, Bar</td>\n",
       "      <td>5.0</td>\n",
       "      <td>23.0</td>\n",
       "      <td>0</td>\n",
       "      <td>P. Egan's Bar</td>\n",
       "    </tr>\n",
       "  </tbody>\n",
       "</table>\n",
       "</div>"
      ],
      "text/plain": [
       "                          restaurant_name  country                region  \\\n",
       "886007  Tuar Ard Coffee Shop & Restaurant  Ireland  Province of Leinster   \n",
       "886008                      P. Egan's Bar  Ireland  Province of Leinster   \n",
       "\n",
       "                province   city                       address   latitude  \\\n",
       "886007  County Westmeath  Moate  Church Street, Moate Ireland  53.395832   \n",
       "886008  County Westmeath  Moate    Main Street, Moate Ireland  53.395930   \n",
       "\n",
       "        longitude                                             awards  \\\n",
       "886007   -7.72500  Travellers' Choice, Certificate of Excellence ...   \n",
       "886008   -7.72172                                                NaN   \n",
       "\n",
       "        price_level                      cuisines  avg_rating  \\\n",
       "886007            2  Irish, European, Soups, Cafe         4.5   \n",
       "886008            1                      Pub, Bar         5.0   \n",
       "\n",
       "        total_reviews_count  michelin              restaurant_name_clean  \n",
       "886007                106.0         0  Tuar Ard Coffee Shop & Restaurant  \n",
       "886008                 23.0         0                      P. Egan's Bar  "
      ]
     },
     "execution_count": 39,
     "metadata": {},
     "output_type": "execute_result"
    }
   ],
   "source": [
    "britain_df.tail(2)"
   ]
  },
  {
   "cell_type": "code",
   "execution_count": null,
   "id": "8a1a0cf1",
   "metadata": {},
   "outputs": [],
   "source": []
  },
  {
   "cell_type": "code",
   "execution_count": null,
   "id": "c929afa9",
   "metadata": {
    "scrolled": true
   },
   "outputs": [],
   "source": []
  },
  {
   "cell_type": "code",
   "execution_count": null,
   "id": "53765eee",
   "metadata": {},
   "outputs": [],
   "source": []
  },
  {
   "cell_type": "markdown",
   "id": "dd3154d9",
   "metadata": {},
   "source": [
    "### Correct the price_level"
   ]
  },
  {
   "cell_type": "code",
   "execution_count": 10,
   "id": "645adae9",
   "metadata": {},
   "outputs": [
    {
     "data": {
      "text/plain": [
       "137465"
      ]
     },
     "execution_count": 10,
     "metadata": {},
     "output_type": "execute_result"
    }
   ],
   "source": [
    "#check null values for price_level\n",
    "britain_df['price_level'].notnull().count()"
   ]
  },
  {
   "cell_type": "code",
   "execution_count": 11,
   "id": "db39d14a",
   "metadata": {},
   "outputs": [
    {
     "data": {
      "text/plain": [
       "array(['€€-€€€', '€', '€€€€'], dtype=object)"
      ]
     },
     "execution_count": 11,
     "metadata": {},
     "output_type": "execute_result"
    }
   ],
   "source": [
    "#check how many characters need to be corrected\n",
    "unique_price_level = britain_df['price_level'].unique()\n",
    "unique_price_level"
   ]
  },
  {
   "cell_type": "code",
   "execution_count": 12,
   "id": "4da24164",
   "metadata": {},
   "outputs": [],
   "source": [
    "#apply the map function to turn euro symbol to number\n",
    "britain_df['price_level'] = britain_df['price_level'].map({'€':1,'€€-€€€':2, '€€€€':3 })\n"
   ]
  },
  {
   "cell_type": "code",
   "execution_count": 13,
   "id": "3ef424b2",
   "metadata": {},
   "outputs": [
    {
     "data": {
      "text/html": [
       "<div>\n",
       "<style scoped>\n",
       "    .dataframe tbody tr th:only-of-type {\n",
       "        vertical-align: middle;\n",
       "    }\n",
       "\n",
       "    .dataframe tbody tr th {\n",
       "        vertical-align: top;\n",
       "    }\n",
       "\n",
       "    .dataframe thead th {\n",
       "        text-align: right;\n",
       "    }\n",
       "</style>\n",
       "<table border=\"1\" class=\"dataframe\">\n",
       "  <thead>\n",
       "    <tr style=\"text-align: right;\">\n",
       "      <th></th>\n",
       "      <th>restaurant_name</th>\n",
       "      <th>country</th>\n",
       "      <th>region</th>\n",
       "      <th>province</th>\n",
       "      <th>city</th>\n",
       "      <th>address</th>\n",
       "      <th>latitude</th>\n",
       "      <th>longitude</th>\n",
       "      <th>awards</th>\n",
       "      <th>price_level</th>\n",
       "      <th>cuisines</th>\n",
       "      <th>avg_rating</th>\n",
       "      <th>total_reviews_count</th>\n",
       "      <th>michelin</th>\n",
       "    </tr>\n",
       "  </thead>\n",
       "  <tbody>\n",
       "    <tr>\n",
       "      <th>478379</th>\n",
       "      <td>Cafe Mylor</td>\n",
       "      <td>England</td>\n",
       "      <td>Cornwall</td>\n",
       "      <td>Falmouth</td>\n",
       "      <td>Mylor Churchtown</td>\n",
       "      <td>Penarrow Road Mylor Yacht Harbour, Mylor Churc...</td>\n",
       "      <td>50.177025</td>\n",
       "      <td>-5.053397</td>\n",
       "      <td>Travellers' Choice, Certificate of Excellence ...</td>\n",
       "      <td>2</td>\n",
       "      <td>Cafe, British</td>\n",
       "      <td>4.5</td>\n",
       "      <td>347.0</td>\n",
       "      <td>False</td>\n",
       "    </tr>\n",
       "    <tr>\n",
       "      <th>478380</th>\n",
       "      <td>Subway</td>\n",
       "      <td>England</td>\n",
       "      <td>Surrey</td>\n",
       "      <td>NaN</td>\n",
       "      <td>Byfleet</td>\n",
       "      <td>39 Old Woking Road, Byfleet KT14 6LG England</td>\n",
       "      <td>51.337010</td>\n",
       "      <td>-0.504781</td>\n",
       "      <td>NaN</td>\n",
       "      <td>1</td>\n",
       "      <td>Deli</td>\n",
       "      <td>3.5</td>\n",
       "      <td>4.0</td>\n",
       "      <td>0</td>\n",
       "    </tr>\n",
       "    <tr>\n",
       "      <th>478382</th>\n",
       "      <td>Basmati tandoori</td>\n",
       "      <td>England</td>\n",
       "      <td>Surrey</td>\n",
       "      <td>NaN</td>\n",
       "      <td>Byfleet</td>\n",
       "      <td>23 High Road, Byfleet KT14 7QH England</td>\n",
       "      <td>51.339140</td>\n",
       "      <td>-0.478110</td>\n",
       "      <td>NaN</td>\n",
       "      <td>2</td>\n",
       "      <td>Indian, Asian, Bangladeshi</td>\n",
       "      <td>3.0</td>\n",
       "      <td>4.0</td>\n",
       "      <td>0</td>\n",
       "    </tr>\n",
       "    <tr>\n",
       "      <th>478383</th>\n",
       "      <td>China Chef</td>\n",
       "      <td>England</td>\n",
       "      <td>Surrey</td>\n",
       "      <td>NaN</td>\n",
       "      <td>Byfleet</td>\n",
       "      <td>72 High Road Byfleet, Byfleet KT14 7QL England</td>\n",
       "      <td>51.338920</td>\n",
       "      <td>-0.476430</td>\n",
       "      <td>NaN</td>\n",
       "      <td>2</td>\n",
       "      <td>Chinese</td>\n",
       "      <td>2.5</td>\n",
       "      <td>10.0</td>\n",
       "      <td>0</td>\n",
       "    </tr>\n",
       "    <tr>\n",
       "      <th>478384</th>\n",
       "      <td>The Plough</td>\n",
       "      <td>England</td>\n",
       "      <td>Surrey</td>\n",
       "      <td>NaN</td>\n",
       "      <td>Byfleet</td>\n",
       "      <td>104 High Road, Byfleet KT14 7QT England</td>\n",
       "      <td>51.338780</td>\n",
       "      <td>-0.474000</td>\n",
       "      <td>NaN</td>\n",
       "      <td>2</td>\n",
       "      <td>Pub, Bar, British</td>\n",
       "      <td>3.5</td>\n",
       "      <td>32.0</td>\n",
       "      <td>0</td>\n",
       "    </tr>\n",
       "  </tbody>\n",
       "</table>\n",
       "</div>"
      ],
      "text/plain": [
       "         restaurant_name  country    region  province              city  \\\n",
       "478379        Cafe Mylor  England  Cornwall  Falmouth  Mylor Churchtown   \n",
       "478380            Subway  England    Surrey       NaN           Byfleet   \n",
       "478382  Basmati tandoori  England    Surrey       NaN           Byfleet   \n",
       "478383        China Chef  England    Surrey       NaN           Byfleet   \n",
       "478384        The Plough  England    Surrey       NaN           Byfleet   \n",
       "\n",
       "                                                  address   latitude  \\\n",
       "478379  Penarrow Road Mylor Yacht Harbour, Mylor Churc...  50.177025   \n",
       "478380       39 Old Woking Road, Byfleet KT14 6LG England  51.337010   \n",
       "478382             23 High Road, Byfleet KT14 7QH England  51.339140   \n",
       "478383     72 High Road Byfleet, Byfleet KT14 7QL England  51.338920   \n",
       "478384            104 High Road, Byfleet KT14 7QT England  51.338780   \n",
       "\n",
       "        longitude                                             awards  \\\n",
       "478379  -5.053397  Travellers' Choice, Certificate of Excellence ...   \n",
       "478380  -0.504781                                                NaN   \n",
       "478382  -0.478110                                                NaN   \n",
       "478383  -0.476430                                                NaN   \n",
       "478384  -0.474000                                                NaN   \n",
       "\n",
       "        price_level                    cuisines  avg_rating  \\\n",
       "478379            2               Cafe, British         4.5   \n",
       "478380            1                        Deli         3.5   \n",
       "478382            2  Indian, Asian, Bangladeshi         3.0   \n",
       "478383            2                     Chinese         2.5   \n",
       "478384            2           Pub, Bar, British         3.5   \n",
       "\n",
       "        total_reviews_count michelin  \n",
       "478379                347.0    False  \n",
       "478380                  4.0        0  \n",
       "478382                  4.0        0  \n",
       "478383                 10.0        0  \n",
       "478384                 32.0        0  "
      ]
     },
     "execution_count": 13,
     "metadata": {},
     "output_type": "execute_result"
    }
   ],
   "source": [
    "britain_df.head(5)"
   ]
  },
  {
   "cell_type": "code",
   "execution_count": 14,
   "id": "09cbccf9",
   "metadata": {
    "scrolled": true
   },
   "outputs": [
    {
     "data": {
      "text/plain": [
       "restaurant_name        137465\n",
       "country                137465\n",
       "region                 136948\n",
       "province                43503\n",
       "city                   115595\n",
       "address                137465\n",
       "latitude               137465\n",
       "longitude              137465\n",
       "awards                  55023\n",
       "price_level            137465\n",
       "cuisines               129548\n",
       "avg_rating             133785\n",
       "total_reviews_count    135156\n",
       "michelin               137465\n",
       "dtype: int64"
      ]
     },
     "execution_count": 14,
     "metadata": {},
     "output_type": "execute_result"
    }
   ],
   "source": [
    "number_rows = britain_df.count()\n",
    "number_rows"
   ]
  },
  {
   "cell_type": "code",
   "execution_count": null,
   "id": "d1e254cf",
   "metadata": {},
   "outputs": [],
   "source": [
    "\n"
   ]
  },
  {
   "cell_type": "code",
   "execution_count": null,
   "id": "f822634a",
   "metadata": {},
   "outputs": [],
   "source": []
  },
  {
   "cell_type": "code",
   "execution_count": 40,
   "id": "dc122b76",
   "metadata": {},
   "outputs": [],
   "source": [
    "britain_df.to_csv(\"../Resources/europe_data_independent.csv\")"
   ]
  },
  {
   "cell_type": "code",
   "execution_count": null,
   "id": "5bc430b8",
   "metadata": {},
   "outputs": [],
   "source": []
  },
  {
   "cell_type": "code",
   "execution_count": null,
   "id": "a1a392bf",
   "metadata": {},
   "outputs": [],
   "source": []
  },
  {
   "cell_type": "code",
   "execution_count": null,
   "id": "d75e91f2",
   "metadata": {},
   "outputs": [],
   "source": []
  },
  {
   "cell_type": "code",
   "execution_count": null,
   "id": "763f41f7",
   "metadata": {},
   "outputs": [],
   "source": []
  }
 ],
 "metadata": {
  "kernelspec": {
   "display_name": "Python 3",
   "language": "python",
   "name": "python3"
  },
  "language_info": {
   "codemirror_mode": {
    "name": "ipython",
    "version": 3
   },
   "file_extension": ".py",
   "mimetype": "text/x-python",
   "name": "python",
   "nbconvert_exporter": "python",
   "pygments_lexer": "ipython3",
   "version": "3.7.10"
  }
 },
 "nbformat": 4,
 "nbformat_minor": 5
}
