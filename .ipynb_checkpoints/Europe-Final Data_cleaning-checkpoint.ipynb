{
 "cells": [
  {
   "cell_type": "code",
   "execution_count": 1,
   "id": "e3164269",
   "metadata": {},
   "outputs": [],
   "source": [
    "import json\n",
    "import pandas as pd\n",
    "import numpy as np"
   ]
  },
  {
   "cell_type": "code",
   "execution_count": 2,
   "id": "cb44cfff",
   "metadata": {},
   "outputs": [
    {
     "name": "stderr",
     "output_type": "stream",
     "text": [
      "C:\\Users\\julia\\anaconda3\\envs\\PythonData\\lib\\site-packages\\IPython\\core\\interactiveshell.py:3166: DtypeWarning: Columns (4) have mixed types.Specify dtype option on import or set low_memory=False.\n",
      "  interactivity=interactivity, compiler=compiler, result=result)\n"
     ]
    }
   ],
   "source": [
    "#import the european restaurant data\n",
    "file_name = \"../trip_advisor/tripadvisor_european_restaurants.csv\"\n",
    "import_csv = pd.read_csv(file_name)"
   ]
  },
  {
   "cell_type": "code",
   "execution_count": 3,
   "id": "ab2640e5",
   "metadata": {},
   "outputs": [],
   "source": [
    "#import Data into DF\n",
    "euro_resto = pd.DataFrame(import_csv)"
   ]
  },
  {
   "cell_type": "code",
   "execution_count": 4,
   "id": "ab8d6d4c",
   "metadata": {},
   "outputs": [],
   "source": [
    "#drop columns not used\n",
    "euro_resto_clean = euro_resto.drop(['restaurant_link','original_location', 'claimed', 'keywords', \n",
    "                              'atmosphere', 'price_range', 'popularity_detailed', \n",
    "                              'popularity_generic', 'top_tags', 'meals','special_diets', 'features', \n",
    "                              'vegetarian_friendly', \n",
    "                              'vegan_options','gluten_free', 'original_open_hours', 'open_days_per_week',\n",
    "                              'open_hours_per_week', 'working_shifts_per_week',\n",
    "                              'reviews_count_in_default_language', 'excellent', 'very_good',\n",
    "                             'average', 'poor', 'terrible', 'food', 'service', 'value', 'atmosphere',\n",
    "                             'keywords', 'default_language'], axis=1)\n"
   ]
  },
  {
   "cell_type": "code",
   "execution_count": 5,
   "id": "db9da235",
   "metadata": {},
   "outputs": [],
   "source": [
    "#filter the dataset to only include The british Island countries\n",
    "britain_df = euro_resto_clean.loc[(euro_resto_clean['country'] == \"England\")| \n",
    "                                    (euro_resto_clean['country'] == \"Ireland\")|\n",
    "                                   (euro_resto_clean['country'] == \"Scotland\")|\n",
    "                                    (euro_resto_clean['country'] == \"Wales\")]\n"
   ]
  },
  {
   "cell_type": "code",
   "execution_count": 6,
   "id": "8578cc66",
   "metadata": {},
   "outputs": [],
   "source": [
    "#remove any rows that have blank latitude, longitude or price_level\n",
    "britain_df = britain_df.dropna(subset=['latitude', 'longitude', 'price_level'])"
   ]
  },
  {
   "cell_type": "code",
   "execution_count": 54,
   "id": "8e43a093",
   "metadata": {
    "scrolled": true
   },
   "outputs": [],
   "source": [
    "#truncate latitude to n decimal places\n",
    "lat_list = britain_df['latitude'].tolist()\n",
    "\n",
    "lat_list_trunc = []\n",
    "\n",
    "for x in lat_list:\n",
    "    n=4\n",
    "    multiplier = 10**n\n",
    "    value = int(x*(10**n))\n",
    "    lat_list_trunc.append(value)\n",
    "\n",
    "britain_df['lat_trunc'] = lat_list_trunc"
   ]
  },
  {
   "cell_type": "code",
   "execution_count": 55,
   "id": "4db9c055",
   "metadata": {},
   "outputs": [],
   "source": [
    "#truncate longitude to n decimal places\n",
    "long_list = britain_df['longitude'].tolist()\n",
    "\n",
    "long_list_trunc = []\n",
    "\n",
    "for x in long_list:\n",
    "    n=4\n",
    "    multiplier = 10**n\n",
    "    value = int(x*(10**n))\n",
    "    long_list_trunc.append(value)\n",
    "\n",
    "britain_df['long_trunc'] = long_list_trunc"
   ]
  },
  {
   "cell_type": "code",
   "execution_count": 47,
   "id": "7ccf34ab",
   "metadata": {},
   "outputs": [],
   "source": [
    "# convert both columns to string\n",
    "britain_df['lat_trunc'] = britain_df['lat_trunc'].astype(str)\n",
    "britain_df['long_trunc'] = britain_df['long_trunc'].astype(str)"
   ]
  },
  {
   "cell_type": "code",
   "execution_count": 48,
   "id": "8a1a0cf1",
   "metadata": {},
   "outputs": [],
   "source": [
    "#create location key from latitude and longitude truncated values\n",
    "britain_df['location_key'] = britain_df[['lat_trunc', 'long_trunc']].agg('_'.join, axis=1)"
   ]
  },
  {
   "cell_type": "code",
   "execution_count": 49,
   "id": "c929afa9",
   "metadata": {
    "scrolled": true
   },
   "outputs": [
    {
     "name": "stdout",
     "output_type": "stream",
     "text": [
      "137465\n",
      "85619\n",
      "37.71578219910523\n",
      "137465\n"
     ]
    }
   ],
   "source": [
    "#check number of duplicated values\n",
    "total_list = len(britain_df['location_key'].tolist())\n",
    "unique_list = len(britain_df['location_key'].unique().tolist())\n",
    "dupes = britain_df['location_key'].duplicated().count()\n",
    "print(total_list)\n",
    "print(unique_list)\n",
    "print((total_list-unique_list)/total_list*100)\n",
    "print(dupes)\n"
   ]
  },
  {
   "cell_type": "code",
   "execution_count": 50,
   "id": "53765eee",
   "metadata": {},
   "outputs": [],
   "source": [
    "britain_df = britain_df.drop(['lat_trunc','long_trunc'], axis=1)"
   ]
  },
  {
   "cell_type": "markdown",
   "id": "dd3154d9",
   "metadata": {},
   "source": [
    "### Correct the price_level"
   ]
  },
  {
   "cell_type": "code",
   "execution_count": 51,
   "id": "cd739bd7",
   "metadata": {},
   "outputs": [
    {
     "data": {
      "text/plain": [
       "137465"
      ]
     },
     "execution_count": 51,
     "metadata": {},
     "output_type": "execute_result"
    }
   ],
   "source": [
    "#check null values for price_level\n",
    "britain_df['price_level'].notnull().count()"
   ]
  },
  {
   "cell_type": "code",
   "execution_count": 52,
   "id": "db39d14a",
   "metadata": {},
   "outputs": [
    {
     "data": {
      "text/plain": [
       "array([ 2.,  1., nan])"
      ]
     },
     "execution_count": 52,
     "metadata": {},
     "output_type": "execute_result"
    }
   ],
   "source": [
    "#check how many characters need to be corrected\n",
    "unique_price_level = britain_df['price_level'].unique()\n",
    "unique_price_level"
   ]
  },
  {
   "cell_type": "code",
   "execution_count": 53,
   "id": "4da24164",
   "metadata": {},
   "outputs": [],
   "source": [
    "#apply the map function to turn euro symbol to number\n",
    "britain_df['price_level'] = britain_df['price_level'].map({'€':1,'€€-€€€':2 })\n"
   ]
  },
  {
   "cell_type": "code",
   "execution_count": 18,
   "id": "3ef424b2",
   "metadata": {},
   "outputs": [
    {
     "data": {
      "text/html": [
       "<div>\n",
       "<style scoped>\n",
       "    .dataframe tbody tr th:only-of-type {\n",
       "        vertical-align: middle;\n",
       "    }\n",
       "\n",
       "    .dataframe tbody tr th {\n",
       "        vertical-align: top;\n",
       "    }\n",
       "\n",
       "    .dataframe thead th {\n",
       "        text-align: right;\n",
       "    }\n",
       "</style>\n",
       "<table border=\"1\" class=\"dataframe\">\n",
       "  <thead>\n",
       "    <tr style=\"text-align: right;\">\n",
       "      <th></th>\n",
       "      <th>restaurant_name</th>\n",
       "      <th>country</th>\n",
       "      <th>region</th>\n",
       "      <th>province</th>\n",
       "      <th>city</th>\n",
       "      <th>address</th>\n",
       "      <th>latitude</th>\n",
       "      <th>longitude</th>\n",
       "      <th>awards</th>\n",
       "      <th>price_level</th>\n",
       "      <th>cuisines</th>\n",
       "      <th>avg_rating</th>\n",
       "      <th>total_reviews_count</th>\n",
       "      <th>location_key</th>\n",
       "    </tr>\n",
       "  </thead>\n",
       "  <tbody>\n",
       "    <tr>\n",
       "      <th>478379</th>\n",
       "      <td>Cafe Mylor</td>\n",
       "      <td>England</td>\n",
       "      <td>Cornwall</td>\n",
       "      <td>Falmouth</td>\n",
       "      <td>Mylor Churchtown</td>\n",
       "      <td>Penarrow Road Mylor Yacht Harbour, Mylor Churc...</td>\n",
       "      <td>50.177025</td>\n",
       "      <td>-5.053397</td>\n",
       "      <td>Travellers' Choice, Certificate of Excellence ...</td>\n",
       "      <td>2.0</td>\n",
       "      <td>Cafe, British</td>\n",
       "      <td>4.5</td>\n",
       "      <td>347.0</td>\n",
       "      <td>501770_-50533</td>\n",
       "    </tr>\n",
       "    <tr>\n",
       "      <th>478380</th>\n",
       "      <td>Subway</td>\n",
       "      <td>England</td>\n",
       "      <td>Surrey</td>\n",
       "      <td>NaN</td>\n",
       "      <td>Byfleet</td>\n",
       "      <td>39 Old Woking Road, Byfleet KT14 6LG England</td>\n",
       "      <td>51.337010</td>\n",
       "      <td>-0.504781</td>\n",
       "      <td>NaN</td>\n",
       "      <td>1.0</td>\n",
       "      <td>Deli</td>\n",
       "      <td>3.5</td>\n",
       "      <td>4.0</td>\n",
       "      <td>513370_-5047</td>\n",
       "    </tr>\n",
       "    <tr>\n",
       "      <th>478382</th>\n",
       "      <td>Basmati tandoori</td>\n",
       "      <td>England</td>\n",
       "      <td>Surrey</td>\n",
       "      <td>NaN</td>\n",
       "      <td>Byfleet</td>\n",
       "      <td>23 High Road, Byfleet KT14 7QH England</td>\n",
       "      <td>51.339140</td>\n",
       "      <td>-0.478110</td>\n",
       "      <td>NaN</td>\n",
       "      <td>2.0</td>\n",
       "      <td>Indian, Asian, Bangladeshi</td>\n",
       "      <td>3.0</td>\n",
       "      <td>4.0</td>\n",
       "      <td>513391_-4781</td>\n",
       "    </tr>\n",
       "    <tr>\n",
       "      <th>478383</th>\n",
       "      <td>China Chef</td>\n",
       "      <td>England</td>\n",
       "      <td>Surrey</td>\n",
       "      <td>NaN</td>\n",
       "      <td>Byfleet</td>\n",
       "      <td>72 High Road Byfleet, Byfleet KT14 7QL England</td>\n",
       "      <td>51.338920</td>\n",
       "      <td>-0.476430</td>\n",
       "      <td>NaN</td>\n",
       "      <td>2.0</td>\n",
       "      <td>Chinese</td>\n",
       "      <td>2.5</td>\n",
       "      <td>10.0</td>\n",
       "      <td>513389_-4764</td>\n",
       "    </tr>\n",
       "    <tr>\n",
       "      <th>478384</th>\n",
       "      <td>The Plough</td>\n",
       "      <td>England</td>\n",
       "      <td>Surrey</td>\n",
       "      <td>NaN</td>\n",
       "      <td>Byfleet</td>\n",
       "      <td>104 High Road, Byfleet KT14 7QT England</td>\n",
       "      <td>51.338780</td>\n",
       "      <td>-0.474000</td>\n",
       "      <td>NaN</td>\n",
       "      <td>2.0</td>\n",
       "      <td>Pub, Bar, British</td>\n",
       "      <td>3.5</td>\n",
       "      <td>32.0</td>\n",
       "      <td>513387_-4740</td>\n",
       "    </tr>\n",
       "  </tbody>\n",
       "</table>\n",
       "</div>"
      ],
      "text/plain": [
       "         restaurant_name  country    region  province              city  \\\n",
       "478379        Cafe Mylor  England  Cornwall  Falmouth  Mylor Churchtown   \n",
       "478380            Subway  England    Surrey       NaN           Byfleet   \n",
       "478382  Basmati tandoori  England    Surrey       NaN           Byfleet   \n",
       "478383        China Chef  England    Surrey       NaN           Byfleet   \n",
       "478384        The Plough  England    Surrey       NaN           Byfleet   \n",
       "\n",
       "                                                  address   latitude  \\\n",
       "478379  Penarrow Road Mylor Yacht Harbour, Mylor Churc...  50.177025   \n",
       "478380       39 Old Woking Road, Byfleet KT14 6LG England  51.337010   \n",
       "478382             23 High Road, Byfleet KT14 7QH England  51.339140   \n",
       "478383     72 High Road Byfleet, Byfleet KT14 7QL England  51.338920   \n",
       "478384            104 High Road, Byfleet KT14 7QT England  51.338780   \n",
       "\n",
       "        longitude                                             awards  \\\n",
       "478379  -5.053397  Travellers' Choice, Certificate of Excellence ...   \n",
       "478380  -0.504781                                                NaN   \n",
       "478382  -0.478110                                                NaN   \n",
       "478383  -0.476430                                                NaN   \n",
       "478384  -0.474000                                                NaN   \n",
       "\n",
       "        price_level                    cuisines  avg_rating  \\\n",
       "478379          2.0               Cafe, British         4.5   \n",
       "478380          1.0                        Deli         3.5   \n",
       "478382          2.0  Indian, Asian, Bangladeshi         3.0   \n",
       "478383          2.0                     Chinese         2.5   \n",
       "478384          2.0           Pub, Bar, British         3.5   \n",
       "\n",
       "        total_reviews_count   location_key  \n",
       "478379                347.0  501770_-50533  \n",
       "478380                  4.0   513370_-5047  \n",
       "478382                  4.0   513391_-4781  \n",
       "478383                 10.0   513389_-4764  \n",
       "478384                 32.0   513387_-4740  "
      ]
     },
     "execution_count": 18,
     "metadata": {},
     "output_type": "execute_result"
    }
   ],
   "source": [
    "britain_df.head(5)"
   ]
  },
  {
   "cell_type": "code",
   "execution_count": 23,
   "id": "09cbccf9",
   "metadata": {
    "scrolled": true
   },
   "outputs": [
    {
     "data": {
      "text/plain": [
       "restaurant_name        137465\n",
       "country                137465\n",
       "region                 136948\n",
       "province                43503\n",
       "city                   115595\n",
       "address                137465\n",
       "latitude               137465\n",
       "longitude              137465\n",
       "awards                  55023\n",
       "price_level            134826\n",
       "cuisines               129548\n",
       "avg_rating             133785\n",
       "total_reviews_count    135156\n",
       "location_key           137465\n",
       "dtype: int64"
      ]
     },
     "execution_count": 23,
     "metadata": {},
     "output_type": "execute_result"
    }
   ],
   "source": [
    "number_rows = britain_df.count()\n",
    "number_rows"
   ]
  },
  {
   "cell_type": "code",
   "execution_count": 44,
   "id": "90db6378",
   "metadata": {},
   "outputs": [
    {
     "data": {
      "text/html": [
       "<div>\n",
       "<style scoped>\n",
       "    .dataframe tbody tr th:only-of-type {\n",
       "        vertical-align: middle;\n",
       "    }\n",
       "\n",
       "    .dataframe tbody tr th {\n",
       "        vertical-align: top;\n",
       "    }\n",
       "\n",
       "    .dataframe thead th {\n",
       "        text-align: right;\n",
       "    }\n",
       "</style>\n",
       "<table border=\"1\" class=\"dataframe\">\n",
       "  <thead>\n",
       "    <tr style=\"text-align: right;\">\n",
       "      <th></th>\n",
       "      <th>restaurant_name</th>\n",
       "      <th>country</th>\n",
       "      <th>region</th>\n",
       "      <th>province</th>\n",
       "      <th>city</th>\n",
       "      <th>address</th>\n",
       "      <th>latitude</th>\n",
       "      <th>longitude</th>\n",
       "      <th>awards</th>\n",
       "      <th>price_level</th>\n",
       "      <th>cuisines</th>\n",
       "      <th>avg_rating</th>\n",
       "      <th>total_reviews_count</th>\n",
       "      <th>location_key</th>\n",
       "    </tr>\n",
       "  </thead>\n",
       "  <tbody>\n",
       "    <tr>\n",
       "      <th>555832</th>\n",
       "      <td>West House</td>\n",
       "      <td>Wales</td>\n",
       "      <td>Southern Wales</td>\n",
       "      <td>Bridgend County</td>\n",
       "      <td>Bridgend</td>\n",
       "      <td>West House Road Cefn Glas, Bridgend CF31 4RJ W...</td>\n",
       "      <td>51.508442</td>\n",
       "      <td>-3.592690</td>\n",
       "      <td>Travellers' Choice, Certificate of Excellence ...</td>\n",
       "      <td>1.0</td>\n",
       "      <td>Bar, British, Pub</td>\n",
       "      <td>4.0</td>\n",
       "      <td>160.0</td>\n",
       "      <td>515084_-35926</td>\n",
       "    </tr>\n",
       "    <tr>\n",
       "      <th>618557</th>\n",
       "      <td>West House</td>\n",
       "      <td>England</td>\n",
       "      <td>Kent</td>\n",
       "      <td>NaN</td>\n",
       "      <td>Biddenden</td>\n",
       "      <td>28 High Street, Biddenden TN27 8AH England</td>\n",
       "      <td>51.115135</td>\n",
       "      <td>0.642383</td>\n",
       "      <td>Travellers' Choice, Michelin 2021 for The Mich...</td>\n",
       "      <td>NaN</td>\n",
       "      <td>European, British, Contemporary</td>\n",
       "      <td>4.5</td>\n",
       "      <td>581.0</td>\n",
       "      <td>511151_6423</td>\n",
       "    </tr>\n",
       "  </tbody>\n",
       "</table>\n",
       "</div>"
      ],
      "text/plain": [
       "       restaurant_name  country          region         province       city  \\\n",
       "555832      West House    Wales  Southern Wales  Bridgend County   Bridgend   \n",
       "618557      West House  England            Kent              NaN  Biddenden   \n",
       "\n",
       "                                                  address   latitude  \\\n",
       "555832  West House Road Cefn Glas, Bridgend CF31 4RJ W...  51.508442   \n",
       "618557         28 High Street, Biddenden TN27 8AH England  51.115135   \n",
       "\n",
       "        longitude                                             awards  \\\n",
       "555832  -3.592690  Travellers' Choice, Certificate of Excellence ...   \n",
       "618557   0.642383  Travellers' Choice, Michelin 2021 for The Mich...   \n",
       "\n",
       "        price_level                         cuisines  avg_rating  \\\n",
       "555832          1.0                Bar, British, Pub         4.0   \n",
       "618557          NaN  European, British, Contemporary         4.5   \n",
       "\n",
       "        total_reviews_count   location_key  \n",
       "555832                160.0  515084_-35926  \n",
       "618557                581.0    511151_6423  "
      ]
     },
     "execution_count": 44,
     "metadata": {},
     "output_type": "execute_result"
    }
   ],
   "source": [
    "britain_df.loc[(britain_df['restaurant_name'] =='West House' )]\n",
    "# britain_df.loc[(britain_df['location_key'] =='491812_-21024' )]\n"
   ]
  },
  {
   "cell_type": "code",
   "execution_count": null,
   "id": "aab5a997",
   "metadata": {},
   "outputs": [],
   "source": []
  },
  {
   "cell_type": "code",
   "execution_count": null,
   "id": "e34e81de",
   "metadata": {},
   "outputs": [],
   "source": []
  },
  {
   "cell_type": "code",
   "execution_count": null,
   "id": "b4324ea5",
   "metadata": {},
   "outputs": [],
   "source": []
  },
  {
   "cell_type": "code",
   "execution_count": null,
   "id": "14fdde62",
   "metadata": {},
   "outputs": [],
   "source": []
  },
  {
   "cell_type": "code",
   "execution_count": null,
   "id": "8fcd2585",
   "metadata": {},
   "outputs": [],
   "source": []
  }
 ],
 "metadata": {
  "kernelspec": {
   "display_name": "Python 3",
   "language": "python",
   "name": "python3"
  },
  "language_info": {
   "codemirror_mode": {
    "name": "ipython",
    "version": 3
   },
   "file_extension": ".py",
   "mimetype": "text/x-python",
   "name": "python",
   "nbconvert_exporter": "python",
   "pygments_lexer": "ipython3",
   "version": "3.7.10"
  }
 },
 "nbformat": 4,
 "nbformat_minor": 5
}
