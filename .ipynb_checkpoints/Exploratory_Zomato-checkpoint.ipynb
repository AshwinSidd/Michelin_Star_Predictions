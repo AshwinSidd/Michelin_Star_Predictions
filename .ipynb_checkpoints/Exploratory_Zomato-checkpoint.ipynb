{
 "cells": [
  {
   "cell_type": "markdown",
   "id": "8f94b300",
   "metadata": {},
   "source": [
    "# Zomato ETL"
   ]
  },
  {
   "cell_type": "code",
   "execution_count": 13,
   "id": "9355f33c",
   "metadata": {},
   "outputs": [],
   "source": [
    "import json\n",
    "import pandas as pd\n",
    "import numpy as np"
   ]
  },
  {
   "cell_type": "markdown",
   "id": "2ed1148b",
   "metadata": {},
   "source": [
    "## Zomato Data"
   ]
  },
  {
   "cell_type": "code",
   "execution_count": 14,
   "id": "f59fd9c5",
   "metadata": {},
   "outputs": [],
   "source": [
    "#import json data --> will be in loop in future\n",
    "\n",
    "file_to_read = \"../zomato_1/file5.json\"\n",
    "with open(file_to_read, mode='r') as file:\n",
    "    json_data = json.load(file)\n"
   ]
  },
  {
   "cell_type": "code",
   "execution_count": 15,
   "id": "9aec4c89",
   "metadata": {},
   "outputs": [],
   "source": [
    "#may be not important if we only focus on the USA\n",
    "\n",
    "#import the country code file\n",
    "file_country_code = \"../zomato_1/Country-Code.xlsx\"\n",
    "country_code = pd.read_excel(file_country_code)\n",
    "country_code_df = pd.DataFrame(country_code)\n",
    "# country_code_df"
   ]
  },
  {
   "cell_type": "code",
   "execution_count": 35,
   "id": "94f18360",
   "metadata": {},
   "outputs": [],
   "source": [
    "# creating dataframe for zomato restaurants\n",
    "\n",
    "#overall dataframe to hold all data\n",
    "zomato_df = pd.DataFrame()\n"
   ]
  },
  {
   "cell_type": "code",
   "execution_count": 17,
   "id": "b5d7d724",
   "metadata": {},
   "outputs": [
    {
     "data": {
      "text/plain": [
       "300"
      ]
     },
     "execution_count": 17,
     "metadata": {},
     "output_type": "execute_result"
    }
   ],
   "source": [
    " #calculate the length of the first layer\n",
    "    #used to determine the number of times to loop through\n",
    "len(json_data)"
   ]
  },
  {
   "cell_type": "markdown",
   "id": "9dad6c2e",
   "metadata": {},
   "source": [
    "### Individual Restaurant Layer --> Build into future Loop"
   ]
  },
  {
   "cell_type": "code",
   "execution_count": 18,
   "id": "b048a480",
   "metadata": {},
   "outputs": [],
   "source": [
    "#Current Index Number\n",
    "#building in variables to allow for future looping\n",
    "\n",
    "#layer of the json file --> will become the loop from (len(jsondata))\n",
    "index= 1\n",
    "\n",
    "#individual restaurant --> will become the loop for indiviual restaurants (json_data[index]['results_found'])\n",
    "resto = 0"
   ]
  },
  {
   "cell_type": "code",
   "execution_count": 30,
   "id": "23b2bd9a",
   "metadata": {},
   "outputs": [
    {
     "data": {
      "text/plain": [
       "20"
      ]
     },
     "execution_count": 30,
     "metadata": {},
     "output_type": "execute_result"
    }
   ],
   "source": [
    "#Find the first 'layer' of restaurants --Index = 1\n",
    "# Find how many restaurants are in the first layer\n",
    "number_resto = len(json_data[index]['restaurants'])\n",
    "number_resto"
   ]
  },
  {
   "cell_type": "code",
   "execution_count": 20,
   "id": "f2351afc",
   "metadata": {},
   "outputs": [],
   "source": [
    "#dataframe to hold looping information --> will move to loop once created\n",
    "resto_df = pd.DataFrame()\n"
   ]
  },
  {
   "cell_type": "code",
   "execution_count": 38,
   "id": "1a25aedf",
   "metadata": {},
   "outputs": [
    {
     "data": {
      "text/plain": [
       "ID             40\n",
       "name           40\n",
       "cuisines       40\n",
       "price_range    40\n",
       "user_rating    40\n",
       "address        40\n",
       "city           40\n",
       "country_id     40\n",
       "longitude      40\n",
       "latitude       40\n",
       "dtype: int64"
      ]
     },
     "execution_count": 38,
     "metadata": {},
     "output_type": "execute_result"
    }
   ],
   "source": [
    "#Pull the relevant data points for the restaurant\n",
    "#next steps: create as a function to allow for easy looping through the multiple layers of JSON Data\n",
    "\n",
    "# length = [0,1,2] test length\n",
    "# number_resto = json_data[index]['results_found']\n",
    "# number_resto\n",
    "\n",
    "resto = 0\n",
    "   \n",
    "while resto <len(json_data[index]['restaurants']) :\n",
    "    resto_df = pd.DataFrame()\n",
    "    resto_df['ID'] =  [json_data[index]['restaurants'][resto]['restaurant']['R'][\"res_id\"]]\n",
    "    resto_df['name'] = [json_data[index]['restaurants'][resto]['restaurant']['name']]\n",
    "    resto_df['cuisines'] = [json_data[index]['restaurants'][resto]['restaurant']['cuisines']]\n",
    "    resto_df['price_range'] = [json_data[index]['restaurants'][resto]['restaurant']['price_range']]\n",
    "    resto_df['user_rating'] = [json_data[index]['restaurants'][resto]['restaurant']['user_rating']['aggregate_rating']]\n",
    "    resto_df['address'] = [json_data[index]['restaurants'][resto]['restaurant']['location']['address']]\n",
    "    resto_df['city'] = [json_data[index]['restaurants'][resto]['restaurant']['location']['city']]\n",
    "    resto_df['country_id'] = [json_data[index]['restaurants'][resto]['restaurant']['location']['country_id']]\n",
    "    #     Build in country_id to country name\n",
    "\n",
    "    resto_df['longitude'] = [json_data[index]['restaurants'][resto]['restaurant']['location']['longitude']]\n",
    "        #round to 6 decimal places\n",
    "\n",
    "    resto_df['latitude'] = [json_data[index]['restaurants'][resto]['restaurant']['location']['latitude']]\n",
    "    #round to 6 decimal places\n",
    "    \n",
    "    resto= resto + 1\n",
    "    zomato_df = zomato_df.append(resto_df)\n",
    "\n",
    "\n",
    "zomato_df.count()"
   ]
  },
  {
   "cell_type": "code",
   "execution_count": null,
   "id": "e9a2dc04",
   "metadata": {},
   "outputs": [],
   "source": [
    "#append the information from the resto_df to zomato_df\n",
    "\n",
    "# zomato_df = zomato_df.append(resto_df)"
   ]
  },
  {
   "cell_type": "code",
   "execution_count": null,
   "id": "59d6e242",
   "metadata": {},
   "outputs": [],
   "source": [
    "zomato_df"
   ]
  },
  {
   "cell_type": "code",
   "execution_count": null,
   "id": "096cc728",
   "metadata": {},
   "outputs": [],
   "source": []
  },
  {
   "cell_type": "code",
   "execution_count": null,
   "id": "48348fe9",
   "metadata": {},
   "outputs": [],
   "source": []
  },
  {
   "cell_type": "code",
   "execution_count": null,
   "id": "51fadb1a",
   "metadata": {},
   "outputs": [],
   "source": []
  },
  {
   "cell_type": "code",
   "execution_count": null,
   "id": "2239cfd6",
   "metadata": {},
   "outputs": [],
   "source": []
  },
  {
   "cell_type": "code",
   "execution_count": null,
   "id": "a2c7afb5",
   "metadata": {},
   "outputs": [],
   "source": []
  },
  {
   "cell_type": "code",
   "execution_count": null,
   "id": "fda74f9f",
   "metadata": {},
   "outputs": [],
   "source": []
  },
  {
   "cell_type": "code",
   "execution_count": null,
   "id": "87d1567e",
   "metadata": {},
   "outputs": [],
   "source": []
  }
 ],
 "metadata": {
  "kernelspec": {
   "display_name": "PythonData",
   "language": "python",
   "name": "pythondata"
  },
  "language_info": {
   "codemirror_mode": {
    "name": "ipython",
    "version": 3
   },
   "file_extension": ".py",
   "mimetype": "text/x-python",
   "name": "python",
   "nbconvert_exporter": "python",
   "pygments_lexer": "ipython3",
   "version": "3.7.10"
  }
 },
 "nbformat": 4,
 "nbformat_minor": 5
}
