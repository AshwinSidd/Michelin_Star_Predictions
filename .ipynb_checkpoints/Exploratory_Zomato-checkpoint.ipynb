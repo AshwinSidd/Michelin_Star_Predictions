{
 "cells": [
  {
   "cell_type": "markdown",
   "id": "8f94b300",
   "metadata": {},
   "source": [
    "# Zomato and Michelin Data ETL"
   ]
  },
  {
   "cell_type": "code",
   "execution_count": 12,
   "id": "9355f33c",
   "metadata": {},
   "outputs": [],
   "source": [
    "import json\n",
    "import pandas as pd\n",
    "import numpy as np"
   ]
  },
  {
   "cell_type": "markdown",
   "id": "2ed1148b",
   "metadata": {},
   "source": [
    "## Zomato Data"
   ]
  },
  {
   "cell_type": "code",
   "execution_count": 16,
   "id": "f59fd9c5",
   "metadata": {},
   "outputs": [],
   "source": [
    "#import json data\n",
    "\n",
    "file_to_read = \"../zomato_1/file4.json\"\n",
    "with open(file_to_read, mode='r') as file:\n",
    "    json_data = json.load(file)\n"
   ]
  },
  {
   "cell_type": "code",
   "execution_count": 3,
   "id": "94f18360",
   "metadata": {},
   "outputs": [],
   "source": [
    "# creating dataframes\n",
    "\n",
    "#overall dataframe to hold all data\n",
    "zomato_df = pd.DataFrame()\n"
   ]
  },
  {
   "cell_type": "code",
   "execution_count": 4,
   "id": "b5d7d724",
   "metadata": {},
   "outputs": [
    {
     "data": {
      "text/plain": [
       "479"
      ]
     },
     "execution_count": 4,
     "metadata": {},
     "output_type": "execute_result"
    }
   ],
   "source": [
    " #calculate the length of the first layer\n",
    "len(json_data)"
   ]
  },
  {
   "cell_type": "markdown",
   "id": "9dad6c2e",
   "metadata": {},
   "source": [
    "### Individual Restaurant Layer --> Build into future Loop"
   ]
  },
  {
   "cell_type": "code",
   "execution_count": 5,
   "id": "b048a480",
   "metadata": {},
   "outputs": [],
   "source": [
    "#Current Index Number\n",
    "#building in variables to allow for future looping\n",
    "\n",
    "#layer of the json file\n",
    "index= 1\n",
    "\n",
    "#individual restaurant\n",
    "resto = 0"
   ]
  },
  {
   "cell_type": "code",
   "execution_count": 6,
   "id": "f2351afc",
   "metadata": {},
   "outputs": [],
   "source": [
    "#dataframe to hold looping information --> will move to loop once created\n",
    "resto_df = pd.DataFrame()\n"
   ]
  },
  {
   "cell_type": "code",
   "execution_count": 7,
   "id": "23b2bd9a",
   "metadata": {},
   "outputs": [
    {
     "data": {
      "text/plain": [
       "1263908"
      ]
     },
     "execution_count": 7,
     "metadata": {},
     "output_type": "execute_result"
    }
   ],
   "source": [
    "#Find the first 'layer' of restaurants --Index = 1\n",
    "# Find how many restaurants are in the first layer\n",
    "number_results = json_data[index]['results_found']\n",
    "number_results"
   ]
  },
  {
   "cell_type": "code",
   "execution_count": 8,
   "id": "1a25aedf",
   "metadata": {},
   "outputs": [],
   "source": [
    "#Pull the relevant data points for the restaurant\n",
    "#next steps: create as a function to allow for easy looping through the multiple layers of JSON Data\n",
    "\n",
    "resto_df['ID'] =  [json_data[index]['restaurants'][resto]['restaurant']['R'][\"res_id\"]]\n",
    "resto_df['name'] = [json_data[index]['restaurants'][resto]['restaurant']['name']]\n",
    "resto_df['cuisines'] = [json_data[index]['restaurants'][resto]['restaurant']['cuisines']]\n",
    "resto_df['price_range'] = [json_data[index]['restaurants'][resto]['restaurant']['price_range']]\n",
    "resto_df['user_rating'] = [json_data[index]['restaurants'][resto]['restaurant']['user_rating']['aggregate_rating']]\n",
    "resto_df['address'] = [json_data[index]['restaurants'][resto]['restaurant']['location']['address']]\n",
    "resto_df['city'] = [json_data[index]['restaurants'][resto]['restaurant']['location']['city']]\n",
    "resto_df['country_id'] = [json_data[index]['restaurants'][resto]['restaurant']['location']['country_id']]\n",
    "resto_df['longitude'] = [json_data[index]['restaurants'][resto]['restaurant']['location']['longitude']]\n",
    "resto_df['latitude'] = [json_data[index]['restaurants'][resto]['restaurant']['location']['latitude']]\n",
    "\n"
   ]
  },
  {
   "cell_type": "code",
   "execution_count": 15,
   "id": "892b81ab",
   "metadata": {},
   "outputs": [],
   "source": [
    "#Clean the country Code\n",
    "\n",
    "\n",
    "\n",
    "\n",
    "\n"
   ]
  },
  {
   "cell_type": "code",
   "execution_count": 10,
   "id": "e9a2dc04",
   "metadata": {},
   "outputs": [
    {
     "data": {
      "text/html": [
       "<div>\n",
       "<style scoped>\n",
       "    .dataframe tbody tr th:only-of-type {\n",
       "        vertical-align: middle;\n",
       "    }\n",
       "\n",
       "    .dataframe tbody tr th {\n",
       "        vertical-align: top;\n",
       "    }\n",
       "\n",
       "    .dataframe thead th {\n",
       "        text-align: right;\n",
       "    }\n",
       "</style>\n",
       "<table border=\"1\" class=\"dataframe\">\n",
       "  <thead>\n",
       "    <tr style=\"text-align: right;\">\n",
       "      <th></th>\n",
       "      <th>ID</th>\n",
       "      <th>name</th>\n",
       "      <th>cuisines</th>\n",
       "      <th>price_range</th>\n",
       "      <th>user_rating</th>\n",
       "      <th>address</th>\n",
       "      <th>city</th>\n",
       "      <th>country_id</th>\n",
       "      <th>longitude</th>\n",
       "      <th>latitude</th>\n",
       "    </tr>\n",
       "  </thead>\n",
       "  <tbody>\n",
       "    <tr>\n",
       "      <th>0</th>\n",
       "      <td>16604370</td>\n",
       "      <td>Mad Cowes Cafe</td>\n",
       "      <td>Breakfast, Coffee and Tea, Modern Australian</td>\n",
       "      <td>2</td>\n",
       "      <td>3.7</td>\n",
       "      <td>4/17 The Esplanade, Cowes, VIC</td>\n",
       "      <td>Phillip Island</td>\n",
       "      <td>14</td>\n",
       "      <td>145.2378130000</td>\n",
       "      <td>-38.4483070000</td>\n",
       "    </tr>\n",
       "  </tbody>\n",
       "</table>\n",
       "</div>"
      ],
      "text/plain": [
       "         ID            name                                      cuisines  \\\n",
       "0  16604370  Mad Cowes Cafe  Breakfast, Coffee and Tea, Modern Australian   \n",
       "\n",
       "   price_range user_rating                         address            city  \\\n",
       "0            2         3.7  4/17 The Esplanade, Cowes, VIC  Phillip Island   \n",
       "\n",
       "   country_id       longitude        latitude  \n",
       "0          14  145.2378130000  -38.4483070000  "
      ]
     },
     "execution_count": 10,
     "metadata": {},
     "output_type": "execute_result"
    }
   ],
   "source": [
    "#append the information from the resto_df to zomato_df\n",
    "\n",
    "zomato_df.append(resto_df)"
   ]
  },
  {
   "cell_type": "code",
   "execution_count": null,
   "id": "59d6e242",
   "metadata": {},
   "outputs": [],
   "source": []
  },
  {
   "cell_type": "code",
   "execution_count": null,
   "id": "096cc728",
   "metadata": {},
   "outputs": [],
   "source": []
  },
  {
   "cell_type": "code",
   "execution_count": null,
   "id": "48348fe9",
   "metadata": {},
   "outputs": [],
   "source": []
  },
  {
   "cell_type": "code",
   "execution_count": null,
   "id": "51fadb1a",
   "metadata": {},
   "outputs": [],
   "source": []
  },
  {
   "cell_type": "code",
   "execution_count": null,
   "id": "2239cfd6",
   "metadata": {},
   "outputs": [],
   "source": []
  },
  {
   "cell_type": "code",
   "execution_count": null,
   "id": "a2c7afb5",
   "metadata": {},
   "outputs": [],
   "source": []
  },
  {
   "cell_type": "code",
   "execution_count": null,
   "id": "fda74f9f",
   "metadata": {},
   "outputs": [],
   "source": []
  },
  {
   "cell_type": "code",
   "execution_count": null,
   "id": "87d1567e",
   "metadata": {},
   "outputs": [],
   "source": []
  }
 ],
 "metadata": {
  "kernelspec": {
   "display_name": "PythonData",
   "language": "python",
   "name": "pythondata"
  },
  "language_info": {
   "codemirror_mode": {
    "name": "ipython",
    "version": 3
   },
   "file_extension": ".py",
   "mimetype": "text/x-python",
   "name": "python",
   "nbconvert_exporter": "python",
   "pygments_lexer": "ipython3",
   "version": "3.7.10"
  }
 },
 "nbformat": 4,
 "nbformat_minor": 5
}
