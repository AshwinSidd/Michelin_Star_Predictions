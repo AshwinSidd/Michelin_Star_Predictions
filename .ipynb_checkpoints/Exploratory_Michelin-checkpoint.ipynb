{
 "cells": [
  {
   "cell_type": "markdown",
   "id": "180b71fb",
   "metadata": {},
   "source": [
    "# Exploratory Michelin Star"
   ]
  },
  {
   "cell_type": "code",
   "execution_count": 1,
   "id": "b606aa37",
   "metadata": {},
   "outputs": [],
   "source": [
    "#import the dependencies\n",
    "import pandas as pd"
   ]
  },
  {
   "cell_type": "code",
   "execution_count": 2,
   "id": "37d71aa5",
   "metadata": {},
   "outputs": [],
   "source": [
    "#create a list of files --> will be used in the loop to import\n",
    "file_names = [\"../michelin/one-star-michelin-restaurants.csv\",\n",
    "              \"../michelin/two-stars-michelin-restaurants.csv\",\n",
    "              \"../michelin/three-stars-michelin-restaurants.csv\"]\n"
   ]
  },
  {
   "cell_type": "code",
   "execution_count": 13,
   "id": "bb4ab71a",
   "metadata": {},
   "outputs": [
    {
     "data": {
      "text/html": [
       "<div>\n",
       "<style scoped>\n",
       "    .dataframe tbody tr th:only-of-type {\n",
       "        vertical-align: middle;\n",
       "    }\n",
       "\n",
       "    .dataframe tbody tr th {\n",
       "        vertical-align: top;\n",
       "    }\n",
       "\n",
       "    .dataframe thead th {\n",
       "        text-align: right;\n",
       "    }\n",
       "</style>\n",
       "<table border=\"1\" class=\"dataframe\">\n",
       "  <thead>\n",
       "    <tr style=\"text-align: right;\">\n",
       "      <th></th>\n",
       "    </tr>\n",
       "  </thead>\n",
       "  <tbody>\n",
       "  </tbody>\n",
       "</table>\n",
       "</div>"
      ],
      "text/plain": [
       "Empty DataFrame\n",
       "Columns: []\n",
       "Index: []"
      ]
     },
     "execution_count": 13,
     "metadata": {},
     "output_type": "execute_result"
    }
   ],
   "source": [
    "#create an empty DF that will eventually hold the 3 files (perm-DF)\n",
    "michelin_df = pd.DataFrame()\n",
    "michelin_df"
   ]
  },
  {
   "cell_type": "code",
   "execution_count": null,
   "id": "7bcf3c81",
   "metadata": {},
   "outputs": [],
   "source": []
  },
  {
   "cell_type": "code",
   "execution_count": 14,
   "id": "bce111e7",
   "metadata": {},
   "outputs": [
    {
     "data": {
      "text/html": [
       "<div>\n",
       "<style scoped>\n",
       "    .dataframe tbody tr th:only-of-type {\n",
       "        vertical-align: middle;\n",
       "    }\n",
       "\n",
       "    .dataframe tbody tr th {\n",
       "        vertical-align: top;\n",
       "    }\n",
       "\n",
       "    .dataframe thead th {\n",
       "        text-align: right;\n",
       "    }\n",
       "</style>\n",
       "<table border=\"1\" class=\"dataframe\">\n",
       "  <thead>\n",
       "    <tr style=\"text-align: right;\">\n",
       "      <th></th>\n",
       "      <th>name</th>\n",
       "      <th>year</th>\n",
       "      <th>latitude</th>\n",
       "      <th>longitude</th>\n",
       "      <th>city</th>\n",
       "      <th>region</th>\n",
       "      <th>zipCode</th>\n",
       "      <th>cuisine</th>\n",
       "      <th>price</th>\n",
       "      <th>url</th>\n",
       "      <th>stars</th>\n",
       "      <th>location_key</th>\n",
       "    </tr>\n",
       "  </thead>\n",
       "  <tbody>\n",
       "    <tr>\n",
       "      <th>0</th>\n",
       "      <td>Kilian Stuba</td>\n",
       "      <td>2019</td>\n",
       "      <td>47.348580</td>\n",
       "      <td>10.17114</td>\n",
       "      <td>Kleinwalsertal</td>\n",
       "      <td>Austria</td>\n",
       "      <td>87568</td>\n",
       "      <td>Creative</td>\n",
       "      <td>$$$$$</td>\n",
       "      <td>https://guide.michelin.com/at/en/vorarlberg/kl...</td>\n",
       "      <td>1</td>\n",
       "      <td>0      47.348580\\n1      47.837870\\n2      47....</td>\n",
       "    </tr>\n",
       "    <tr>\n",
       "      <th>1</th>\n",
       "      <td>Pfefferschiff</td>\n",
       "      <td>2019</td>\n",
       "      <td>47.837870</td>\n",
       "      <td>13.07917</td>\n",
       "      <td>Hallwang</td>\n",
       "      <td>Austria</td>\n",
       "      <td>5300</td>\n",
       "      <td>Classic cuisine</td>\n",
       "      <td>$$$$$</td>\n",
       "      <td>https://guide.michelin.com/at/en/salzburg-regi...</td>\n",
       "      <td>1</td>\n",
       "      <td>0      47.348580\\n1      47.837870\\n2      47....</td>\n",
       "    </tr>\n",
       "    <tr>\n",
       "      <th>2</th>\n",
       "      <td>Esszimmer</td>\n",
       "      <td>2019</td>\n",
       "      <td>47.806850</td>\n",
       "      <td>13.03409</td>\n",
       "      <td>Salzburg</td>\n",
       "      <td>Austria</td>\n",
       "      <td>5020</td>\n",
       "      <td>Creative</td>\n",
       "      <td>$$$$$</td>\n",
       "      <td>https://guide.michelin.com/at/en/salzburg-regi...</td>\n",
       "      <td>1</td>\n",
       "      <td>0      47.348580\\n1      47.837870\\n2      47....</td>\n",
       "    </tr>\n",
       "    <tr>\n",
       "      <th>3</th>\n",
       "      <td>Carpe Diem</td>\n",
       "      <td>2019</td>\n",
       "      <td>47.800010</td>\n",
       "      <td>13.04006</td>\n",
       "      <td>Salzburg</td>\n",
       "      <td>Austria</td>\n",
       "      <td>5020</td>\n",
       "      <td>Market cuisine</td>\n",
       "      <td>$$$$$</td>\n",
       "      <td>https://guide.michelin.com/at/en/salzburg-regi...</td>\n",
       "      <td>1</td>\n",
       "      <td>0      47.348580\\n1      47.837870\\n2      47....</td>\n",
       "    </tr>\n",
       "    <tr>\n",
       "      <th>4</th>\n",
       "      <td>Edvard</td>\n",
       "      <td>2019</td>\n",
       "      <td>48.216503</td>\n",
       "      <td>16.36852</td>\n",
       "      <td>Wien</td>\n",
       "      <td>Austria</td>\n",
       "      <td>1010</td>\n",
       "      <td>Modern cuisine</td>\n",
       "      <td>$$$$</td>\n",
       "      <td>https://guide.michelin.com/at/en/vienna/wien/r...</td>\n",
       "      <td>1</td>\n",
       "      <td>0      47.348580\\n1      47.837870\\n2      47....</td>\n",
       "    </tr>\n",
       "  </tbody>\n",
       "</table>\n",
       "</div>"
      ],
      "text/plain": [
       "            name  year   latitude  longitude            city   region zipCode  \\\n",
       "0   Kilian Stuba  2019  47.348580   10.17114  Kleinwalsertal  Austria   87568   \n",
       "1  Pfefferschiff  2019  47.837870   13.07917        Hallwang  Austria    5300   \n",
       "2      Esszimmer  2019  47.806850   13.03409        Salzburg  Austria    5020   \n",
       "3     Carpe Diem  2019  47.800010   13.04006        Salzburg  Austria    5020   \n",
       "4         Edvard  2019  48.216503   16.36852            Wien  Austria    1010   \n",
       "\n",
       "           cuisine  price                                                url  \\\n",
       "0         Creative  $$$$$  https://guide.michelin.com/at/en/vorarlberg/kl...   \n",
       "1  Classic cuisine  $$$$$  https://guide.michelin.com/at/en/salzburg-regi...   \n",
       "2         Creative  $$$$$  https://guide.michelin.com/at/en/salzburg-regi...   \n",
       "3   Market cuisine  $$$$$  https://guide.michelin.com/at/en/salzburg-regi...   \n",
       "4   Modern cuisine   $$$$  https://guide.michelin.com/at/en/vienna/wien/r...   \n",
       "\n",
       "   stars                                       location_key  \n",
       "0      1  0      47.348580\\n1      47.837870\\n2      47....  \n",
       "1      1  0      47.348580\\n1      47.837870\\n2      47....  \n",
       "2      1  0      47.348580\\n1      47.837870\\n2      47....  \n",
       "3      1  0      47.348580\\n1      47.837870\\n2      47....  \n",
       "4      1  0      47.348580\\n1      47.837870\\n2      47....  "
      ]
     },
     "execution_count": 14,
     "metadata": {},
     "output_type": "execute_result"
    }
   ],
   "source": [
    "#import the data\n",
    "#for loop to cycle through each file\n",
    "\n",
    "for i in file_names:\n",
    "    #import the data\n",
    "    michelin_data = pd.read_csv(i)\n",
    "    \n",
    "    #clear the temp df\n",
    "    temp_df = pd.DataFrame()\n",
    "    \n",
    "    #add file to DF\n",
    "    temp_df = pd.DataFrame(michelin_data)\n",
    "    \n",
    "    #create a column to add the # of stars\n",
    "    temp_df['stars'] = (file_names.index(i)+1)\n",
    "    \n",
    "    #location\n",
    "    temp_df['location_key'] = str(temp_df['latitude'])\n",
    "    \n",
    "    #append temp df to michelin_df\n",
    "    michelin_df = michelin_df.append(temp_df, ignore_index=True)\n",
    "michelin_df.head()"
   ]
  },
  {
   "cell_type": "code",
   "execution_count": 15,
   "id": "87516acb",
   "metadata": {},
   "outputs": [
    {
     "data": {
      "text/plain": [
       "name             object\n",
       "year              int64\n",
       "latitude        float64\n",
       "longitude       float64\n",
       "city             object\n",
       "region           object\n",
       "zipCode          object\n",
       "cuisine          object\n",
       "price            object\n",
       "url              object\n",
       "stars             int64\n",
       "location_key     object\n",
       "dtype: object"
      ]
     },
     "execution_count": 15,
     "metadata": {},
     "output_type": "execute_result"
    }
   ],
   "source": [
    "michelin_df.dtypes"
   ]
  },
  {
   "cell_type": "code",
   "execution_count": 6,
   "id": "ef7368a4",
   "metadata": {},
   "outputs": [],
   "source": [
    "#create a function to :\n",
    "    #loop through the different files (based on the list)\n",
    "    #clear the temp DF\n",
    "    #import the information to temp datafram\n",
    "    #write a lambda function to indicate the # of stars based on the file name (index on list +1?)\n",
    "    #create a location-key \n",
    "    #append to the perm-DF"
   ]
  },
  {
   "cell_type": "code",
   "execution_count": 7,
   "id": "84dee031",
   "metadata": {},
   "outputs": [],
   "source": [
    "# Clean the data"
   ]
  },
  {
   "cell_type": "code",
   "execution_count": 8,
   "id": "f4f73c27",
   "metadata": {},
   "outputs": [],
   "source": [
    "#join with the zomato based on location key"
   ]
  }
 ],
 "metadata": {
  "kernelspec": {
   "display_name": "PythonData",
   "language": "python",
   "name": "pythondata"
  },
  "language_info": {
   "codemirror_mode": {
    "name": "ipython",
    "version": 3
   },
   "file_extension": ".py",
   "mimetype": "text/x-python",
   "name": "python",
   "nbconvert_exporter": "python",
   "pygments_lexer": "ipython3",
   "version": "3.7.10"
  }
 },
 "nbformat": 4,
 "nbformat_minor": 5
}
