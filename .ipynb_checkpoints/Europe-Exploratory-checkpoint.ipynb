{
 "cells": [
  {
   "cell_type": "code",
   "execution_count": 2,
   "id": "e3164269",
   "metadata": {},
   "outputs": [],
   "source": [
    "import json\n",
    "import pandas as pd\n",
    "import numpy as np"
   ]
  },
  {
   "cell_type": "code",
   "execution_count": 3,
   "id": "cb44cfff",
   "metadata": {},
   "outputs": [
    {
     "name": "stderr",
     "output_type": "stream",
     "text": [
      "C:\\Users\\julia\\anaconda3\\envs\\PythonData\\lib\\site-packages\\IPython\\core\\interactiveshell.py:3166: DtypeWarning: Columns (4) have mixed types.Specify dtype option on import or set low_memory=False.\n",
      "  interactivity=interactivity, compiler=compiler, result=result)\n"
     ]
    }
   ],
   "source": [
    "#import the european restaurant data\n",
    "file_name = \"../trip_advisor/tripadvisor_european_restaurants.csv\"\n",
    "import_csv = pd.read_csv(file_name)"
   ]
  },
  {
   "cell_type": "code",
   "execution_count": 38,
   "id": "ab2640e5",
   "metadata": {},
   "outputs": [],
   "source": [
    "#import Data into DF\n",
    "euro_resto = pd.DataFrame(import_csv)"
   ]
  },
  {
   "cell_type": "code",
   "execution_count": 39,
   "id": "ab8d6d4c",
   "metadata": {},
   "outputs": [],
   "source": [
    "#drop columns not used\n",
    "euro_resto_clean = euro_resto.drop(['restaurant_link','original_location', 'claimed', 'keywords', \n",
    "                              'atmosphere', 'price_range', 'popularity_detailed', \n",
    "                              'popularity_generic', 'top_tags', 'meals','special_diets', 'features', \n",
    "                              'vegetarian_friendly', \n",
    "                              'vegan_options','gluten_free', 'original_open_hours', 'open_days_per_week',\n",
    "                              'open_hours_per_week', 'working_shifts_per_week',\n",
    "                              'reviews_count_in_default_language', 'excellent', 'very_good',\n",
    "                             'average', 'poor', 'terrible', 'food', 'service', 'value', 'atmosphere',\n",
    "                             'keywords', 'default_language'], axis=1)\n"
   ]
  },
  {
   "cell_type": "code",
   "execution_count": 174,
   "id": "db9da235",
   "metadata": {},
   "outputs": [],
   "source": [
    "#filter the dataset to only include The british Island countries\n",
    "britain_df = euro_resto_clean.loc[(euro_resto_clean['country'] == \"England\")| \n",
    "                                    (euro_resto_clean['country'] == \"Ireland\")|\n",
    "                                   (euro_resto_clean['country'] == \"Scotland\")|\n",
    "                                    (euro_resto_clean['country'] == \"Wales\")]\n"
   ]
  },
  {
   "cell_type": "code",
   "execution_count": 175,
   "id": "52c993ec",
   "metadata": {},
   "outputs": [],
   "source": []
  },
  {
   "cell_type": "code",
   "execution_count": 176,
   "id": "f50f0ec9",
   "metadata": {},
   "outputs": [],
   "source": [
    "#remove any rows that have blank latitude, longitude or price_level\n",
    "britain_df = britain_df.dropna(subset=['latitude', 'longitude', 'price_level'])"
   ]
  },
  {
   "cell_type": "code",
   "execution_count": 215,
   "id": "e263277b",
   "metadata": {},
   "outputs": [
    {
     "name": "stdout",
     "output_type": "stream",
     "text": [
      "0\n",
      "0\n"
     ]
    }
   ],
   "source": [
    "\n",
    "null_lat = britain_df['latitude'].isnull().sum()\n",
    "null_lat\n",
    "\n",
    "null_long = britain_df['longitude'].isnull().sum()\n",
    "\n",
    "print(null_lat)\n",
    "print(null_long)"
   ]
  },
  {
   "cell_type": "code",
   "execution_count": 216,
   "id": "8e43a093",
   "metadata": {
    "scrolled": true
   },
   "outputs": [],
   "source": [
    "# def truncate(n,decimals=4):\n",
    "#     multiplier = 10**3\n",
    "#     return (n*(10**3))/(10**3)\n",
    "\n",
    "#truncate latitude\n",
    "lat_list = britain_df['latitude'].tolist()\n",
    "\n",
    "lat_list_trunc = []\n",
    "\n",
    "for x in lat_list:\n",
    "    n=4\n",
    "    multiplier = 10**n\n",
    "    value = int(x*(10**n))\n",
    "    lat_list_trunc.append(value)\n",
    "    \n",
    "\n",
    "# lat_list_trunc\n"
   ]
  },
  {
   "cell_type": "code",
   "execution_count": 217,
   "id": "c5647217",
   "metadata": {},
   "outputs": [
    {
     "data": {
      "text/html": [
       "<div>\n",
       "<style scoped>\n",
       "    .dataframe tbody tr th:only-of-type {\n",
       "        vertical-align: middle;\n",
       "    }\n",
       "\n",
       "    .dataframe tbody tr th {\n",
       "        vertical-align: top;\n",
       "    }\n",
       "\n",
       "    .dataframe thead th {\n",
       "        text-align: right;\n",
       "    }\n",
       "</style>\n",
       "<table border=\"1\" class=\"dataframe\">\n",
       "  <thead>\n",
       "    <tr style=\"text-align: right;\">\n",
       "      <th></th>\n",
       "      <th>restaurant_link</th>\n",
       "      <th>restaurant_name</th>\n",
       "      <th>country</th>\n",
       "      <th>region</th>\n",
       "      <th>province</th>\n",
       "      <th>city</th>\n",
       "      <th>address</th>\n",
       "      <th>latitude</th>\n",
       "      <th>longitude</th>\n",
       "      <th>price_level</th>\n",
       "      <th>price_range</th>\n",
       "      <th>cuisines</th>\n",
       "      <th>avg_rating</th>\n",
       "      <th>total_reviews_count</th>\n",
       "      <th>default_language</th>\n",
       "      <th>lat_trunc</th>\n",
       "      <th>long_trunc</th>\n",
       "      <th>location_key</th>\n",
       "      <th>lat_trun</th>\n",
       "    </tr>\n",
       "  </thead>\n",
       "  <tbody>\n",
       "    <tr>\n",
       "      <th>478379</th>\n",
       "      <td>g10021931-d3222824</td>\n",
       "      <td>Cafe Mylor</td>\n",
       "      <td>England</td>\n",
       "      <td>Cornwall</td>\n",
       "      <td>Falmouth</td>\n",
       "      <td>Mylor Churchtown</td>\n",
       "      <td>Penarrow Road Mylor Yacht Harbour, Mylor Churc...</td>\n",
       "      <td>50.177025</td>\n",
       "      <td>-5.053397</td>\n",
       "      <td>€€-€€€</td>\n",
       "      <td>€5-€17</td>\n",
       "      <td>Cafe, British</td>\n",
       "      <td>4.5</td>\n",
       "      <td>347.0</td>\n",
       "      <td>English</td>\n",
       "      <td>501770</td>\n",
       "      <td>-5053</td>\n",
       "      <td>50177_-5053</td>\n",
       "      <td>5017702</td>\n",
       "    </tr>\n",
       "  </tbody>\n",
       "</table>\n",
       "</div>"
      ],
      "text/plain": [
       "           restaurant_link restaurant_name  country    region  province  \\\n",
       "478379  g10021931-d3222824      Cafe Mylor  England  Cornwall  Falmouth   \n",
       "\n",
       "                    city                                            address  \\\n",
       "478379  Mylor Churchtown  Penarrow Road Mylor Yacht Harbour, Mylor Churc...   \n",
       "\n",
       "         latitude  longitude price_level price_range       cuisines  \\\n",
       "478379  50.177025  -5.053397      €€-€€€      €5-€17  Cafe, British   \n",
       "\n",
       "        avg_rating  total_reviews_count default_language  lat_trunc  \\\n",
       "478379         4.5                347.0          English     501770   \n",
       "\n",
       "       long_trunc location_key lat_trun  \n",
       "478379      -5053  50177_-5053  5017702  "
      ]
     },
     "execution_count": 217,
     "metadata": {},
     "output_type": "execute_result"
    }
   ],
   "source": [
    "britain_df['lat_trunc'] = lat_list_trunc\n",
    "britain_df.head(1)"
   ]
  },
  {
   "cell_type": "code",
   "execution_count": 218,
   "id": "eb19d398",
   "metadata": {},
   "outputs": [],
   "source": [
    "#truncate longitude\n",
    "long_list = britain_df['longitude'].tolist()\n",
    "\n",
    "long_list_trunc = []\n",
    "\n",
    "for x in long_list:\n",
    "    n=4\n",
    "    multiplier = 10**n\n",
    "    value = int(x*(10**n))\n",
    "    long_list_trunc.append(value)\n",
    "    "
   ]
  },
  {
   "cell_type": "code",
   "execution_count": 219,
   "id": "39c6264a",
   "metadata": {},
   "outputs": [
    {
     "data": {
      "text/html": [
       "<div>\n",
       "<style scoped>\n",
       "    .dataframe tbody tr th:only-of-type {\n",
       "        vertical-align: middle;\n",
       "    }\n",
       "\n",
       "    .dataframe tbody tr th {\n",
       "        vertical-align: top;\n",
       "    }\n",
       "\n",
       "    .dataframe thead th {\n",
       "        text-align: right;\n",
       "    }\n",
       "</style>\n",
       "<table border=\"1\" class=\"dataframe\">\n",
       "  <thead>\n",
       "    <tr style=\"text-align: right;\">\n",
       "      <th></th>\n",
       "      <th>restaurant_link</th>\n",
       "      <th>restaurant_name</th>\n",
       "      <th>country</th>\n",
       "      <th>region</th>\n",
       "      <th>province</th>\n",
       "      <th>city</th>\n",
       "      <th>address</th>\n",
       "      <th>latitude</th>\n",
       "      <th>longitude</th>\n",
       "      <th>price_level</th>\n",
       "      <th>price_range</th>\n",
       "      <th>cuisines</th>\n",
       "      <th>avg_rating</th>\n",
       "      <th>total_reviews_count</th>\n",
       "      <th>default_language</th>\n",
       "      <th>lat_trunc</th>\n",
       "      <th>long_trunc</th>\n",
       "      <th>location_key</th>\n",
       "      <th>lat_trun</th>\n",
       "    </tr>\n",
       "  </thead>\n",
       "  <tbody>\n",
       "    <tr>\n",
       "      <th>478379</th>\n",
       "      <td>g10021931-d3222824</td>\n",
       "      <td>Cafe Mylor</td>\n",
       "      <td>England</td>\n",
       "      <td>Cornwall</td>\n",
       "      <td>Falmouth</td>\n",
       "      <td>Mylor Churchtown</td>\n",
       "      <td>Penarrow Road Mylor Yacht Harbour, Mylor Churc...</td>\n",
       "      <td>50.177025</td>\n",
       "      <td>-5.053397</td>\n",
       "      <td>€€-€€€</td>\n",
       "      <td>€5-€17</td>\n",
       "      <td>Cafe, British</td>\n",
       "      <td>4.5</td>\n",
       "      <td>347.0</td>\n",
       "      <td>English</td>\n",
       "      <td>501770</td>\n",
       "      <td>-50533</td>\n",
       "      <td>50177_-5053</td>\n",
       "      <td>5017702</td>\n",
       "    </tr>\n",
       "  </tbody>\n",
       "</table>\n",
       "</div>"
      ],
      "text/plain": [
       "           restaurant_link restaurant_name  country    region  province  \\\n",
       "478379  g10021931-d3222824      Cafe Mylor  England  Cornwall  Falmouth   \n",
       "\n",
       "                    city                                            address  \\\n",
       "478379  Mylor Churchtown  Penarrow Road Mylor Yacht Harbour, Mylor Churc...   \n",
       "\n",
       "         latitude  longitude price_level price_range       cuisines  \\\n",
       "478379  50.177025  -5.053397      €€-€€€      €5-€17  Cafe, British   \n",
       "\n",
       "        avg_rating  total_reviews_count default_language  lat_trunc  \\\n",
       "478379         4.5                347.0          English     501770   \n",
       "\n",
       "        long_trunc location_key lat_trun  \n",
       "478379      -50533  50177_-5053  5017702  "
      ]
     },
     "execution_count": 219,
     "metadata": {},
     "output_type": "execute_result"
    }
   ],
   "source": [
    "britain_df['long_trunc'] = long_list_trunc\n",
    "britain_df.head(1)"
   ]
  },
  {
   "cell_type": "code",
   "execution_count": 220,
   "id": "e73e3e1f",
   "metadata": {},
   "outputs": [],
   "source": [
    "britain_df['lat_trunc'] = britain_df['lat_trunc'].astype(str)\n",
    "britain_df['long_trunc'] = britain_df['long_trunc'].astype(str)"
   ]
  },
  {
   "cell_type": "code",
   "execution_count": 221,
   "id": "0f361207",
   "metadata": {},
   "outputs": [
    {
     "data": {
      "text/plain": [
       "restaurant_link         object\n",
       "restaurant_name         object\n",
       "country                 object\n",
       "region                  object\n",
       "province                object\n",
       "city                    object\n",
       "address                 object\n",
       "latitude               float64\n",
       "longitude              float64\n",
       "price_level             object\n",
       "price_range             object\n",
       "cuisines                object\n",
       "avg_rating             float64\n",
       "total_reviews_count    float64\n",
       "default_language        object\n",
       "lat_trunc               object\n",
       "long_trunc              object\n",
       "location_key            object\n",
       "lat_trun                object\n",
       "dtype: object"
      ]
     },
     "execution_count": 221,
     "metadata": {},
     "output_type": "execute_result"
    }
   ],
   "source": [
    "britain_df.dtypes"
   ]
  },
  {
   "cell_type": "code",
   "execution_count": 222,
   "id": "61c584c4",
   "metadata": {},
   "outputs": [],
   "source": [
    "britain_df['location_key'] = britain_df[['lat_trunc', 'long_trunc']].agg('_'.join, axis=1)"
   ]
  },
  {
   "cell_type": "code",
   "execution_count": 223,
   "id": "43e9cd02",
   "metadata": {},
   "outputs": [
    {
     "data": {
      "text/html": [
       "<div>\n",
       "<style scoped>\n",
       "    .dataframe tbody tr th:only-of-type {\n",
       "        vertical-align: middle;\n",
       "    }\n",
       "\n",
       "    .dataframe tbody tr th {\n",
       "        vertical-align: top;\n",
       "    }\n",
       "\n",
       "    .dataframe thead th {\n",
       "        text-align: right;\n",
       "    }\n",
       "</style>\n",
       "<table border=\"1\" class=\"dataframe\">\n",
       "  <thead>\n",
       "    <tr style=\"text-align: right;\">\n",
       "      <th></th>\n",
       "      <th>restaurant_link</th>\n",
       "      <th>restaurant_name</th>\n",
       "      <th>country</th>\n",
       "      <th>region</th>\n",
       "      <th>province</th>\n",
       "      <th>city</th>\n",
       "      <th>address</th>\n",
       "      <th>latitude</th>\n",
       "      <th>longitude</th>\n",
       "      <th>price_level</th>\n",
       "      <th>price_range</th>\n",
       "      <th>cuisines</th>\n",
       "      <th>avg_rating</th>\n",
       "      <th>total_reviews_count</th>\n",
       "      <th>default_language</th>\n",
       "      <th>lat_trunc</th>\n",
       "      <th>long_trunc</th>\n",
       "      <th>location_key</th>\n",
       "      <th>lat_trun</th>\n",
       "    </tr>\n",
       "  </thead>\n",
       "  <tbody>\n",
       "    <tr>\n",
       "      <th>478379</th>\n",
       "      <td>g10021931-d3222824</td>\n",
       "      <td>Cafe Mylor</td>\n",
       "      <td>England</td>\n",
       "      <td>Cornwall</td>\n",
       "      <td>Falmouth</td>\n",
       "      <td>Mylor Churchtown</td>\n",
       "      <td>Penarrow Road Mylor Yacht Harbour, Mylor Churc...</td>\n",
       "      <td>50.177025</td>\n",
       "      <td>-5.053397</td>\n",
       "      <td>€€-€€€</td>\n",
       "      <td>€5-€17</td>\n",
       "      <td>Cafe, British</td>\n",
       "      <td>4.5</td>\n",
       "      <td>347.0</td>\n",
       "      <td>English</td>\n",
       "      <td>501770</td>\n",
       "      <td>-50533</td>\n",
       "      <td>501770_-50533</td>\n",
       "      <td>5017702</td>\n",
       "    </tr>\n",
       "    <tr>\n",
       "      <th>478380</th>\n",
       "      <td>g10029240-d10081265</td>\n",
       "      <td>Subway</td>\n",
       "      <td>England</td>\n",
       "      <td>Surrey</td>\n",
       "      <td>NaN</td>\n",
       "      <td>Byfleet</td>\n",
       "      <td>39 Old Woking Road, Byfleet KT14 6LG England</td>\n",
       "      <td>51.337010</td>\n",
       "      <td>-0.504781</td>\n",
       "      <td>€</td>\n",
       "      <td>NaN</td>\n",
       "      <td>Deli</td>\n",
       "      <td>3.5</td>\n",
       "      <td>4.0</td>\n",
       "      <td>English</td>\n",
       "      <td>513370</td>\n",
       "      <td>-5047</td>\n",
       "      <td>513370_-5047</td>\n",
       "      <td>5133701</td>\n",
       "    </tr>\n",
       "    <tr>\n",
       "      <th>478382</th>\n",
       "      <td>g10029240-d11841828</td>\n",
       "      <td>Basmati tandoori</td>\n",
       "      <td>England</td>\n",
       "      <td>Surrey</td>\n",
       "      <td>NaN</td>\n",
       "      <td>Byfleet</td>\n",
       "      <td>23 High Road, Byfleet KT14 7QH England</td>\n",
       "      <td>51.339140</td>\n",
       "      <td>-0.478110</td>\n",
       "      <td>€€-€€€</td>\n",
       "      <td>€6-€11</td>\n",
       "      <td>Indian, Asian, Bangladeshi</td>\n",
       "      <td>3.0</td>\n",
       "      <td>4.0</td>\n",
       "      <td>English</td>\n",
       "      <td>513391</td>\n",
       "      <td>-4781</td>\n",
       "      <td>513391_-4781</td>\n",
       "      <td>5133914</td>\n",
       "    </tr>\n",
       "    <tr>\n",
       "      <th>478383</th>\n",
       "      <td>g10029240-d13010016</td>\n",
       "      <td>China Chef</td>\n",
       "      <td>England</td>\n",
       "      <td>Surrey</td>\n",
       "      <td>NaN</td>\n",
       "      <td>Byfleet</td>\n",
       "      <td>72 High Road Byfleet, Byfleet KT14 7QL England</td>\n",
       "      <td>51.338920</td>\n",
       "      <td>-0.476430</td>\n",
       "      <td>€€-€€€</td>\n",
       "      <td>NaN</td>\n",
       "      <td>Chinese</td>\n",
       "      <td>2.5</td>\n",
       "      <td>10.0</td>\n",
       "      <td>English</td>\n",
       "      <td>513389</td>\n",
       "      <td>-4764</td>\n",
       "      <td>513389_-4764</td>\n",
       "      <td>5133892</td>\n",
       "    </tr>\n",
       "    <tr>\n",
       "      <th>478384</th>\n",
       "      <td>g10029240-d1827365</td>\n",
       "      <td>The Plough</td>\n",
       "      <td>England</td>\n",
       "      <td>Surrey</td>\n",
       "      <td>NaN</td>\n",
       "      <td>Byfleet</td>\n",
       "      <td>104 High Road, Byfleet KT14 7QT England</td>\n",
       "      <td>51.338780</td>\n",
       "      <td>-0.474000</td>\n",
       "      <td>€€-€€€</td>\n",
       "      <td>NaN</td>\n",
       "      <td>Pub, Bar, British</td>\n",
       "      <td>3.5</td>\n",
       "      <td>32.0</td>\n",
       "      <td>English</td>\n",
       "      <td>513387</td>\n",
       "      <td>-4740</td>\n",
       "      <td>513387_-4740</td>\n",
       "      <td>5133878</td>\n",
       "    </tr>\n",
       "  </tbody>\n",
       "</table>\n",
       "</div>"
      ],
      "text/plain": [
       "            restaurant_link   restaurant_name  country    region  province  \\\n",
       "478379   g10021931-d3222824        Cafe Mylor  England  Cornwall  Falmouth   \n",
       "478380  g10029240-d10081265            Subway  England    Surrey       NaN   \n",
       "478382  g10029240-d11841828  Basmati tandoori  England    Surrey       NaN   \n",
       "478383  g10029240-d13010016        China Chef  England    Surrey       NaN   \n",
       "478384   g10029240-d1827365        The Plough  England    Surrey       NaN   \n",
       "\n",
       "                    city                                            address  \\\n",
       "478379  Mylor Churchtown  Penarrow Road Mylor Yacht Harbour, Mylor Churc...   \n",
       "478380           Byfleet       39 Old Woking Road, Byfleet KT14 6LG England   \n",
       "478382           Byfleet             23 High Road, Byfleet KT14 7QH England   \n",
       "478383           Byfleet     72 High Road Byfleet, Byfleet KT14 7QL England   \n",
       "478384           Byfleet            104 High Road, Byfleet KT14 7QT England   \n",
       "\n",
       "         latitude  longitude price_level price_range  \\\n",
       "478379  50.177025  -5.053397      €€-€€€      €5-€17   \n",
       "478380  51.337010  -0.504781           €         NaN   \n",
       "478382  51.339140  -0.478110      €€-€€€      €6-€11   \n",
       "478383  51.338920  -0.476430      €€-€€€         NaN   \n",
       "478384  51.338780  -0.474000      €€-€€€         NaN   \n",
       "\n",
       "                          cuisines  avg_rating  total_reviews_count  \\\n",
       "478379               Cafe, British         4.5                347.0   \n",
       "478380                        Deli         3.5                  4.0   \n",
       "478382  Indian, Asian, Bangladeshi         3.0                  4.0   \n",
       "478383                     Chinese         2.5                 10.0   \n",
       "478384           Pub, Bar, British         3.5                 32.0   \n",
       "\n",
       "       default_language lat_trunc long_trunc   location_key lat_trun  \n",
       "478379          English    501770     -50533  501770_-50533  5017702  \n",
       "478380          English    513370      -5047   513370_-5047  5133701  \n",
       "478382          English    513391      -4781   513391_-4781  5133914  \n",
       "478383          English    513389      -4764   513389_-4764  5133892  \n",
       "478384          English    513387      -4740   513387_-4740  5133878  "
      ]
     },
     "execution_count": 223,
     "metadata": {},
     "output_type": "execute_result"
    }
   ],
   "source": [
    "britain_df.head()"
   ]
  },
  {
   "cell_type": "code",
   "execution_count": 224,
   "id": "c929afa9",
   "metadata": {
    "scrolled": true
   },
   "outputs": [
    {
     "name": "stdout",
     "output_type": "stream",
     "text": [
      "137465\n",
      "132605\n",
      "4860\n",
      "137465\n"
     ]
    }
   ],
   "source": [
    "total_list = len(britain_df['location_key'].tolist())\n",
    "unique_list = len(britain_df['location_key'].unique().tolist())\n",
    "dupes = britain_df['location_key'].duplicated().count()\n",
    "print(total_list)\n",
    "print(unique_list)\n",
    "print(total_list-unique_list)\n",
    "print(dupes)\n"
   ]
  },
  {
   "cell_type": "code",
   "execution_count": 238,
   "id": "d652832f",
   "metadata": {},
   "outputs": [],
   "source": [
    "britain_df = britain_df.drop(['lat_trun','lat_trunc','long_trunc', 'price_range', 'default_language', 'restaurant_link'], axis=1).head(4)"
   ]
  },
  {
   "cell_type": "code",
   "execution_count": null,
   "id": "637b7460",
   "metadata": {},
   "outputs": [],
   "source": []
  },
  {
   "cell_type": "markdown",
   "id": "7df58f48",
   "metadata": {},
   "source": [
    "### Correct the price_level"
   ]
  },
  {
   "cell_type": "code",
   "execution_count": 241,
   "id": "db39d14a",
   "metadata": {},
   "outputs": [
    {
     "data": {
      "text/plain": [
       "array(['€€-€€€', '€'], dtype=object)"
      ]
     },
     "execution_count": 241,
     "metadata": {},
     "output_type": "execute_result"
    }
   ],
   "source": [
    "#check how many characters need to be corrected\n",
    "unique_price_level = britain_df['price_level'].unique()\n",
    "unique_price_level"
   ]
  },
  {
   "cell_type": "code",
   "execution_count": 244,
   "id": "3b3fbdd3",
   "metadata": {},
   "outputs": [],
   "source": [
    "#apply the map function to turn euro symbol to number\n",
    "britain_df['price_level'] = britain_df['price_level'].map({'€':1,'€€-€€€':2 })\n"
   ]
  },
  {
   "cell_type": "code",
   "execution_count": 248,
   "id": "766c2981",
   "metadata": {},
   "outputs": [
    {
     "data": {
      "text/html": [
       "<div>\n",
       "<style scoped>\n",
       "    .dataframe tbody tr th:only-of-type {\n",
       "        vertical-align: middle;\n",
       "    }\n",
       "\n",
       "    .dataframe tbody tr th {\n",
       "        vertical-align: top;\n",
       "    }\n",
       "\n",
       "    .dataframe thead th {\n",
       "        text-align: right;\n",
       "    }\n",
       "</style>\n",
       "<table border=\"1\" class=\"dataframe\">\n",
       "  <thead>\n",
       "    <tr style=\"text-align: right;\">\n",
       "      <th></th>\n",
       "      <th>restaurant_name</th>\n",
       "      <th>country</th>\n",
       "      <th>region</th>\n",
       "      <th>province</th>\n",
       "      <th>city</th>\n",
       "      <th>address</th>\n",
       "      <th>latitude</th>\n",
       "      <th>longitude</th>\n",
       "      <th>price_level</th>\n",
       "      <th>cuisines</th>\n",
       "      <th>avg_rating</th>\n",
       "      <th>total_reviews_count</th>\n",
       "      <th>location_key</th>\n",
       "    </tr>\n",
       "  </thead>\n",
       "  <tbody>\n",
       "    <tr>\n",
       "      <th>478379</th>\n",
       "      <td>Cafe Mylor</td>\n",
       "      <td>England</td>\n",
       "      <td>Cornwall</td>\n",
       "      <td>Falmouth</td>\n",
       "      <td>Mylor Churchtown</td>\n",
       "      <td>Penarrow Road Mylor Yacht Harbour, Mylor Churc...</td>\n",
       "      <td>50.177025</td>\n",
       "      <td>-5.053397</td>\n",
       "      <td>2</td>\n",
       "      <td>Cafe, British</td>\n",
       "      <td>4.5</td>\n",
       "      <td>347.0</td>\n",
       "      <td>501770_-50533</td>\n",
       "    </tr>\n",
       "    <tr>\n",
       "      <th>478380</th>\n",
       "      <td>Subway</td>\n",
       "      <td>England</td>\n",
       "      <td>Surrey</td>\n",
       "      <td>NaN</td>\n",
       "      <td>Byfleet</td>\n",
       "      <td>39 Old Woking Road, Byfleet KT14 6LG England</td>\n",
       "      <td>51.337010</td>\n",
       "      <td>-0.504781</td>\n",
       "      <td>1</td>\n",
       "      <td>Deli</td>\n",
       "      <td>3.5</td>\n",
       "      <td>4.0</td>\n",
       "      <td>513370_-5047</td>\n",
       "    </tr>\n",
       "    <tr>\n",
       "      <th>478382</th>\n",
       "      <td>Basmati tandoori</td>\n",
       "      <td>England</td>\n",
       "      <td>Surrey</td>\n",
       "      <td>NaN</td>\n",
       "      <td>Byfleet</td>\n",
       "      <td>23 High Road, Byfleet KT14 7QH England</td>\n",
       "      <td>51.339140</td>\n",
       "      <td>-0.478110</td>\n",
       "      <td>2</td>\n",
       "      <td>Indian, Asian, Bangladeshi</td>\n",
       "      <td>3.0</td>\n",
       "      <td>4.0</td>\n",
       "      <td>513391_-4781</td>\n",
       "    </tr>\n",
       "    <tr>\n",
       "      <th>478383</th>\n",
       "      <td>China Chef</td>\n",
       "      <td>England</td>\n",
       "      <td>Surrey</td>\n",
       "      <td>NaN</td>\n",
       "      <td>Byfleet</td>\n",
       "      <td>72 High Road Byfleet, Byfleet KT14 7QL England</td>\n",
       "      <td>51.338920</td>\n",
       "      <td>-0.476430</td>\n",
       "      <td>2</td>\n",
       "      <td>Chinese</td>\n",
       "      <td>2.5</td>\n",
       "      <td>10.0</td>\n",
       "      <td>513389_-4764</td>\n",
       "    </tr>\n",
       "  </tbody>\n",
       "</table>\n",
       "</div>"
      ],
      "text/plain": [
       "         restaurant_name  country    region  province              city  \\\n",
       "478379        Cafe Mylor  England  Cornwall  Falmouth  Mylor Churchtown   \n",
       "478380            Subway  England    Surrey       NaN           Byfleet   \n",
       "478382  Basmati tandoori  England    Surrey       NaN           Byfleet   \n",
       "478383        China Chef  England    Surrey       NaN           Byfleet   \n",
       "\n",
       "                                                  address   latitude  \\\n",
       "478379  Penarrow Road Mylor Yacht Harbour, Mylor Churc...  50.177025   \n",
       "478380       39 Old Woking Road, Byfleet KT14 6LG England  51.337010   \n",
       "478382             23 High Road, Byfleet KT14 7QH England  51.339140   \n",
       "478383     72 High Road Byfleet, Byfleet KT14 7QL England  51.338920   \n",
       "\n",
       "        longitude  price_level                    cuisines  avg_rating  \\\n",
       "478379  -5.053397            2               Cafe, British         4.5   \n",
       "478380  -0.504781            1                        Deli         3.5   \n",
       "478382  -0.478110            2  Indian, Asian, Bangladeshi         3.0   \n",
       "478383  -0.476430            2                     Chinese         2.5   \n",
       "\n",
       "        total_reviews_count   location_key  \n",
       "478379                347.0  501770_-50533  \n",
       "478380                  4.0   513370_-5047  \n",
       "478382                  4.0   513391_-4781  \n",
       "478383                 10.0   513389_-4764  "
      ]
     },
     "execution_count": 248,
     "metadata": {},
     "output_type": "execute_result"
    }
   ],
   "source": [
    "britain_df"
   ]
  },
  {
   "cell_type": "code",
   "execution_count": null,
   "id": "37ccde24",
   "metadata": {},
   "outputs": [],
   "source": [
    "\n"
   ]
  }
 ],
 "metadata": {
  "kernelspec": {
   "display_name": "Python 3",
   "language": "python",
   "name": "python3"
  },
  "language_info": {
   "codemirror_mode": {
    "name": "ipython",
    "version": 3
   },
   "file_extension": ".py",
   "mimetype": "text/x-python",
   "name": "python",
   "nbconvert_exporter": "python",
   "pygments_lexer": "ipython3",
   "version": "3.7.10"
  }
 },
 "nbformat": 4,
 "nbformat_minor": 5
}
