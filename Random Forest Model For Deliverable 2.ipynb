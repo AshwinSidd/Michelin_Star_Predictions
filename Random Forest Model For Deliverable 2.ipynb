{
 "cells": [
  {
   "cell_type": "code",
   "execution_count": 69,
   "id": "7d5b8fdf",
   "metadata": {},
   "outputs": [],
   "source": [
    "# Importing Linear Algebra\n",
    "import numpy as np "
   ]
  },
  {
   "cell_type": "code",
   "execution_count": null,
   "id": "20c57c78",
   "metadata": {},
   "outputs": [],
   "source": [
    "#!conda install graphviz"
   ]
  },
  {
   "cell_type": "code",
   "execution_count": 105,
   "id": "244058d7",
   "metadata": {},
   "outputs": [
    {
     "name": "stdout",
     "output_type": "stream",
     "text": [
      "Requirement already satisfied: django-extensions in d:\\anaconda\\lib\\site-packages (3.1.5)\n",
      "Requirement already satisfied: Django>=2.2 in d:\\anaconda\\lib\\site-packages (from django-extensions) (4.0.3)\n",
      "Requirement already satisfied: sqlparse>=0.2.2 in d:\\anaconda\\lib\\site-packages (from Django>=2.2->django-extensions) (0.4.2)\n",
      "Requirement already satisfied: tzdata in d:\\anaconda\\lib\\site-packages (from Django>=2.2->django-extensions) (2022.1)\n",
      "Requirement already satisfied: backports.zoneinfo in d:\\anaconda\\lib\\site-packages (from Django>=2.2->django-extensions) (0.2.1)\n",
      "Requirement already satisfied: asgiref<4,>=3.4.1 in d:\\anaconda\\lib\\site-packages (from Django>=2.2->django-extensions) (3.5.0)\n",
      "Requirement already satisfied: pyparsing in d:\\anaconda\\lib\\site-packages (2.4.7)\n",
      "Requirement already satisfied: graphviz in d:\\anaconda\\lib\\site-packages (0.19.1)\n",
      "Requirement already satisfied: pydot in d:\\anaconda\\lib\\site-packages (1.4.2)\n",
      "Requirement already satisfied: pyparsing>=2.1.4 in d:\\anaconda\\lib\\site-packages (from pydot) (2.4.7)\n",
      "Requirement already satisfied: pydotplus in d:\\anaconda\\lib\\site-packages (2.0.2)\n",
      "Requirement already satisfied: pyparsing>=2.0.1 in d:\\anaconda\\lib\\site-packages (from pydotplus) (2.4.7)\n"
     ]
    }
   ],
   "source": [
    "#Random Forest Visulization2 --Single Tree Visualization\n",
    "#Background Tool Installation\n",
    "!pip install django-extensions\n",
    "!pip install pyparsing\n",
    "!pip install graphviz\n",
    "!pip install pydot\n",
    "!pip install pydotplus\n",
    "from sklearn.tree import export_graphviz\n",
    "import pydotplus\n",
    "import graphviz"
   ]
  },
  {
   "cell_type": "code",
   "execution_count": 106,
   "id": "d735211f",
   "metadata": {},
   "outputs": [],
   "source": [
    "import os"
   ]
  },
  {
   "cell_type": "code",
   "execution_count": 107,
   "id": "b675e735",
   "metadata": {},
   "outputs": [],
   "source": [
    "# Importing Pandas for Data processing(csv file)\n",
    "import pandas as pd"
   ]
  },
  {
   "cell_type": "code",
   "execution_count": 108,
   "id": "845469de",
   "metadata": {},
   "outputs": [],
   "source": [
    "# Split the data into train and test\n",
    "from sklearn.model_selection import train_test_split"
   ]
  },
  {
   "cell_type": "code",
   "execution_count": 109,
   "id": "61328db6",
   "metadata": {},
   "outputs": [],
   "source": [
    "# Classification for Random Forest\n",
    "from sklearn.ensemble import RandomForestClassifier"
   ]
  },
  {
   "cell_type": "code",
   "execution_count": 110,
   "id": "017afdcb",
   "metadata": {},
   "outputs": [],
   "source": [
    "# Error Return and Analysis\n",
    "from sklearn.metrics import mean_squared_error"
   ]
  },
  {
   "cell_type": "code",
   "execution_count": 111,
   "id": "5c05d241",
   "metadata": {},
   "outputs": [],
   "source": [
    "# Classification return\n",
    "from sklearn.metrics import classification_report"
   ]
  },
  {
   "cell_type": "code",
   "execution_count": 112,
   "id": "8ea0445f",
   "metadata": {},
   "outputs": [
    {
     "data": {
      "text/html": [
       "<div>\n",
       "<style scoped>\n",
       "    .dataframe tbody tr th:only-of-type {\n",
       "        vertical-align: middle;\n",
       "    }\n",
       "\n",
       "    .dataframe tbody tr th {\n",
       "        vertical-align: top;\n",
       "    }\n",
       "\n",
       "    .dataframe thead th {\n",
       "        text-align: right;\n",
       "    }\n",
       "</style>\n",
       "<table border=\"1\" class=\"dataframe\">\n",
       "  <thead>\n",
       "    <tr style=\"text-align: right;\">\n",
       "      <th></th>\n",
       "      <th>name</th>\n",
       "      <th>year</th>\n",
       "      <th>latitude</th>\n",
       "      <th>longitude</th>\n",
       "      <th>city</th>\n",
       "      <th>region</th>\n",
       "      <th>zipCode</th>\n",
       "      <th>cuisine</th>\n",
       "      <th>price</th>\n",
       "      <th>url</th>\n",
       "      <th>star</th>\n",
       "    </tr>\n",
       "  </thead>\n",
       "  <tbody>\n",
       "    <tr>\n",
       "      <th>0</th>\n",
       "      <td>Amador</td>\n",
       "      <td>2019</td>\n",
       "      <td>48.25406</td>\n",
       "      <td>16.35915</td>\n",
       "      <td>Wien</td>\n",
       "      <td>Austria</td>\n",
       "      <td>1190</td>\n",
       "      <td>Creative</td>\n",
       "      <td>$$$$$</td>\n",
       "      <td>https://guide.michelin.com/at/en/vienna/wien/r...</td>\n",
       "      <td>3</td>\n",
       "    </tr>\n",
       "    <tr>\n",
       "      <th>1</th>\n",
       "      <td>Manresa</td>\n",
       "      <td>2019</td>\n",
       "      <td>37.22761</td>\n",
       "      <td>-121.98071</td>\n",
       "      <td>South San Francisco</td>\n",
       "      <td>California</td>\n",
       "      <td>95030</td>\n",
       "      <td>Contemporary</td>\n",
       "      <td>$$$$</td>\n",
       "      <td>https://guide.michelin.com/us/en/california/so...</td>\n",
       "      <td>3</td>\n",
       "    </tr>\n",
       "    <tr>\n",
       "      <th>2</th>\n",
       "      <td>Benu</td>\n",
       "      <td>2019</td>\n",
       "      <td>37.78521</td>\n",
       "      <td>-122.39876</td>\n",
       "      <td>San Francisco</td>\n",
       "      <td>California</td>\n",
       "      <td>94105</td>\n",
       "      <td>Asian</td>\n",
       "      <td>$$$$</td>\n",
       "      <td>https://guide.michelin.com/us/en/california/sa...</td>\n",
       "      <td>3</td>\n",
       "    </tr>\n",
       "    <tr>\n",
       "      <th>3</th>\n",
       "      <td>Quince</td>\n",
       "      <td>2019</td>\n",
       "      <td>37.79762</td>\n",
       "      <td>-122.40337</td>\n",
       "      <td>San Francisco</td>\n",
       "      <td>California</td>\n",
       "      <td>94133</td>\n",
       "      <td>Contemporary</td>\n",
       "      <td>$$$$</td>\n",
       "      <td>https://guide.michelin.com/us/en/california/sa...</td>\n",
       "      <td>3</td>\n",
       "    </tr>\n",
       "    <tr>\n",
       "      <th>4</th>\n",
       "      <td>Atelier Crenn</td>\n",
       "      <td>2019</td>\n",
       "      <td>37.79835</td>\n",
       "      <td>-122.43586</td>\n",
       "      <td>San Francisco</td>\n",
       "      <td>California</td>\n",
       "      <td>94123</td>\n",
       "      <td>Contemporary</td>\n",
       "      <td>$$$$</td>\n",
       "      <td>https://guide.michelin.com/us/en/california/sa...</td>\n",
       "      <td>3</td>\n",
       "    </tr>\n",
       "  </tbody>\n",
       "</table>\n",
       "</div>"
      ],
      "text/plain": [
       "            name  year  latitude  longitude                 city      region  \\\n",
       "0         Amador  2019  48.25406   16.35915                 Wien     Austria   \n",
       "1        Manresa  2019  37.22761 -121.98071  South San Francisco  California   \n",
       "2           Benu  2019  37.78521 -122.39876        San Francisco  California   \n",
       "3         Quince  2019  37.79762 -122.40337        San Francisco  California   \n",
       "4  Atelier Crenn  2019  37.79835 -122.43586        San Francisco  California   \n",
       "\n",
       "  zipCode       cuisine  price  \\\n",
       "0    1190      Creative  $$$$$   \n",
       "1   95030  Contemporary   $$$$   \n",
       "2   94105         Asian   $$$$   \n",
       "3   94133  Contemporary   $$$$   \n",
       "4   94123  Contemporary   $$$$   \n",
       "\n",
       "                                                 url  star  \n",
       "0  https://guide.michelin.com/at/en/vienna/wien/r...     3  \n",
       "1  https://guide.michelin.com/us/en/california/so...     3  \n",
       "2  https://guide.michelin.com/us/en/california/sa...     3  \n",
       "3  https://guide.michelin.com/us/en/california/sa...     3  \n",
       "4  https://guide.michelin.com/us/en/california/sa...     3  "
      ]
     },
     "execution_count": 112,
     "metadata": {},
     "output_type": "execute_result"
    }
   ],
   "source": [
    "oneStar = pd.read_csv(\"Resources/one-star-michelin-restaurants.csv\") \n",
    "twoStar = pd.read_csv(\"Resources/two-stars-michelin-restaurants.csv\") \n",
    "threeStar = pd.read_csv(\"Resources/three-stars-michelin-restaurants.csv\") \n",
    "oneStar[\"star\"] = 1 #Fill the one star sets with 1\n",
    "twoStar[\"star\"] = 2 #Fill the two star sets with 2\n",
    "threeStar[\"star\"] = 3 #Fill the three star sets with 3\n",
    "threeStar.head() #Take a peek at one of the sets"
   ]
  },
  {
   "cell_type": "code",
   "execution_count": 113,
   "id": "c01e2149",
   "metadata": {},
   "outputs": [
    {
     "data": {
      "text/html": [
       "<div>\n",
       "<style scoped>\n",
       "    .dataframe tbody tr th:only-of-type {\n",
       "        vertical-align: middle;\n",
       "    }\n",
       "\n",
       "    .dataframe tbody tr th {\n",
       "        vertical-align: top;\n",
       "    }\n",
       "\n",
       "    .dataframe thead th {\n",
       "        text-align: right;\n",
       "    }\n",
       "</style>\n",
       "<table border=\"1\" class=\"dataframe\">\n",
       "  <thead>\n",
       "    <tr style=\"text-align: right;\">\n",
       "      <th></th>\n",
       "      <th>name</th>\n",
       "      <th>year</th>\n",
       "      <th>latitude</th>\n",
       "      <th>longitude</th>\n",
       "      <th>city</th>\n",
       "      <th>region</th>\n",
       "      <th>zipCode</th>\n",
       "      <th>cuisine</th>\n",
       "      <th>price</th>\n",
       "      <th>url</th>\n",
       "      <th>star</th>\n",
       "    </tr>\n",
       "  </thead>\n",
       "  <tbody>\n",
       "    <tr>\n",
       "      <th>0</th>\n",
       "      <td>Kilian Stuba</td>\n",
       "      <td>2019</td>\n",
       "      <td>47.348580</td>\n",
       "      <td>10.17114</td>\n",
       "      <td>Kleinwalsertal</td>\n",
       "      <td>Austria</td>\n",
       "      <td>87568</td>\n",
       "      <td>Creative</td>\n",
       "      <td>$$$$$</td>\n",
       "      <td>https://guide.michelin.com/at/en/vorarlberg/kl...</td>\n",
       "      <td>1</td>\n",
       "    </tr>\n",
       "    <tr>\n",
       "      <th>1</th>\n",
       "      <td>Pfefferschiff</td>\n",
       "      <td>2019</td>\n",
       "      <td>47.837870</td>\n",
       "      <td>13.07917</td>\n",
       "      <td>Hallwang</td>\n",
       "      <td>Austria</td>\n",
       "      <td>5300</td>\n",
       "      <td>Classic cuisine</td>\n",
       "      <td>$$$$$</td>\n",
       "      <td>https://guide.michelin.com/at/en/salzburg-regi...</td>\n",
       "      <td>1</td>\n",
       "    </tr>\n",
       "    <tr>\n",
       "      <th>2</th>\n",
       "      <td>Esszimmer</td>\n",
       "      <td>2019</td>\n",
       "      <td>47.806850</td>\n",
       "      <td>13.03409</td>\n",
       "      <td>Salzburg</td>\n",
       "      <td>Austria</td>\n",
       "      <td>5020</td>\n",
       "      <td>Creative</td>\n",
       "      <td>$$$$$</td>\n",
       "      <td>https://guide.michelin.com/at/en/salzburg-regi...</td>\n",
       "      <td>1</td>\n",
       "    </tr>\n",
       "    <tr>\n",
       "      <th>3</th>\n",
       "      <td>Carpe Diem</td>\n",
       "      <td>2019</td>\n",
       "      <td>47.800010</td>\n",
       "      <td>13.04006</td>\n",
       "      <td>Salzburg</td>\n",
       "      <td>Austria</td>\n",
       "      <td>5020</td>\n",
       "      <td>Market cuisine</td>\n",
       "      <td>$$$$$</td>\n",
       "      <td>https://guide.michelin.com/at/en/salzburg-regi...</td>\n",
       "      <td>1</td>\n",
       "    </tr>\n",
       "    <tr>\n",
       "      <th>4</th>\n",
       "      <td>Edvard</td>\n",
       "      <td>2019</td>\n",
       "      <td>48.216503</td>\n",
       "      <td>16.36852</td>\n",
       "      <td>Wien</td>\n",
       "      <td>Austria</td>\n",
       "      <td>1010</td>\n",
       "      <td>Modern cuisine</td>\n",
       "      <td>$$$$</td>\n",
       "      <td>https://guide.michelin.com/at/en/vienna/wien/r...</td>\n",
       "      <td>1</td>\n",
       "    </tr>\n",
       "  </tbody>\n",
       "</table>\n",
       "</div>"
      ],
      "text/plain": [
       "            name  year   latitude  longitude            city   region zipCode  \\\n",
       "0   Kilian Stuba  2019  47.348580   10.17114  Kleinwalsertal  Austria   87568   \n",
       "1  Pfefferschiff  2019  47.837870   13.07917        Hallwang  Austria    5300   \n",
       "2      Esszimmer  2019  47.806850   13.03409        Salzburg  Austria    5020   \n",
       "3     Carpe Diem  2019  47.800010   13.04006        Salzburg  Austria    5020   \n",
       "4         Edvard  2019  48.216503   16.36852            Wien  Austria    1010   \n",
       "\n",
       "           cuisine  price                                                url  \\\n",
       "0         Creative  $$$$$  https://guide.michelin.com/at/en/vorarlberg/kl...   \n",
       "1  Classic cuisine  $$$$$  https://guide.michelin.com/at/en/salzburg-regi...   \n",
       "2         Creative  $$$$$  https://guide.michelin.com/at/en/salzburg-regi...   \n",
       "3   Market cuisine  $$$$$  https://guide.michelin.com/at/en/salzburg-regi...   \n",
       "4   Modern cuisine   $$$$  https://guide.michelin.com/at/en/vienna/wien/r...   \n",
       "\n",
       "   star  \n",
       "0     1  \n",
       "1     1  \n",
       "2     1  \n",
       "3     1  \n",
       "4     1  "
      ]
     },
     "execution_count": 113,
     "metadata": {},
     "output_type": "execute_result"
    }
   ],
   "source": [
    "datasets = [oneStar, twoStar, threeStar] #Take the three datasets\n",
    "stars = pd.concat(datasets) #Combine the datasets\n",
    "stars.head() #Take a peek at the combined dataset"
   ]
  },
  {
   "cell_type": "code",
   "execution_count": 114,
   "id": "4edb1802",
   "metadata": {},
   "outputs": [
    {
     "data": {
      "text/html": [
       "<div>\n",
       "<style scoped>\n",
       "    .dataframe tbody tr th:only-of-type {\n",
       "        vertical-align: middle;\n",
       "    }\n",
       "\n",
       "    .dataframe tbody tr th {\n",
       "        vertical-align: top;\n",
       "    }\n",
       "\n",
       "    .dataframe thead th {\n",
       "        text-align: right;\n",
       "    }\n",
       "</style>\n",
       "<table border=\"1\" class=\"dataframe\">\n",
       "  <thead>\n",
       "    <tr style=\"text-align: right;\">\n",
       "      <th></th>\n",
       "      <th>index</th>\n",
       "      <th>name</th>\n",
       "      <th>year</th>\n",
       "      <th>latitude</th>\n",
       "      <th>longitude</th>\n",
       "      <th>city</th>\n",
       "      <th>region</th>\n",
       "      <th>zipCode</th>\n",
       "      <th>cuisine</th>\n",
       "      <th>price</th>\n",
       "      <th>url</th>\n",
       "      <th>star</th>\n",
       "    </tr>\n",
       "  </thead>\n",
       "  <tbody>\n",
       "    <tr>\n",
       "      <th>0</th>\n",
       "      <td>0</td>\n",
       "      <td>Kilian Stuba</td>\n",
       "      <td>2019</td>\n",
       "      <td>47.348580</td>\n",
       "      <td>10.17114</td>\n",
       "      <td>Kleinwalsertal</td>\n",
       "      <td>Austria</td>\n",
       "      <td>87568</td>\n",
       "      <td>Creative</td>\n",
       "      <td>$$$$$</td>\n",
       "      <td>https://guide.michelin.com/at/en/vorarlberg/kl...</td>\n",
       "      <td>1</td>\n",
       "    </tr>\n",
       "    <tr>\n",
       "      <th>1</th>\n",
       "      <td>1</td>\n",
       "      <td>Pfefferschiff</td>\n",
       "      <td>2019</td>\n",
       "      <td>47.837870</td>\n",
       "      <td>13.07917</td>\n",
       "      <td>Hallwang</td>\n",
       "      <td>Austria</td>\n",
       "      <td>5300</td>\n",
       "      <td>Classic cuisine</td>\n",
       "      <td>$$$$$</td>\n",
       "      <td>https://guide.michelin.com/at/en/salzburg-regi...</td>\n",
       "      <td>1</td>\n",
       "    </tr>\n",
       "    <tr>\n",
       "      <th>2</th>\n",
       "      <td>2</td>\n",
       "      <td>Esszimmer</td>\n",
       "      <td>2019</td>\n",
       "      <td>47.806850</td>\n",
       "      <td>13.03409</td>\n",
       "      <td>Salzburg</td>\n",
       "      <td>Austria</td>\n",
       "      <td>5020</td>\n",
       "      <td>Creative</td>\n",
       "      <td>$$$$$</td>\n",
       "      <td>https://guide.michelin.com/at/en/salzburg-regi...</td>\n",
       "      <td>1</td>\n",
       "    </tr>\n",
       "    <tr>\n",
       "      <th>3</th>\n",
       "      <td>3</td>\n",
       "      <td>Carpe Diem</td>\n",
       "      <td>2019</td>\n",
       "      <td>47.800010</td>\n",
       "      <td>13.04006</td>\n",
       "      <td>Salzburg</td>\n",
       "      <td>Austria</td>\n",
       "      <td>5020</td>\n",
       "      <td>Market cuisine</td>\n",
       "      <td>$$$$$</td>\n",
       "      <td>https://guide.michelin.com/at/en/salzburg-regi...</td>\n",
       "      <td>1</td>\n",
       "    </tr>\n",
       "    <tr>\n",
       "      <th>4</th>\n",
       "      <td>4</td>\n",
       "      <td>Edvard</td>\n",
       "      <td>2019</td>\n",
       "      <td>48.216503</td>\n",
       "      <td>16.36852</td>\n",
       "      <td>Wien</td>\n",
       "      <td>Austria</td>\n",
       "      <td>1010</td>\n",
       "      <td>Modern cuisine</td>\n",
       "      <td>$$$$</td>\n",
       "      <td>https://guide.michelin.com/at/en/vienna/wien/r...</td>\n",
       "      <td>1</td>\n",
       "    </tr>\n",
       "  </tbody>\n",
       "</table>\n",
       "</div>"
      ],
      "text/plain": [
       "   index           name  year   latitude  longitude            city   region  \\\n",
       "0      0   Kilian Stuba  2019  47.348580   10.17114  Kleinwalsertal  Austria   \n",
       "1      1  Pfefferschiff  2019  47.837870   13.07917        Hallwang  Austria   \n",
       "2      2      Esszimmer  2019  47.806850   13.03409        Salzburg  Austria   \n",
       "3      3     Carpe Diem  2019  47.800010   13.04006        Salzburg  Austria   \n",
       "4      4         Edvard  2019  48.216503   16.36852            Wien  Austria   \n",
       "\n",
       "  zipCode          cuisine  price  \\\n",
       "0   87568         Creative  $$$$$   \n",
       "1    5300  Classic cuisine  $$$$$   \n",
       "2    5020         Creative  $$$$$   \n",
       "3    5020   Market cuisine  $$$$$   \n",
       "4    1010   Modern cuisine   $$$$   \n",
       "\n",
       "                                                 url  star  \n",
       "0  https://guide.michelin.com/at/en/vorarlberg/kl...     1  \n",
       "1  https://guide.michelin.com/at/en/salzburg-regi...     1  \n",
       "2  https://guide.michelin.com/at/en/salzburg-regi...     1  \n",
       "3  https://guide.michelin.com/at/en/salzburg-regi...     1  \n",
       "4  https://guide.michelin.com/at/en/vienna/wien/r...     1  "
      ]
     },
     "execution_count": 114,
     "metadata": {},
     "output_type": "execute_result"
    }
   ],
   "source": [
    "stars = stars.reset_index() #Reset the index\n",
    "stars.head() #Take a peek at the combined dataset"
   ]
  },
  {
   "cell_type": "code",
   "execution_count": 115,
   "id": "bbb50339",
   "metadata": {},
   "outputs": [
    {
     "name": "stdout",
     "output_type": "stream",
     "text": [
      "Index(['index', 'name', 'year', 'latitude', 'longitude', 'city', 'region',\n",
      "       'zipCode', 'cuisine', 'price', 'url', 'star'],\n",
      "      dtype='object')\n"
     ]
    }
   ],
   "source": [
    "print(stars.columns)"
   ]
  },
  {
   "cell_type": "code",
   "execution_count": 116,
   "id": "37ba0c2b",
   "metadata": {},
   "outputs": [],
   "source": [
    "test_percent = 0.3"
   ]
  },
  {
   "cell_type": "code",
   "execution_count": 117,
   "id": "27778c49",
   "metadata": {},
   "outputs": [],
   "source": [
    "#stars = stars.drop(stars.columns[[1,2,3,4,5,6,7,10]], axis = 1, inplace = True)\n",
    "#stars.head()"
   ]
  },
  {
   "cell_type": "code",
   "execution_count": 118,
   "id": "f200d08b",
   "metadata": {},
   "outputs": [],
   "source": [
    "#Dataset_final = pd.read_csv(\".../resources/Dataset_fianl.csv\")#AWS FILE TO CSV\n",
    "#Dataset_final.head()"
   ]
  },
  {
   "cell_type": "code",
   "execution_count": 119,
   "id": "1410dbdb",
   "metadata": {},
   "outputs": [],
   "source": [
    "#stars = datasets\n",
    "#stars = stars.reset_index()\n",
    "#stars.head()"
   ]
  },
  {
   "cell_type": "code",
   "execution_count": 120,
   "id": "c84cfdac",
   "metadata": {},
   "outputs": [
    {
     "name": "stdout",
     "output_type": "stream",
     "text": [
      "index        False\n",
      "name         False\n",
      "year         False\n",
      "latitude     False\n",
      "longitude    False\n",
      "city          True\n",
      "region       False\n",
      "zipCode       True\n",
      "cuisine      False\n",
      "price         True\n",
      "url          False\n",
      "star         False\n",
      "dtype: bool\n"
     ]
    }
   ],
   "source": [
    "print(stars.isnull().any())"
   ]
  },
  {
   "cell_type": "code",
   "execution_count": 121,
   "id": "1e38ff19",
   "metadata": {},
   "outputs": [
    {
     "name": "stdout",
     "output_type": "stream",
     "text": [
      "index        False\n",
      "name         False\n",
      "year         False\n",
      "latitude     False\n",
      "longitude    False\n",
      "city          True\n",
      "region       False\n",
      "zipCode       True\n",
      "cuisine      False\n",
      "price        False\n",
      "url          False\n",
      "star         False\n",
      "dtype: bool\n"
     ]
    }
   ],
   "source": [
    "stars[\"price\"] = stars[\"price\"].fillna(\"?\") #Fill null prices with unknown ?\n",
    "print(stars.isnull().any()) #Make sure all null values are filled"
   ]
  },
  {
   "cell_type": "code",
   "execution_count": 122,
   "id": "c04e6911",
   "metadata": {},
   "outputs": [
    {
     "name": "stdout",
     "output_type": "stream",
     "text": [
      "index        False\n",
      "name         False\n",
      "year         False\n",
      "latitude     False\n",
      "longitude    False\n",
      "city         False\n",
      "region       False\n",
      "zipCode       True\n",
      "cuisine      False\n",
      "price        False\n",
      "url          False\n",
      "star         False\n",
      "dtype: bool\n"
     ]
    }
   ],
   "source": [
    "stars[\"city\"] = stars[\"city\"].fillna(\"Hong Kong\") #Fill the null cities will Hong Kong, since all of the null ones are in HK\n",
    "print(stars.isnull().any()) #Make sure that filled the nulls"
   ]
  },
  {
   "cell_type": "code",
   "execution_count": 123,
   "id": "5b3f22d0",
   "metadata": {},
   "outputs": [
    {
     "name": "stdout",
     "output_type": "stream",
     "text": [
      "     index                    name  year   latitude   longitude  \\\n",
      "59      59            Harbor House  2019  39.135876 -123.719444   \n",
      "87      87                Temporis  2019  41.898907  -87.667250   \n",
      "137    137                 Loaf On  2019  22.379858  114.271880   \n",
      "138    138  Lei Garden (Kwun Tong)  2019  22.312672  114.224820   \n",
      "\n",
      "              city      region zipCode       cuisine price  \\\n",
      "59   San Francisco  California     NaN   Californian  $$$$   \n",
      "87         Chicago     Chicago     NaN  Contemporary  $$$$   \n",
      "137      Hong Kong   Hong Kong     NaN     Cantonese    $$   \n",
      "138      Hong Kong   Hong Kong     NaN     Cantonese     $   \n",
      "\n",
      "                                                   url  star  \n",
      "59   https://guide.michelin.com/us/en/california/sa...     1  \n",
      "87   https://guide.michelin.com/us/en/illinois/chic...     1  \n",
      "137  https://guide.michelin.com/hk/en/hong-kong-reg...     1  \n",
      "138  https://guide.michelin.com/hk/en/hong-kong-reg...     1  \n"
     ]
    }
   ],
   "source": [
    "print(stars.loc[stars[\"zipCode\"].isnull()][:4])"
   ]
  },
  {
   "cell_type": "code",
   "execution_count": 124,
   "id": "e8e51726",
   "metadata": {},
   "outputs": [
    {
     "data": {
      "text/html": [
       "<div>\n",
       "<style scoped>\n",
       "    .dataframe tbody tr th:only-of-type {\n",
       "        vertical-align: middle;\n",
       "    }\n",
       "\n",
       "    .dataframe tbody tr th {\n",
       "        vertical-align: top;\n",
       "    }\n",
       "\n",
       "    .dataframe thead th {\n",
       "        text-align: right;\n",
       "    }\n",
       "</style>\n",
       "<table border=\"1\" class=\"dataframe\">\n",
       "  <thead>\n",
       "    <tr style=\"text-align: right;\">\n",
       "      <th></th>\n",
       "      <th>index</th>\n",
       "      <th>year</th>\n",
       "      <th>latitude</th>\n",
       "      <th>longitude</th>\n",
       "      <th>star</th>\n",
       "    </tr>\n",
       "  </thead>\n",
       "  <tbody>\n",
       "    <tr>\n",
       "      <th>count</th>\n",
       "      <td>695.000000</td>\n",
       "      <td>695.000000</td>\n",
       "      <td>695.000000</td>\n",
       "      <td>695.000000</td>\n",
       "      <td>695.000000</td>\n",
       "    </tr>\n",
       "    <tr>\n",
       "      <th>mean</th>\n",
       "      <td>225.972662</td>\n",
       "      <td>2018.943885</td>\n",
       "      <td>37.260124</td>\n",
       "      <td>4.417000</td>\n",
       "      <td>1.261871</td>\n",
       "    </tr>\n",
       "    <tr>\n",
       "      <th>std</th>\n",
       "      <td>169.628712</td>\n",
       "      <td>0.230310</td>\n",
       "      <td>18.025875</td>\n",
       "      <td>81.095189</td>\n",
       "      <td>0.545270</td>\n",
       "    </tr>\n",
       "    <tr>\n",
       "      <th>min</th>\n",
       "      <td>0.000000</td>\n",
       "      <td>2018.000000</td>\n",
       "      <td>-23.634005</td>\n",
       "      <td>-123.719444</td>\n",
       "      <td>1.000000</td>\n",
       "    </tr>\n",
       "    <tr>\n",
       "      <th>25%</th>\n",
       "      <td>68.500000</td>\n",
       "      <td>2019.000000</td>\n",
       "      <td>25.040718</td>\n",
       "      <td>-73.982920</td>\n",
       "      <td>1.000000</td>\n",
       "    </tr>\n",
       "    <tr>\n",
       "      <th>50%</th>\n",
       "      <td>201.000000</td>\n",
       "      <td>2019.000000</td>\n",
       "      <td>40.727130</td>\n",
       "      <td>-0.149570</td>\n",
       "      <td>1.000000</td>\n",
       "    </tr>\n",
       "    <tr>\n",
       "      <th>75%</th>\n",
       "      <td>374.500000</td>\n",
       "      <td>2019.000000</td>\n",
       "      <td>51.508962</td>\n",
       "      <td>100.578855</td>\n",
       "      <td>1.000000</td>\n",
       "    </tr>\n",
       "    <tr>\n",
       "      <th>max</th>\n",
       "      <td>548.000000</td>\n",
       "      <td>2019.000000</td>\n",
       "      <td>63.436260</td>\n",
       "      <td>127.102570</td>\n",
       "      <td>3.000000</td>\n",
       "    </tr>\n",
       "  </tbody>\n",
       "</table>\n",
       "</div>"
      ],
      "text/plain": [
       "            index         year    latitude   longitude        star\n",
       "count  695.000000   695.000000  695.000000  695.000000  695.000000\n",
       "mean   225.972662  2018.943885   37.260124    4.417000    1.261871\n",
       "std    169.628712     0.230310   18.025875   81.095189    0.545270\n",
       "min      0.000000  2018.000000  -23.634005 -123.719444    1.000000\n",
       "25%     68.500000  2019.000000   25.040718  -73.982920    1.000000\n",
       "50%    201.000000  2019.000000   40.727130   -0.149570    1.000000\n",
       "75%    374.500000  2019.000000   51.508962  100.578855    1.000000\n",
       "max    548.000000  2019.000000   63.436260  127.102570    3.000000"
      ]
     },
     "execution_count": 124,
     "metadata": {},
     "output_type": "execute_result"
    }
   ],
   "source": [
    "stars.describe()"
   ]
  },
  {
   "cell_type": "code",
   "execution_count": 125,
   "id": "f1d43cda",
   "metadata": {},
   "outputs": [],
   "source": [
    "#pip install geopy"
   ]
  },
  {
   "cell_type": "code",
   "execution_count": 126,
   "id": "6aa0f2be",
   "metadata": {},
   "outputs": [],
   "source": [
    "import geopy"
   ]
  },
  {
   "cell_type": "code",
   "execution_count": 127,
   "id": "b0b73d4d",
   "metadata": {},
   "outputs": [
    {
     "name": "stderr",
     "output_type": "stream",
     "text": [
      "<ipython-input-127-3f38cc845b2f>:13: SettingWithCopyWarning: \n",
      "A value is trying to be set on a copy of a slice from a DataFrame\n",
      "\n",
      "See the caveats in the documentation: https://pandas.pydata.org/pandas-docs/stable/user_guide/indexing.html#returning-a-view-versus-a-copy\n",
      "  stars[\"zipCode\"][i] = location.raw[\"address\"][\"postcode\"] #Get the zip code\n",
      "<ipython-input-127-3f38cc845b2f>:17: SettingWithCopyWarning: \n",
      "A value is trying to be set on a copy of a slice from a DataFrame\n",
      "\n",
      "See the caveats in the documentation: https://pandas.pydata.org/pandas-docs/stable/user_guide/indexing.html#returning-a-view-versus-a-copy\n",
      "  stars[\"zipCode\"][i] = \"00000\" #Fill the zip code with 00000\n"
     ]
    },
    {
     "name": "stdout",
     "output_type": "stream",
     "text": [
      "index        False\n",
      "name         False\n",
      "year         False\n",
      "latitude     False\n",
      "longitude    False\n",
      "city         False\n",
      "region       False\n",
      "zipCode      False\n",
      "cuisine      False\n",
      "price        False\n",
      "url          False\n",
      "star         False\n",
      "dtype: bool\n"
     ]
    }
   ],
   "source": [
    "geolocator = geopy.Nominatim(user_agent = \"user_agent\") #Get the geolocator\n",
    "\n",
    "#For each row, fill null postcodes\n",
    "for i in range(0, len(stars.index)):\n",
    "    zipCode = stars[\"zipCode\"][i] #Get the zipcode\n",
    "    \n",
    "    #If the zipcode is null\n",
    "    if zipCode is np.nan:\n",
    "        location = geolocator.reverse((stars[\"latitude\"][i], stars[\"longitude\"][i])) #Get the zip code from the geolocator\n",
    "        \n",
    "        #Try to get the postcode/zipcode field from the locator\n",
    "        try:\n",
    "            stars[\"zipCode\"][i] = location.raw[\"address\"][\"postcode\"] #Get the zip code\n",
    "        \n",
    "        #Fill the code with 00000 if the code cannot be accessed\n",
    "        except:\n",
    "            stars[\"zipCode\"][i] = \"00000\" #Fill the zip code with 00000\n",
    "        \n",
    "print(stars.isnull().any()) #Make sure the null values have been filled"
   ]
  },
  {
   "cell_type": "code",
   "execution_count": 129,
   "id": "43055be6",
   "metadata": {},
   "outputs": [
    {
     "name": "stdout",
     "output_type": "stream",
     "text": [
      "    index          name  year   latitude   longitude           city  \\\n",
      "59     59  Harbor House  2019  39.135876 -123.719444  San Francisco   \n",
      "\n",
      "        region zipCode      cuisine price  \\\n",
      "59  California   95482  Californian  $$$$   \n",
      "\n",
      "                                                  url  star  \n",
      "59  https://guide.michelin.com/us/en/california/sa...     1  \n",
      "     index     name  year   latitude  longitude       city     region zipCode  \\\n",
      "137    137  Loaf On  2019  22.379858  114.27188  Hong Kong  Hong Kong   00000   \n",
      "\n",
      "       cuisine price                                                url  star  \n",
      "137  Cantonese    $$  https://guide.michelin.com/hk/en/hong-kong-reg...     1  \n"
     ]
    }
   ],
   "source": [
    "print(stars.loc[[59]]) #Print a row with the zip code filled\n",
    "print(stars.loc[[137]]) #Print a Hong Kong row that was null, which has no zip code field, so fill with 00000"
   ]
  },
  {
   "cell_type": "code",
   "execution_count": 130,
   "id": "f26ad3f2",
   "metadata": {},
   "outputs": [],
   "source": [
    "#GetChara: Get the most important features to the classification\n",
    "#Input: the characteristics, the model\n",
    "#Output: None\n",
    "def getChara(characteristics, forest):\n",
    "    attributes = characteristics.columns #Get the tested attributes\n",
    "    attributes = list(zip(attributes, forest.feature_importances_)) #Zip the attributes together with their coefficient\n",
    "    sortAtt = sorted(attributes, key = lambda x: x[1], reverse = True) #Sort the zipped attributes by their coefficients\n",
    "\n",
    "    print(\"According to the Random Forest, the most important factors for restaurant stars are: \") #Start printing the most important labels\n",
    "    i = 0 #Counter variable so only the top five are printed\n",
    "\n",
    "    #For each attribute in the sorted attributes\n",
    "    for label, coef in sortAtt:\n",
    "        if i < 5: #If there has not been five printed yet\n",
    "            print(label) #Print the label as an important factor\n",
    "        i += 1 #Increase i by 1\n",
    "\n",
    "#ClassifyStars: Classify which restaurants are [1] with one or more stars, or [0] without any stars.\n",
    "#Input: The dataframe for the restaurants, the labels used\n",
    "#Output: None\n",
    "def classifyStars(stars, labels):\n",
    "    star = stars[\"star\"].copy() #Get the star as our classification metric\n",
    "    star = pd.get_dummies(star) #Get dummies for the star metric\n",
    "\n",
    "    characteristics = stars.drop(columns = {\"star\"}).copy() #Get the characteristics used for classification\n",
    "    characteristics = pd.get_dummies(characteristics)\n",
    "    \n",
    "    charaTrain, charaTest, starTrain, starTest = train_test_split(characteristics, star, test_size = test_percent) #Split the dataset\n",
    "    \n",
    "    forest = RandomForestClassifier(n_estimators = 100000, random_state = 5) #Build a forest\n",
    "    forest.fit(charaTrain, starTrain) #Fit the forest model\n",
    "    \n",
    "    predict = forest.predict(charaTest) #Get a list of predictions\n",
    "    \n",
    "    print(\"Forest Accuracy: \", forest.score(charaTest, starTest)) #Print the accuracy\n",
    "    print(\"Root Mean Square Error: \", np.sqrt(mean_squared_error(starTest, predict))) #Print the root mean square error\n",
    "    print(\"Classification Report:\\n \", classification_report(starTest, predict, target_names = labels, zero_division = 0)) #Print a classification report\n",
    "    \n",
    "    #Pull out the Tree\n",
    "    SingleTree = forest.estimators_[5] #Choose the single tree\n",
    "    feature_list = list(characteristics.columns) #Create the Feature list for the tree\n",
    "    export_graphviz(SingleTree, out_file = 'Outcome/tree.dot', feature_names = feature_list, rounded = True, precision = 1) #Generate Dot file\n",
    "    graph = pydotplus.graph_from_dot_file('Outcome/tree.dot') #Visualization for The Tree\n",
    "    graph.write_pdf(\"tree.pdf\")\n",
    "    \n",
    "    getChara(characteristics, forest) #Get the important Characteristics"
   ]
  },
  {
   "cell_type": "code",
   "execution_count": 131,
   "id": "2ff8dceb",
   "metadata": {},
   "outputs": [
    {
     "name": "stdout",
     "output_type": "stream",
     "text": [
      "Forest Accuracy:  0.7990430622009569\n",
      "Root Mean Square Error:  0.3594253787238923\n",
      "Classification Report:\n",
      "                precision    recall  f1-score   support\n",
      "\n",
      "           1       0.81      0.99      0.89       168\n",
      "           2       0.00      0.00      0.00        28\n",
      "           3       0.00      0.00      0.00        13\n",
      "\n",
      "   micro avg       0.81      0.80      0.80       209\n",
      "   macro avg       0.27      0.33      0.30       209\n",
      "weighted avg       0.65      0.80      0.72       209\n",
      " samples avg       0.80      0.80      0.80       209\n",
      "\n"
     ]
    },
    {
     "ename": "InvocationException",
     "evalue": "GraphViz's executables not found",
     "output_type": "error",
     "traceback": [
      "\u001b[1;31m---------------------------------------------------------------------------\u001b[0m",
      "\u001b[1;31mInvocationException\u001b[0m                       Traceback (most recent call last)",
      "\u001b[1;32m<ipython-input-131-357cb59992a9>\u001b[0m in \u001b[0;36m<module>\u001b[1;34m\u001b[0m\n\u001b[0;32m     11\u001b[0m     \u001b[0mlabels\u001b[0m \u001b[1;33m=\u001b[0m \u001b[1;33m[\u001b[0m\u001b[1;34m\"1\"\u001b[0m\u001b[1;33m,\u001b[0m \u001b[1;34m\"2\"\u001b[0m\u001b[1;33m,\u001b[0m \u001b[1;34m\"3\"\u001b[0m\u001b[1;33m]\u001b[0m \u001b[1;31m#Set the labels\u001b[0m\u001b[1;33m\u001b[0m\u001b[1;33m\u001b[0m\u001b[0m\n\u001b[0;32m     12\u001b[0m     \u001b[1;31m#labels = [\"0\",\"1\"]\u001b[0m\u001b[1;33m\u001b[0m\u001b[1;33m\u001b[0m\u001b[1;33m\u001b[0m\u001b[0m\n\u001b[1;32m---> 13\u001b[1;33m     \u001b[0mclassifyStars\u001b[0m\u001b[1;33m(\u001b[0m\u001b[0mstars\u001b[0m\u001b[1;33m,\u001b[0m \u001b[0mlabels\u001b[0m\u001b[1;33m)\u001b[0m \u001b[1;31m#Classify by star amount\u001b[0m\u001b[1;33m\u001b[0m\u001b[1;33m\u001b[0m\u001b[0m\n\u001b[0m",
      "\u001b[1;32m<ipython-input-130-ffd6173eabae>\u001b[0m in \u001b[0;36mclassifyStars\u001b[1;34m(stars, labels)\u001b[0m\n\u001b[0;32m     42\u001b[0m     \u001b[0mexport_graphviz\u001b[0m\u001b[1;33m(\u001b[0m\u001b[0mSingleTree\u001b[0m\u001b[1;33m,\u001b[0m \u001b[0mout_file\u001b[0m \u001b[1;33m=\u001b[0m \u001b[1;34m'Outcome/tree.dot'\u001b[0m\u001b[1;33m,\u001b[0m \u001b[0mfeature_names\u001b[0m \u001b[1;33m=\u001b[0m \u001b[0mfeature_list\u001b[0m\u001b[1;33m,\u001b[0m \u001b[0mrounded\u001b[0m \u001b[1;33m=\u001b[0m \u001b[1;32mTrue\u001b[0m\u001b[1;33m,\u001b[0m \u001b[0mprecision\u001b[0m \u001b[1;33m=\u001b[0m \u001b[1;36m1\u001b[0m\u001b[1;33m)\u001b[0m \u001b[1;31m#Generate Dot file\u001b[0m\u001b[1;33m\u001b[0m\u001b[1;33m\u001b[0m\u001b[0m\n\u001b[0;32m     43\u001b[0m     \u001b[0mgraph\u001b[0m \u001b[1;33m=\u001b[0m \u001b[0mpydotplus\u001b[0m\u001b[1;33m.\u001b[0m\u001b[0mgraph_from_dot_file\u001b[0m\u001b[1;33m(\u001b[0m\u001b[1;34m'Outcome/tree.dot'\u001b[0m\u001b[1;33m)\u001b[0m \u001b[1;31m#Visualization for The Tree\u001b[0m\u001b[1;33m\u001b[0m\u001b[1;33m\u001b[0m\u001b[0m\n\u001b[1;32m---> 44\u001b[1;33m     \u001b[0mgraph\u001b[0m\u001b[1;33m.\u001b[0m\u001b[0mwrite_pdf\u001b[0m\u001b[1;33m(\u001b[0m\u001b[1;34m\"tree.pdf\"\u001b[0m\u001b[1;33m)\u001b[0m\u001b[1;33m\u001b[0m\u001b[1;33m\u001b[0m\u001b[0m\n\u001b[0m\u001b[0;32m     45\u001b[0m \u001b[1;33m\u001b[0m\u001b[0m\n\u001b[0;32m     46\u001b[0m     \u001b[0mgetChara\u001b[0m\u001b[1;33m(\u001b[0m\u001b[0mcharacteristics\u001b[0m\u001b[1;33m,\u001b[0m \u001b[0mforest\u001b[0m\u001b[1;33m)\u001b[0m \u001b[1;31m#Get the important Characteristics\u001b[0m\u001b[1;33m\u001b[0m\u001b[1;33m\u001b[0m\u001b[0m\n",
      "\u001b[1;32mD:\\ANACONDA\\lib\\site-packages\\pydotplus\\graphviz.py\u001b[0m in \u001b[0;36m<lambda>\u001b[1;34m(path, f, prog)\u001b[0m\n\u001b[0;32m   1808\u001b[0m                 \u001b[1;32mlambda\u001b[0m \u001b[0mpath\u001b[0m\u001b[1;33m,\u001b[0m\u001b[1;33m\u001b[0m\u001b[1;33m\u001b[0m\u001b[0m\n\u001b[0;32m   1809\u001b[0m                 \u001b[0mf\u001b[0m\u001b[1;33m=\u001b[0m\u001b[0mfrmt\u001b[0m\u001b[1;33m,\u001b[0m\u001b[1;33m\u001b[0m\u001b[1;33m\u001b[0m\u001b[0m\n\u001b[1;32m-> 1810\u001b[1;33m                 \u001b[0mprog\u001b[0m\u001b[1;33m=\u001b[0m\u001b[0mself\u001b[0m\u001b[1;33m.\u001b[0m\u001b[0mprog\u001b[0m\u001b[1;33m:\u001b[0m \u001b[0mself\u001b[0m\u001b[1;33m.\u001b[0m\u001b[0mwrite\u001b[0m\u001b[1;33m(\u001b[0m\u001b[0mpath\u001b[0m\u001b[1;33m,\u001b[0m \u001b[0mformat\u001b[0m\u001b[1;33m=\u001b[0m\u001b[0mf\u001b[0m\u001b[1;33m,\u001b[0m \u001b[0mprog\u001b[0m\u001b[1;33m=\u001b[0m\u001b[0mprog\u001b[0m\u001b[1;33m)\u001b[0m\u001b[1;33m\u001b[0m\u001b[1;33m\u001b[0m\u001b[0m\n\u001b[0m\u001b[0;32m   1811\u001b[0m             )\n\u001b[0;32m   1812\u001b[0m \u001b[1;33m\u001b[0m\u001b[0m\n",
      "\u001b[1;32mD:\\ANACONDA\\lib\\site-packages\\pydotplus\\graphviz.py\u001b[0m in \u001b[0;36mwrite\u001b[1;34m(self, path, prog, format)\u001b[0m\n\u001b[0;32m   1916\u001b[0m \u001b[1;33m\u001b[0m\u001b[0m\n\u001b[0;32m   1917\u001b[0m             \u001b[1;32melse\u001b[0m\u001b[1;33m:\u001b[0m\u001b[1;33m\u001b[0m\u001b[1;33m\u001b[0m\u001b[0m\n\u001b[1;32m-> 1918\u001b[1;33m                 \u001b[0mfobj\u001b[0m\u001b[1;33m.\u001b[0m\u001b[0mwrite\u001b[0m\u001b[1;33m(\u001b[0m\u001b[0mself\u001b[0m\u001b[1;33m.\u001b[0m\u001b[0mcreate\u001b[0m\u001b[1;33m(\u001b[0m\u001b[0mprog\u001b[0m\u001b[1;33m,\u001b[0m \u001b[0mformat\u001b[0m\u001b[1;33m)\u001b[0m\u001b[1;33m)\u001b[0m\u001b[1;33m\u001b[0m\u001b[1;33m\u001b[0m\u001b[0m\n\u001b[0m\u001b[0;32m   1919\u001b[0m         \u001b[1;32mfinally\u001b[0m\u001b[1;33m:\u001b[0m\u001b[1;33m\u001b[0m\u001b[1;33m\u001b[0m\u001b[0m\n\u001b[0;32m   1920\u001b[0m             \u001b[1;32mif\u001b[0m \u001b[0mclose\u001b[0m\u001b[1;33m:\u001b[0m\u001b[1;33m\u001b[0m\u001b[1;33m\u001b[0m\u001b[0m\n",
      "\u001b[1;32mD:\\ANACONDA\\lib\\site-packages\\pydotplus\\graphviz.py\u001b[0m in \u001b[0;36mcreate\u001b[1;34m(self, prog, format)\u001b[0m\n\u001b[0;32m   1957\u001b[0m             \u001b[0mself\u001b[0m\u001b[1;33m.\u001b[0m\u001b[0mprogs\u001b[0m \u001b[1;33m=\u001b[0m \u001b[0mfind_graphviz\u001b[0m\u001b[1;33m(\u001b[0m\u001b[1;33m)\u001b[0m\u001b[1;33m\u001b[0m\u001b[1;33m\u001b[0m\u001b[0m\n\u001b[0;32m   1958\u001b[0m             \u001b[1;32mif\u001b[0m \u001b[0mself\u001b[0m\u001b[1;33m.\u001b[0m\u001b[0mprogs\u001b[0m \u001b[1;32mis\u001b[0m \u001b[1;32mNone\u001b[0m\u001b[1;33m:\u001b[0m\u001b[1;33m\u001b[0m\u001b[1;33m\u001b[0m\u001b[0m\n\u001b[1;32m-> 1959\u001b[1;33m                 raise InvocationException(\n\u001b[0m\u001b[0;32m   1960\u001b[0m                     'GraphViz\\'s executables not found')\n\u001b[0;32m   1961\u001b[0m \u001b[1;33m\u001b[0m\u001b[0m\n",
      "\u001b[1;31mInvocationException\u001b[0m: GraphViz's executables not found"
     ]
    }
   ],
   "source": [
    "#Try dropping the index column\n",
    "try:\n",
    "    stars = stars.drop(columns = \"index\") #Drop the index column\n",
    "\n",
    "#Fill the except clause so it does not throw the error\n",
    "except:\n",
    "    a = 1 #Filler\n",
    "    \n",
    "#What to do after the index is dropped\n",
    "finally:\n",
    "    labels = [\"1\", \"2\", \"3\"] #Set the labels\n",
    "    #labels = [\"0\",\"1\"]\n",
    "    classifyStars(stars, labels) #Classify by star amount"
   ]
  },
  {
   "cell_type": "code",
   "execution_count": null,
   "id": "439960c3",
   "metadata": {},
   "outputs": [],
   "source": [
    "#Random Forest Visulization1 -- Actual and Predicted Values\n",
    "#"
   ]
  },
  {
   "cell_type": "code",
   "execution_count": null,
   "id": "e03db633",
   "metadata": {},
   "outputs": [],
   "source": [
    "#New prediction Interface\n",
    "row = ['Amador', 2019, 48.25406, 16.35915, Wien, Austria, 1190, Creative, '$','https://guide.michelin.com/at/en/vienna/wien', '3']\n",
    "newX = asarray[row]\n",
    "ypred = classifyStars.prediction(newX)\n",
    "print('predicted: %s' % ypred[0])"
   ]
  },
  {
   "cell_type": "code",
   "execution_count": null,
   "id": "fd945c94",
   "metadata": {},
   "outputs": [],
   "source": []
  }
 ],
 "metadata": {
  "kernelspec": {
   "display_name": "Python 3",
   "language": "python",
   "name": "python3"
  },
  "language_info": {
   "codemirror_mode": {
    "name": "ipython",
    "version": 3
   },
   "file_extension": ".py",
   "mimetype": "text/x-python",
   "name": "python",
   "nbconvert_exporter": "python",
   "pygments_lexer": "ipython3",
   "version": "3.8.8"
  }
 },
 "nbformat": 4,
 "nbformat_minor": 5
}
