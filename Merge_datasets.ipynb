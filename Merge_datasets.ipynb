{
 "cells": [
  {
   "cell_type": "code",
   "execution_count": 1,
   "id": "a714d823",
   "metadata": {},
   "outputs": [],
   "source": [
    "#import dependencies"
   ]
  },
  {
   "cell_type": "code",
   "execution_count": 5,
   "id": "827efa01",
   "metadata": {},
   "outputs": [],
   "source": [
    "#import the zomato dataset"
   ]
  },
  {
   "cell_type": "code",
   "execution_count": null,
   "id": "5d19209b",
   "metadata": {},
   "outputs": [],
   "source": [
    "#import the michelin dataset\n"
   ]
  },
  {
   "cell_type": "code",
   "execution_count": 6,
   "id": "54fffe97",
   "metadata": {},
   "outputs": [],
   "source": [
    "#join the datasets"
   ]
  },
  {
   "cell_type": "code",
   "execution_count": 7,
   "id": "83e5e75c",
   "metadata": {},
   "outputs": [],
   "source": [
    "#perform any cleaning"
   ]
  },
  {
   "cell_type": "code",
   "execution_count": null,
   "id": "dce2391b",
   "metadata": {},
   "outputs": [],
   "source": []
  }
 ],
 "metadata": {
  "kernelspec": {
   "display_name": "PythonData",
   "language": "python",
   "name": "pythondata"
  },
  "language_info": {
   "codemirror_mode": {
    "name": "ipython",
    "version": 3
   },
   "file_extension": ".py",
   "mimetype": "text/x-python",
   "name": "python",
   "nbconvert_exporter": "python",
   "pygments_lexer": "ipython3",
   "version": "3.7.10"
  }
 },
 "nbformat": 4,
 "nbformat_minor": 5
}
