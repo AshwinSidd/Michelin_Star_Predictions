{
 "cells": [
  {
   "cell_type": "code",
   "execution_count": 1,
   "id": "5fd2d16d",
   "metadata": {},
   "outputs": [],
   "source": [
    "#import dependencies"
   ]
  },
  {
   "cell_type": "code",
   "execution_count": 5,
   "id": "9a9a70f7",
   "metadata": {},
   "outputs": [],
   "source": [
    "#import the zomato dataset"
   ]
  },
  {
   "cell_type": "code",
   "execution_count": null,
   "id": "e7bd5100",
   "metadata": {},
   "outputs": [],
   "source": [
    "#import the michelin dataset\n"
   ]
  },
  {
   "cell_type": "code",
   "execution_count": 6,
   "id": "cd829907",
   "metadata": {},
   "outputs": [],
   "source": [
    "#join the datasets"
   ]
  },
  {
   "cell_type": "code",
   "execution_count": 7,
   "id": "ce41f63f",
   "metadata": {},
   "outputs": [],
   "source": [
    "#perform any cleaning"
   ]
  },
  {
   "cell_type": "code",
   "execution_count": 9,
   "id": "2b36113f",
   "metadata": {},
   "outputs": [],
   "source": [
    "#export to the database (AWS?  SQL)"
   ]
  }
 ],
 "metadata": {
  "kernelspec": {
   "display_name": "PythonData",
   "language": "python",
   "name": "pythondata"
  },
  "language_info": {
   "codemirror_mode": {
    "name": "ipython",
    "version": 3
   },
   "file_extension": ".py",
   "mimetype": "text/x-python",
   "name": "python",
   "nbconvert_exporter": "python",
   "pygments_lexer": "ipython3",
   "version": "3.7.10"
  }
 },
 "nbformat": 4,
 "nbformat_minor": 5
}
